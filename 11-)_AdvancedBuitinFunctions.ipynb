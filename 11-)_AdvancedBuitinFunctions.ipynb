{
 "cells": [
  {
   "cell_type": "code",
   "execution_count": 1,
   "id": "3a317a6b",
   "metadata": {},
   "outputs": [],
   "source": [
    "# range fonksiyonu"
   ]
  },
  {
   "cell_type": "code",
   "execution_count": 2,
   "id": "f8608264",
   "metadata": {},
   "outputs": [
    {
     "data": {
      "text/plain": [
       "range(0, 10)"
      ]
     },
     "execution_count": 2,
     "metadata": {},
     "output_type": "execute_result"
    }
   ],
   "source": [
    "range(10)"
   ]
  },
  {
   "cell_type": "code",
   "execution_count": 3,
   "id": "477bfd4d",
   "metadata": {},
   "outputs": [
    {
     "data": {
      "text/plain": [
       "[0, 1, 2, 3, 4, 5, 6, 7, 8, 9]"
      ]
     },
     "execution_count": 3,
     "metadata": {},
     "output_type": "execute_result"
    }
   ],
   "source": [
    "list(range(10)) #listeye eleman eklemenin daha kolay yolu"
   ]
  },
  {
   "cell_type": "code",
   "execution_count": 4,
   "id": "cff97488",
   "metadata": {},
   "outputs": [
    {
     "name": "stdout",
     "output_type": "stream",
     "text": [
      "0\n",
      "2\n",
      "4\n",
      "6\n",
      "8\n",
      "10\n",
      "12\n",
      "14\n",
      "16\n",
      "18\n",
      "20\n",
      "22\n",
      "24\n",
      "26\n",
      "28\n",
      "30\n",
      "32\n",
      "34\n",
      "36\n",
      "38\n"
     ]
    }
   ],
   "source": [
    "for num in list(range(20)):\n",
    "    print(num*2)\n",
    "#0 dan 20 ye kadar liste oluşturdu.sonra onları ikiyle çarptı"
   ]
  },
  {
   "cell_type": "code",
   "execution_count": 5,
   "id": "7b32e665",
   "metadata": {},
   "outputs": [
    {
     "data": {
      "text/plain": [
       "[5, 6, 7, 8, 9, 10, 11, 12, 13, 14, 15, 16, 17, 18, 19, 20, 21, 22, 23, 24]"
      ]
     },
     "execution_count": 5,
     "metadata": {},
     "output_type": "execute_result"
    }
   ],
   "source": [
    "list(range(5,25)) # 5 den 25 e kadar oluşturdu"
   ]
  },
  {
   "cell_type": "code",
   "execution_count": 6,
   "id": "441907c9",
   "metadata": {},
   "outputs": [
    {
     "data": {
      "text/plain": [
       "[5, 7, 9, 11, 13, 15, 17, 19, 21, 23]"
      ]
     },
     "execution_count": 6,
     "metadata": {},
     "output_type": "execute_result"
    }
   ],
   "source": [
    "list(range(5,25,2)) #slicing mantıgı burdada var\n",
    "# başlama indexi bitme indexi kaç adım ilerleyecegi yazılabiliyor"
   ]
  },
  {
   "cell_type": "code",
   "execution_count": 7,
   "id": "9b257dfa",
   "metadata": {},
   "outputs": [
    {
     "data": {
      "text/plain": [
       "range(20, 30)"
      ]
     },
     "execution_count": 7,
     "metadata": {},
     "output_type": "execute_result"
    }
   ],
   "source": [
    "my_list = (range(20,30)) # listeme tanımladım\n",
    "my_list"
   ]
  },
  {
   "cell_type": "code",
   "execution_count": 8,
   "id": "3f82f554",
   "metadata": {},
   "outputs": [
    {
     "name": "stdout",
     "output_type": "stream",
     "text": [
      "20\n",
      "21\n",
      "22\n",
      "23\n",
      "24\n",
      "25\n",
      "26\n",
      "27\n",
      "28\n",
      "29\n"
     ]
    }
   ],
   "source": [
    "for ix in range(len(my_list)): # listedeki eleman sayısı kadar range ile saydırdım\n",
    "    print(my_list[ix])"
   ]
  },
  {
   "cell_type": "code",
   "execution_count": 9,
   "id": "5c4e0d65",
   "metadata": {},
   "outputs": [],
   "source": [
    "#enumerate"
   ]
  },
  {
   "cell_type": "code",
   "execution_count": 10,
   "id": "9923e4b3",
   "metadata": {},
   "outputs": [
    {
     "name": "stdout",
     "output_type": "stream",
     "text": [
      "(0, 20)\n",
      "(1, 21)\n",
      "(2, 22)\n",
      "(3, 23)\n",
      "(4, 24)\n",
      "(5, 25)\n",
      "(6, 26)\n",
      "(7, 27)\n",
      "(8, 28)\n",
      "(9, 29)\n"
     ]
    }
   ],
   "source": [
    "for element in enumerate(my_list):\n",
    "    print(element)"
   ]
  },
  {
   "cell_type": "code",
   "execution_count": 11,
   "id": "3e283141",
   "metadata": {},
   "outputs": [
    {
     "name": "stdout",
     "output_type": "stream",
     "text": [
      "20\n",
      "21\n",
      "22\n",
      "23\n",
      "24\n",
      "25\n",
      "26\n",
      "27\n",
      "28\n",
      "29\n"
     ]
    }
   ],
   "source": [
    "for (x,y) in enumerate(my_list):\n",
    "    print(y) # yaptım y yazrsam değerleri x yazarsam indexleri verir"
   ]
  },
  {
   "cell_type": "code",
   "execution_count": 12,
   "id": "efd0ddb4",
   "metadata": {},
   "outputs": [],
   "source": [
    "#random"
   ]
  },
  {
   "cell_type": "code",
   "execution_count": 13,
   "id": "9f30d2e2",
   "metadata": {},
   "outputs": [],
   "source": [
    "from random import randint # bu kütüphaneyi ekledim."
   ]
  },
  {
   "cell_type": "code",
   "execution_count": 14,
   "id": "82a01903",
   "metadata": {},
   "outputs": [
    {
     "data": {
      "text/plain": [
       "69"
      ]
     },
     "execution_count": 14,
     "metadata": {},
     "output_type": "execute_result"
    }
   ],
   "source": [
    "randint(0,200) # randint ile verilen aralık arasından bir sayı yazdırıyor"
   ]
  },
  {
   "cell_type": "code",
   "execution_count": 15,
   "id": "6f906579",
   "metadata": {},
   "outputs": [
    {
     "data": {
      "text/plain": [
       "194"
      ]
     },
     "execution_count": 15,
     "metadata": {},
     "output_type": "execute_result"
    }
   ],
   "source": [
    "randint(0,200)"
   ]
  },
  {
   "cell_type": "code",
   "execution_count": 16,
   "id": "ad3ec8c0",
   "metadata": {},
   "outputs": [
    {
     "data": {
      "text/plain": [
       "72"
      ]
     },
     "execution_count": 16,
     "metadata": {},
     "output_type": "execute_result"
    }
   ],
   "source": [
    "randint(0,200)"
   ]
  },
  {
   "cell_type": "code",
   "execution_count": 17,
   "id": "4065f6f2",
   "metadata": {},
   "outputs": [
    {
     "data": {
      "text/plain": [
       "159"
      ]
     },
     "execution_count": 17,
     "metadata": {},
     "output_type": "execute_result"
    }
   ],
   "source": [
    "randint(0,200)"
   ]
  },
  {
   "cell_type": "code",
   "execution_count": 18,
   "id": "73602b5f",
   "metadata": {},
   "outputs": [
    {
     "data": {
      "text/plain": [
       "7407578337118"
      ]
     },
     "execution_count": 18,
     "metadata": {},
     "output_type": "execute_result"
    }
   ],
   "source": [
    "randint(0,10000000000000)"
   ]
  },
  {
   "cell_type": "code",
   "execution_count": 19,
   "id": "692c413c",
   "metadata": {},
   "outputs": [],
   "source": [
    "from random import shuffle"
   ]
  },
  {
   "cell_type": "code",
   "execution_count": 37,
   "id": "f87e1a30",
   "metadata": {},
   "outputs": [],
   "source": [
    "my_new_list = []\n",
    "a = 0\n",
    "while a <= 5:\n",
    "    my_new_list.append(randint(0,1000))\n",
    "    a += 1\n"
   ]
  },
  {
   "cell_type": "code",
   "execution_count": 38,
   "id": "6381776a",
   "metadata": {},
   "outputs": [
    {
     "data": {
      "text/plain": [
       "[298, 828, 414, 835, 906, 225]"
      ]
     },
     "execution_count": 38,
     "metadata": {},
     "output_type": "execute_result"
    }
   ],
   "source": [
    "my_new_list\n"
   ]
  },
  {
   "cell_type": "code",
   "execution_count": null,
   "id": "c210fedc",
   "metadata": {},
   "outputs": [],
   "source": [
    "shuffle(my_new_list)\n",
    "my_new_list"
   ]
  },
  {
   "cell_type": "code",
   "execution_count": 40,
   "id": "b2b174ef",
   "metadata": {},
   "outputs": [],
   "source": [
    "liste = [1,2,3,4,5,6,7,8,9,10]"
   ]
  },
  {
   "cell_type": "code",
   "execution_count": 41,
   "id": "9f48c96f",
   "metadata": {},
   "outputs": [],
   "source": [
    "shuffle(liste)  # listeyi karıştırır"
   ]
  },
  {
   "cell_type": "code",
   "execution_count": 42,
   "id": "99cc65a9",
   "metadata": {},
   "outputs": [
    {
     "data": {
      "text/plain": [
       "[10, 5, 1, 2, 7, 4, 6, 3, 9, 8]"
      ]
     },
     "execution_count": 42,
     "metadata": {},
     "output_type": "execute_result"
    }
   ],
   "source": [
    "liste "
   ]
  },
  {
   "cell_type": "code",
   "execution_count": null,
   "id": "d75fa606",
   "metadata": {},
   "outputs": [],
   "source": [
    "# kullanıcıya liste içi rastgele bişey yazdırmak için\n",
    "liste[randint(0,len(liste)-1)] #en yüksek index eleman sayısından 1 eksik olacagı için eksi 1 yazdık "
   ]
  },
  {
   "cell_type": "code",
   "execution_count": null,
   "id": "5eaccc30",
   "metadata": {},
   "outputs": [],
   "source": [
    "# bazı fonksiyonlarını internetten araştır.her fonksiyonu bilemezsin"
   ]
  },
  {
   "cell_type": "code",
   "execution_count": null,
   "id": "44d20e6b",
   "metadata": {},
   "outputs": [],
   "source": [
    "#zip"
   ]
  },
  {
   "cell_type": "code",
   "execution_count": null,
   "id": "5ceb9d94",
   "metadata": {},
   "outputs": [],
   "source": [
    "food_list = [\"apple\",\"banana\",\"melon\"]"
   ]
  },
  {
   "cell_type": "code",
   "execution_count": null,
   "id": "581f7a05",
   "metadata": {},
   "outputs": [],
   "source": [
    "calorie_list = [100,150,200]"
   ]
  },
  {
   "cell_type": "code",
   "execution_count": null,
   "id": "2c831bcb",
   "metadata": {},
   "outputs": [],
   "source": [
    "day_list = [\"monday\",\"tuesday\",\"wednesday\"]"
   ]
  },
  {
   "cell_type": "code",
   "execution_count": null,
   "id": "b3896c39",
   "metadata": {},
   "outputs": [],
   "source": [
    "zipped_list = zip(food_list,calorie_list,day_list)"
   ]
  },
  {
   "cell_type": "code",
   "execution_count": null,
   "id": "d0c69ca3",
   "metadata": {},
   "outputs": [],
   "source": [
    "type(zipped_list) # birleştirdikten sonra türünü list e çevirdim aşagıda"
   ]
  },
  {
   "cell_type": "code",
   "execution_count": null,
   "id": "1644d0f4",
   "metadata": {},
   "outputs": [],
   "source": [
    "list(zipped_list) # hepsini tuple ye topladı"
   ]
  },
  {
   "cell_type": "code",
   "execution_count": null,
   "id": "deef4a1e",
   "metadata": {},
   "outputs": [],
   "source": [
    "new_list = []\n",
    "my_string = \"metallica\""
   ]
  },
  {
   "cell_type": "code",
   "execution_count": null,
   "id": "86c14beb",
   "metadata": {},
   "outputs": [],
   "source": [
    "for element in my_string:\n",
    "    new_list.append(element)"
   ]
  },
  {
   "cell_type": "code",
   "execution_count": null,
   "id": "02a928e3",
   "metadata": {},
   "outputs": [],
   "source": [
    "new_list"
   ]
  },
  {
   "cell_type": "code",
   "execution_count": null,
   "id": "d1e71e9e",
   "metadata": {},
   "outputs": [],
   "source": [
    "# list comprehension"
   ]
  },
  {
   "cell_type": "code",
   "execution_count": null,
   "id": "b205891c",
   "metadata": {},
   "outputs": [],
   "source": [
    "new_list = []\n",
    "new_list = [element for element in my_string] # for döngüsünün tek satırda yazılmış haline denir"
   ]
  },
  {
   "cell_type": "code",
   "execution_count": null,
   "id": "9f58ad18",
   "metadata": {},
   "outputs": [],
   "source": [
    "new_list"
   ]
  },
  {
   "cell_type": "code",
   "execution_count": null,
   "id": "d5009746",
   "metadata": {},
   "outputs": [],
   "source": [
    "number_list = [10,20,30,40,50,60,70,81]"
   ]
  },
  {
   "cell_type": "code",
   "execution_count": null,
   "id": "8b826412",
   "metadata": {},
   "outputs": [],
   "source": [
    "new_number_list = [num/2 for num in number_list] # for döngüsünü tek satırda yazıp aktardım"
   ]
  },
  {
   "cell_type": "code",
   "execution_count": null,
   "id": "ccc61eed",
   "metadata": {},
   "outputs": [],
   "source": [
    "new_number_list"
   ]
  },
  {
   "cell_type": "code",
   "execution_count": null,
   "id": "48291f81",
   "metadata": {},
   "outputs": [],
   "source": [
    "new_number_list = []\n",
    "for num in number_list:\n",
    "    new_number_list.append(num/2)"
   ]
  },
  {
   "cell_type": "code",
   "execution_count": null,
   "id": "1e058257",
   "metadata": {},
   "outputs": [],
   "source": [
    "new_number_list # tek satırda yapılanın uzun hali ikisinide kulan fark etmez"
   ]
  },
  {
   "cell_type": "code",
   "execution_count": null,
   "id": "349e2bfe",
   "metadata": {},
   "outputs": [],
   "source": []
  }
 ],
 "metadata": {
  "kernelspec": {
   "display_name": "Python 3 (ipykernel)",
   "language": "python",
   "name": "python3"
  },
  "language_info": {
   "codemirror_mode": {
    "name": "ipython",
    "version": 3
   },
   "file_extension": ".py",
   "mimetype": "text/x-python",
   "name": "python",
   "nbconvert_exporter": "python",
   "pygments_lexer": "ipython3",
   "version": "3.11.5"
  }
 },
 "nbformat": 4,
 "nbformat_minor": 5
}
