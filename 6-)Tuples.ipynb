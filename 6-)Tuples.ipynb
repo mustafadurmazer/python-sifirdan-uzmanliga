{
 "cells": [
  {
   "cell_type": "code",
   "execution_count": 1,
   "id": "d72f8b84",
   "metadata": {},
   "outputs": [],
   "source": [
    "myList = [10,\"a\",\"b\",3.14]"
   ]
  },
  {
   "cell_type": "code",
   "execution_count": 2,
   "id": "1d7f9d2e",
   "metadata": {},
   "outputs": [
    {
     "data": {
      "text/plain": [
       "[10, 'a', 'b', 3.14]"
      ]
     },
     "execution_count": 2,
     "metadata": {},
     "output_type": "execute_result"
    }
   ],
   "source": [
    "myList"
   ]
  },
  {
   "cell_type": "code",
   "execution_count": 3,
   "id": "f89cc17b",
   "metadata": {},
   "outputs": [
    {
     "data": {
      "text/plain": [
       "10"
      ]
     },
     "execution_count": 3,
     "metadata": {},
     "output_type": "execute_result"
    }
   ],
   "source": [
    "myList[0]"
   ]
  },
  {
   "cell_type": "code",
   "execution_count": 4,
   "id": "016db5be",
   "metadata": {},
   "outputs": [],
   "source": [
    "myList[0] = 150"
   ]
  },
  {
   "cell_type": "code",
   "execution_count": 5,
   "id": "1e76f3e5",
   "metadata": {},
   "outputs": [
    {
     "data": {
      "text/plain": [
       "[150, 'a', 'b', 3.14]"
      ]
     },
     "execution_count": 5,
     "metadata": {},
     "output_type": "execute_result"
    }
   ],
   "source": [
    "myList"
   ]
  },
  {
   "cell_type": "code",
   "execution_count": 6,
   "id": "06144419",
   "metadata": {},
   "outputs": [],
   "source": [
    "#tuple"
   ]
  },
  {
   "cell_type": "code",
   "execution_count": 8,
   "id": "2303fc2b",
   "metadata": {},
   "outputs": [],
   "source": [
    "myTuple = (10,\"a\",\"b\",3.14) # listede köşeli bunda yuvarlak parantrezz"
   ]
  },
  {
   "cell_type": "code",
   "execution_count": 9,
   "id": "e5563f80",
   "metadata": {},
   "outputs": [
    {
     "data": {
      "text/plain": [
       "tuple"
      ]
     },
     "execution_count": 9,
     "metadata": {},
     "output_type": "execute_result"
    }
   ],
   "source": [
    "type(myTuple)"
   ]
  },
  {
   "cell_type": "code",
   "execution_count": 10,
   "id": "77170522",
   "metadata": {},
   "outputs": [
    {
     "data": {
      "text/plain": [
       "10"
      ]
     },
     "execution_count": 10,
     "metadata": {},
     "output_type": "execute_result"
    }
   ],
   "source": [
    "myTuple[0]"
   ]
  },
  {
   "cell_type": "code",
   "execution_count": 11,
   "id": "7b1b1426",
   "metadata": {},
   "outputs": [],
   "source": [
    "#myTuple[0]  = 100 yap diyemem tuple de listedeki gibi elemanlaro değiştirme yok"
   ]
  },
  {
   "cell_type": "code",
   "execution_count": 12,
   "id": "a1c11310",
   "metadata": {},
   "outputs": [],
   "source": [
    "# Not: tuple tanımladıktan sonra içine eleman eklenemez güncellenemez çıakrtılamaz hiçbişey yapılmaz"
   ]
  },
  {
   "cell_type": "code",
   "execution_count": 13,
   "id": "982fa67b",
   "metadata": {},
   "outputs": [
    {
     "data": {
      "text/plain": [
       "1"
      ]
     },
     "execution_count": 13,
     "metadata": {},
     "output_type": "execute_result"
    }
   ],
   "source": [
    "myTuple.index(\"a\") #indexini veriyor"
   ]
  },
  {
   "cell_type": "code",
   "execution_count": 15,
   "id": "57767964",
   "metadata": {},
   "outputs": [
    {
     "data": {
      "text/plain": [
       "1"
      ]
     },
     "execution_count": 15,
     "metadata": {},
     "output_type": "execute_result"
    }
   ],
   "source": [
    "myTuple.count(\"a\") # sayısını veriyor"
   ]
  },
  {
   "cell_type": "code",
   "execution_count": 16,
   "id": "ee842083",
   "metadata": {},
   "outputs": [],
   "source": [
    "#genellikle kütüphanlerde kullanılır değiştirilmesin kurcalanmasın diye"
   ]
  },
  {
   "cell_type": "code",
   "execution_count": 17,
   "id": "67e084e1",
   "metadata": {},
   "outputs": [],
   "source": [
    "# illa değişmesi gerekiyorsa şu yapılabilir:"
   ]
  },
  {
   "cell_type": "code",
   "execution_count": 18,
   "id": "da4b4310",
   "metadata": {},
   "outputs": [],
   "source": [
    "resultTuple = (10,100,20)"
   ]
  },
  {
   "cell_type": "code",
   "execution_count": 19,
   "id": "319d72ba",
   "metadata": {},
   "outputs": [
    {
     "data": {
      "text/plain": [
       "(10, 100, 20)"
      ]
     },
     "execution_count": 19,
     "metadata": {},
     "output_type": "execute_result"
    }
   ],
   "source": [
    "resultTuple"
   ]
  },
  {
   "cell_type": "code",
   "execution_count": 20,
   "id": "cdfd461f",
   "metadata": {},
   "outputs": [],
   "source": [
    "resultList = list(resultTuple)"
   ]
  },
  {
   "cell_type": "code",
   "execution_count": 22,
   "id": "c1608cd2",
   "metadata": {},
   "outputs": [
    {
     "data": {
      "text/plain": [
       "[10, 100, 20]"
      ]
     },
     "execution_count": 22,
     "metadata": {},
     "output_type": "execute_result"
    }
   ],
   "source": [
    "resultList #tuple deki verileri listeye aktardım"
   ]
  },
  {
   "cell_type": "code",
   "execution_count": null,
   "id": "2583409e",
   "metadata": {},
   "outputs": [],
   "source": []
  }
 ],
 "metadata": {
  "kernelspec": {
   "display_name": "Python 3 (ipykernel)",
   "language": "python",
   "name": "python3"
  },
  "language_info": {
   "codemirror_mode": {
    "name": "ipython",
    "version": 3
   },
   "file_extension": ".py",
   "mimetype": "text/x-python",
   "name": "python",
   "nbconvert_exporter": "python",
   "pygments_lexer": "ipython3",
   "version": "3.11.5"
  }
 },
 "nbformat": 4,
 "nbformat_minor": 5
}
