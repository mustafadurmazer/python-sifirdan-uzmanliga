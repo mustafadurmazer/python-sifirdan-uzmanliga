{
 "cells": [
  {
   "cell_type": "code",
   "execution_count": 1,
   "id": "0c983b5c",
   "metadata": {},
   "outputs": [],
   "source": [
    "my_list = [10,20,30,40,50,60,70]"
   ]
  },
  {
   "cell_type": "code",
   "execution_count": 4,
   "id": "abf29cf0",
   "metadata": {},
   "outputs": [
    {
     "name": "stdout",
     "output_type": "stream",
     "text": [
      "10\n",
      "20\n",
      "30\n",
      "40\n",
      "50\n",
      "60\n",
      "70\n"
     ]
    }
   ],
   "source": [
    "for i in my_list: # burdaki i c deki local değişken olan i\n",
    "    print(i) # yukarda yazan şey my_listteki her eleman(i)için demektir\n",
    "# bunları sırayla yapıyor (0.indisten itibaren)"
   ]
  },
  {
   "cell_type": "code",
   "execution_count": 9,
   "id": "7190cd31",
   "metadata": {},
   "outputs": [
    {
     "name": "stdout",
     "output_type": "stream",
     "text": [
      "döngü başladı\n",
      "4.0\n",
      "8.0\n",
      "12.0\n",
      "16.0\n",
      "20.0\n",
      "24.0\n",
      "28.0\n",
      "döngü bitti\n"
     ]
    }
   ],
   "source": [
    "print(\"döngü başladı\")\n",
    "for x in my_list:\n",
    "    new = x / 5 * 2\n",
    "    print(new)\n",
    "print(\"döngü bitti\") # baştaki ve sondaki printlerin döngüyle alakası yok."
   ]
  },
  {
   "cell_type": "code",
   "execution_count": 7,
   "id": "8e656c21",
   "metadata": {},
   "outputs": [
    {
     "data": {
      "text/plain": [
       "28.0"
      ]
     },
     "execution_count": 7,
     "metadata": {},
     "output_type": "execute_result"
    }
   ],
   "source": [
    "new # en sonki döngü değerini verir"
   ]
  },
  {
   "cell_type": "code",
   "execution_count": 11,
   "id": "b6a171fe",
   "metadata": {},
   "outputs": [
    {
     "name": "stdout",
     "output_type": "stream",
     "text": [
      "30\n",
      "60\n"
     ]
    }
   ],
   "source": [
    "for x in my_list: # döngü ve ifle listedeki 6 ya tam bölünen sayıları yazdırdım.\n",
    "    if x % 6 == 0:\n",
    "        print(x)"
   ]
  },
  {
   "cell_type": "code",
   "execution_count": 12,
   "id": "c6a978b3",
   "metadata": {},
   "outputs": [],
   "source": [
    "number_list = [1,2,3,4,5,6,7,8,9,10]"
   ]
  },
  {
   "cell_type": "code",
   "execution_count": 13,
   "id": "2ef51bc3",
   "metadata": {},
   "outputs": [
    {
     "name": "stdout",
     "output_type": "stream",
     "text": [
      "2\n",
      "4\n",
      "6\n",
      "8\n",
      "10\n"
     ]
    }
   ],
   "source": [
    "for cıft in number_list:\n",
    "    if cıft % 2 == 0: \n",
    "        print(cıft)  # 2 ye bölünen sqyıları yazdırdım\n",
    "        "
   ]
  },
  {
   "cell_type": "code",
   "execution_count": 14,
   "id": "5feb6edc",
   "metadata": {},
   "outputs": [],
   "source": [
    "my_string = \"mustafa durmazer\""
   ]
  },
  {
   "cell_type": "code",
   "execution_count": 16,
   "id": "5149b365",
   "metadata": {},
   "outputs": [
    {
     "name": "stdout",
     "output_type": "stream",
     "text": [
      "m\n",
      "u\n",
      "s\n",
      "t\n",
      "a\n",
      "f\n",
      "a\n",
      " \n",
      "d\n",
      "u\n",
      "r\n",
      "m\n",
      "a\n",
      "z\n",
      "e\n",
      "r\n"
     ]
    }
   ],
   "source": [
    "for a in my_string: #for kullanmak için sadece sayı olması gerekmiyor stringlerle de yapılıyor\n",
    "    print(a)"
   ]
  },
  {
   "cell_type": "code",
   "execution_count": 17,
   "id": "4a223d66",
   "metadata": {},
   "outputs": [],
   "source": [
    "my_tuple = (10,20,30,40)"
   ]
  },
  {
   "cell_type": "code",
   "execution_count": 19,
   "id": "b630c604",
   "metadata": {},
   "outputs": [
    {
     "name": "stdout",
     "output_type": "stream",
     "text": [
      "32\n",
      "62\n",
      "92\n",
      "122\n"
     ]
    }
   ],
   "source": [
    "for b in my_tuple:  # tuple değiştirilemez ama döngüde kullanılabilr\n",
    "    print(b * 3 + 2)"
   ]
  },
  {
   "cell_type": "code",
   "execution_count": 23,
   "id": "7729cf03",
   "metadata": {},
   "outputs": [],
   "source": [
    "my_new_list = [(\"a\",\"b\"),(\"c\",\"d\"),(\"e\",\"f\"),(\"g\",\"h\")]"
   ]
  },
  {
   "cell_type": "code",
   "execution_count": 24,
   "id": "a93f431d",
   "metadata": {},
   "outputs": [
    {
     "data": {
      "text/plain": [
       "4"
      ]
     },
     "execution_count": 24,
     "metadata": {},
     "output_type": "execute_result"
    }
   ],
   "source": [
    "len(my_new_list)"
   ]
  },
  {
   "cell_type": "code",
   "execution_count": 25,
   "id": "24c26cbb",
   "metadata": {},
   "outputs": [
    {
     "data": {
      "text/plain": [
       "2"
      ]
     },
     "execution_count": 25,
     "metadata": {},
     "output_type": "execute_result"
    }
   ],
   "source": [
    "len(my_new_list[1])"
   ]
  },
  {
   "cell_type": "code",
   "execution_count": 26,
   "id": "11cd51a4",
   "metadata": {},
   "outputs": [],
   "source": [
    "# tuple unpacking"
   ]
  },
  {
   "cell_type": "code",
   "execution_count": 27,
   "id": "a6882e11",
   "metadata": {},
   "outputs": [
    {
     "data": {
      "text/plain": [
       "'b'"
      ]
     },
     "execution_count": 27,
     "metadata": {},
     "output_type": "execute_result"
    }
   ],
   "source": [
    "my_new_list[0][1]"
   ]
  },
  {
   "cell_type": "code",
   "execution_count": 29,
   "id": "f75be39f",
   "metadata": {},
   "outputs": [
    {
     "name": "stdout",
     "output_type": "stream",
     "text": [
      "a\n",
      "c\n",
      "e\n",
      "g\n"
     ]
    }
   ],
   "source": [
    "for (x,y) in my_new_list: # listedeki 2 elemanlı birimlerden 1. elemanı yazdırdım\n",
    "    print(x)"
   ]
  },
  {
   "cell_type": "code",
   "execution_count": 34,
   "id": "8bf36c88",
   "metadata": {},
   "outputs": [
    {
     "name": "stdout",
     "output_type": "stream",
     "text": [
      "b\n",
      "d\n",
      "f\n",
      "h\n"
     ]
    }
   ],
   "source": [
    "for (x,y) in my_new_list: # eleman sayısından fazlasını azydıramazsın\n",
    "    print(y)  # x,y,z yazdıramazsın\n",
    "    # my_new_list i 3 4 yada 5 elemanlı olarak da yazdırabilirim"
   ]
  },
  {
   "cell_type": "code",
   "execution_count": 35,
   "id": "7c302733",
   "metadata": {},
   "outputs": [],
   "source": [
    "# setteki çalışma mantıgı da aynıdır"
   ]
  },
  {
   "cell_type": "code",
   "execution_count": 1,
   "id": "6f0fedf9",
   "metadata": {},
   "outputs": [],
   "source": [
    "my_dictionary = {\"k1\":100,\"k2\":200,\"k3\":300}"
   ]
  },
  {
   "cell_type": "code",
   "execution_count": 2,
   "id": "ea4bc39e",
   "metadata": {},
   "outputs": [
    {
     "name": "stdout",
     "output_type": "stream",
     "text": [
      "k1\n",
      "k2\n",
      "k3\n"
     ]
    }
   ],
   "source": [
    "for element in my_dictionary:\n",
    "    print(element)"
   ]
  },
  {
   "cell_type": "code",
   "execution_count": 3,
   "id": "619b3df3",
   "metadata": {},
   "outputs": [
    {
     "data": {
      "text/plain": [
       "dict_items([('k1', 100), ('k2', 200), ('k3', 300)])"
      ]
     },
     "execution_count": 3,
     "metadata": {},
     "output_type": "execute_result"
    }
   ],
   "source": [
    "my_dictionary.items()"
   ]
  },
  {
   "cell_type": "code",
   "execution_count": 4,
   "id": "b1837207",
   "metadata": {},
   "outputs": [
    {
     "data": {
      "text/plain": [
       "dict_keys(['k1', 'k2', 'k3'])"
      ]
     },
     "execution_count": 4,
     "metadata": {},
     "output_type": "execute_result"
    }
   ],
   "source": [
    "my_dictionary.keys()"
   ]
  },
  {
   "cell_type": "code",
   "execution_count": 5,
   "id": "e4763bb1",
   "metadata": {},
   "outputs": [
    {
     "data": {
      "text/plain": [
       "dict_values([100, 200, 300])"
      ]
     },
     "execution_count": 5,
     "metadata": {},
     "output_type": "execute_result"
    }
   ],
   "source": [
    "my_dictionary.values()"
   ]
  },
  {
   "cell_type": "code",
   "execution_count": 6,
   "id": "c60574ab",
   "metadata": {},
   "outputs": [],
   "source": [
    "#bunlar için for döngüsünde şu kullanılabilir."
   ]
  },
  {
   "cell_type": "code",
   "execution_count": 7,
   "id": "713ee438",
   "metadata": {},
   "outputs": [
    {
     "name": "stdout",
     "output_type": "stream",
     "text": [
      "100\n",
      "200\n",
      "300\n"
     ]
    }
   ],
   "source": [
    "for x in my_dictionary.values():\n",
    "    print(x)\n",
    "    \n",
    "    "
   ]
  },
  {
   "cell_type": "code",
   "execution_count": 54,
   "id": "7eee7145",
   "metadata": {},
   "outputs": [],
   "source": [
    "# continue-break-pass"
   ]
  },
  {
   "cell_type": "code",
   "execution_count": 9,
   "id": "0edf3e74",
   "metadata": {},
   "outputs": [],
   "source": [
    "my_list = [10,20,30,40,50,60,70]"
   ]
  },
  {
   "cell_type": "code",
   "execution_count": 12,
   "id": "a05c7fa3",
   "metadata": {},
   "outputs": [
    {
     "name": "stdout",
     "output_type": "stream",
     "text": [
      "10\n",
      "20\n",
      "30\n",
      "40\n",
      "yes\n"
     ]
    }
   ],
   "source": [
    "# görev 40 ı bulunca çık\n",
    "for x in my_list:\n",
    "    print(x)\n",
    "    if x == 40:\n",
    "        print(\"yes\")\n",
    "        break# burada döngüden çıkmadıgım için 40 dan sonra yazdırmaya devam etti"
   ]
  },
  {
   "cell_type": "code",
   "execution_count": 77,
   "id": "d1a041e6",
   "metadata": {},
   "outputs": [
    {
     "data": {
      "text/plain": [
       "True"
      ]
     },
     "execution_count": 77,
     "metadata": {},
     "output_type": "execute_result"
    }
   ],
   "source": [
    "40 in my_list # varmı diye kontrol ettik"
   ]
  },
  {
   "cell_type": "code",
   "execution_count": 78,
   "id": "a90ca661",
   "metadata": {},
   "outputs": [
    {
     "name": "stdout",
     "output_type": "stream",
     "text": [
      "10\n",
      "20\n",
      "30\n",
      "40\n",
      "yes\n"
     ]
    }
   ],
   "source": [
    "# görev 40 ı bulunca çık\n",
    "for x in my_list:\n",
    "    print(x)\n",
    "    if x == 40:\n",
    "        print(\"yes\")\n",
    "        break  # 40 dan sonra döngüden çıktı"
   ]
  },
  {
   "cell_type": "code",
   "execution_count": 81,
   "id": "434bafe8",
   "metadata": {},
   "outputs": [
    {
     "name": "stdout",
     "output_type": "stream",
     "text": [
      "10\n",
      "20\n",
      "30\n",
      "40\n",
      "50\n",
      "60\n",
      "70\n"
     ]
    }
   ],
   "source": [
    "for a in my_list:\n",
    "    print(a)\n",
    "    if a == 40:\n",
    "        continue\n",
    "        print(\"yes\")\n",
    "# continue yazıldığı yerde dur ondan sonrasını çalıştırma bi sonraki döngüden devam et"
   ]
  },
  {
   "cell_type": "code",
   "execution_count": 14,
   "id": "6b190be0",
   "metadata": {},
   "outputs": [],
   "source": [
    "for a in my_list:\n",
    "    if a == 40:\n",
    "        continue\n",
    "        print(a)  # hiçbir şey yazdırmadı anladım burayı"
   ]
  },
  {
   "cell_type": "code",
   "execution_count": 86,
   "id": "f2093f85",
   "metadata": {},
   "outputs": [],
   "source": [
    "for i in my_list:\n",
    "    pass\n",
    "# daha öncelikli bir iş yaparken hata vermesin diye yapılır\n",
    "# tamamlanmış kodda genelde görünmez\n",
    "# pass kullanılmasaydı hata verirdi"
   ]
  },
  {
   "cell_type": "markdown",
   "id": "86c0e441",
   "metadata": {},
   "source": [
    "# while"
   ]
  },
  {
   "cell_type": "code",
   "execution_count": 87,
   "id": "83d6e82c",
   "metadata": {},
   "outputs": [],
   "source": [
    "x = 0"
   ]
  },
  {
   "cell_type": "code",
   "execution_count": 100,
   "id": "44c48792",
   "metadata": {},
   "outputs": [],
   "source": [
    "while x < 10:\n",
    "    print(x)\n",
    "    x = x + 1  # 10 a varasıya kadar yazdırıyor\n",
    "# genelde böyle kullanılır"
   ]
  },
  {
   "cell_type": "code",
   "execution_count": 91,
   "id": "626c9dad",
   "metadata": {},
   "outputs": [],
   "source": [
    "#while nin şartı sağlanınca biter sağlanıncaya kadar devam eder"
   ]
  },
  {
   "cell_type": "code",
   "execution_count": 97,
   "id": "6daf39f1",
   "metadata": {},
   "outputs": [
    {
     "name": "stdout",
     "output_type": "stream",
     "text": [
      "20 in last_list\n"
     ]
    }
   ],
   "source": [
    "last_list = [10,20,30]\n",
    "while 20 in last_list:\n",
    "    print(\"20 in last_list\") # bu şekilde sonsuz döngüdür\n",
    "    last_list.remove(20) # kaldırsaydım sonsuz döngü"
   ]
  },
  {
   "cell_type": "code",
   "execution_count": 99,
   "id": "a0d638a6",
   "metadata": {},
   "outputs": [
    {
     "name": "stdout",
     "output_type": "stream",
     "text": [
      "20 in last_list\n",
      "20 in last_list\n"
     ]
    }
   ],
   "source": [
    "last_list = [10,20,30]\n",
    "while 20 in last_list:\n",
    "    print(\"20 in last_list\")\n",
    "    last_list.pop()"
   ]
  },
  {
   "cell_type": "code",
   "execution_count": 104,
   "id": "ebfffdc2",
   "metadata": {},
   "outputs": [
    {
     "name": "stdout",
     "output_type": "stream",
     "text": [
      "lastlist : 20\n"
     ]
    }
   ],
   "source": [
    "last_list = [10,20,30]\n",
    "print(f\"lastlist : {last_list[1]}\")"
   ]
  },
  {
   "cell_type": "code",
   "execution_count": 105,
   "id": "ec7292a6",
   "metadata": {},
   "outputs": [
    {
     "name": "stdout",
     "output_type": "stream",
     "text": [
      "enter name mustafa\n"
     ]
    }
   ],
   "source": [
    "name = input(\"enter name \")"
   ]
  },
  {
   "cell_type": "code",
   "execution_count": 107,
   "id": "6e9f3536",
   "metadata": {},
   "outputs": [
    {
     "name": "stdout",
     "output_type": "stream",
     "text": [
      "welcome mustafa\n"
     ]
    }
   ],
   "source": [
    "print(f\"welcome {name}\") # c deki yuzde d f lf kullanımının python versiyonudur"
   ]
  },
  {
   "cell_type": "code",
   "execution_count": 109,
   "id": "a888fc70",
   "metadata": {},
   "outputs": [
    {
     "name": "stdout",
     "output_type": "stream",
     "text": [
      "welcome mustafa\n"
     ]
    }
   ],
   "source": [
    "print(\"welcome\",name) # usttekının farklı bir yoludur"
   ]
  },
  {
   "cell_type": "code",
   "execution_count": 114,
   "id": "ca687e30",
   "metadata": {},
   "outputs": [],
   "source": [
    "b = 0"
   ]
  },
  {
   "cell_type": "code",
   "execution_count": 116,
   "id": "a335af52",
   "metadata": {},
   "outputs": [],
   "source": [
    "while b <= 20:\n",
    "    print(f\"b değişkeni: {b}\")\n",
    "    b += 1\n",
    "# BU ÖNEMLİ UNUTMAA"
   ]
  },
  {
   "cell_type": "code",
   "execution_count": null,
   "id": "00c6eb8f",
   "metadata": {},
   "outputs": [],
   "source": []
  }
 ],
 "metadata": {
  "kernelspec": {
   "display_name": "Python 3 (ipykernel)",
   "language": "python",
   "name": "python3"
  },
  "language_info": {
   "codemirror_mode": {
    "name": "ipython",
    "version": 3
   },
   "file_extension": ".py",
   "mimetype": "text/x-python",
   "name": "python",
   "nbconvert_exporter": "python",
   "pygments_lexer": "ipython3",
   "version": "3.11.5"
  }
 },
 "nbformat": 4,
 "nbformat_minor": 5
}
