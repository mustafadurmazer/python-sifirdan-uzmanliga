{
 "cells": [
  {
   "cell_type": "code",
   "execution_count": 1,
   "id": "837807de",
   "metadata": {},
   "outputs": [],
   "source": [
    "atilName = \"Atil\""
   ]
  },
  {
   "cell_type": "code",
   "execution_count": 2,
   "id": "040f7799",
   "metadata": {},
   "outputs": [],
   "source": [
    "atilAge = 90"
   ]
  },
  {
   "cell_type": "code",
   "execution_count": 3,
   "id": "d80b5581",
   "metadata": {},
   "outputs": [],
   "source": [
    "# herkesin özelliklerini teker teker yapamk zor oldugundan class kullanılır"
   ]
  },
  {
   "cell_type": "code",
   "execution_count": 103,
   "id": "1e9ec93c",
   "metadata": {},
   "outputs": [],
   "source": [
    "class Person(): #class ların başı genelde büyük harfle yazılır\n",
    "    # bu aşagıdaki name age genderi yazmana gerek yok yazmasanda olur\n",
    "    # bu sadece pythona özeldir \n",
    "    # initializer method\n",
    "    # zorunlu tutmak istemediklerim person kısmına yazılır\n",
    "    job = \"\"\n",
    "    weight = 75\n",
    "    def __init__(self,name,age,gender): # sınıf içinde fonksiyon tanımlandıgında parantez içine self yazılır\n",
    "        # her obje oluşturuluşunda burdaki fonksiyon çalıştırılıcak ve her özelliği soracak\n",
    "        # name = nameInput gibi kafa karıştırıcı şeyler kullanmamak için self var\n",
    "        # zorunlu tutmak istediklerim init fonksiyonun içine yazılır\n",
    "        self.name = name\n",
    "        self.age = age\n",
    "        self.gender = gender\n",
    "        print(\"init excuted\")\n",
    "    # method\n",
    "    def test(self):\n",
    "        print(\"test\")\n",
    "    def printName(self):\n",
    "        print(self.name)\n",
    "    # SELF KULLANMAK HER ZAMAN ZORUNLU OLMAZSA OLMAZ\n",
    "    # burdan direk fonksiyonun içine erişip yazdırıyor\n",
    "    # hiçbir parametre almasam bile fonksiyon parantezine self yazmalıyım"
   ]
  },
  {
   "cell_type": "code",
   "execution_count": 104,
   "id": "9d96b934",
   "metadata": {},
   "outputs": [
    {
     "name": "stdout",
     "output_type": "stream",
     "text": [
      "init excuted\n"
     ]
    }
   ],
   "source": [
    "mustafa = Person(\"Mustafa\",20,\"Male\") # yukarda fonksiyona 3 obje ekledigimiz için 3 tane girdi vermeliyim"
   ]
  },
  {
   "cell_type": "code",
   "execution_count": 105,
   "id": "540dddf6",
   "metadata": {},
   "outputs": [],
   "source": [
    "#atil = Person() # ınputları girmeden bu vardı çalışınca hata verir"
   ]
  },
  {
   "cell_type": "code",
   "execution_count": 106,
   "id": "293d2801",
   "metadata": {},
   "outputs": [
    {
     "data": {
      "text/plain": [
       "__main__.Person"
      ]
     },
     "execution_count": 106,
     "metadata": {},
     "output_type": "execute_result"
    }
   ],
   "source": [
    "type(mustafa)"
   ]
  },
  {
   "cell_type": "code",
   "execution_count": 107,
   "id": "c33bfe37",
   "metadata": {},
   "outputs": [
    {
     "data": {
      "text/plain": [
       "'Mustafa'"
      ]
     },
     "execution_count": 107,
     "metadata": {},
     "output_type": "execute_result"
    }
   ],
   "source": [
    "mustafa.name"
   ]
  },
  {
   "cell_type": "code",
   "execution_count": 108,
   "id": "917033e4",
   "metadata": {},
   "outputs": [
    {
     "data": {
      "text/plain": [
       "20"
      ]
     },
     "execution_count": 108,
     "metadata": {},
     "output_type": "execute_result"
    }
   ],
   "source": [
    "mustafa.age"
   ]
  },
  {
   "cell_type": "code",
   "execution_count": 109,
   "id": "45297277",
   "metadata": {},
   "outputs": [
    {
     "data": {
      "text/plain": [
       "'Male'"
      ]
     },
     "execution_count": 109,
     "metadata": {},
     "output_type": "execute_result"
    }
   ],
   "source": [
    "mustafa.gender"
   ]
  },
  {
   "cell_type": "code",
   "execution_count": 110,
   "id": "ba95e70c",
   "metadata": {},
   "outputs": [
    {
     "name": "stdout",
     "output_type": "stream",
     "text": [
      "Mustafa\n"
     ]
    }
   ],
   "source": [
    "mustafa.printName()"
   ]
  },
  {
   "cell_type": "code",
   "execution_count": 111,
   "id": "c39feeb5",
   "metadata": {},
   "outputs": [],
   "source": [
    "mustafa.job = \"Developer\""
   ]
  },
  {
   "cell_type": "code",
   "execution_count": 112,
   "id": "e4036d3f",
   "metadata": {},
   "outputs": [
    {
     "data": {
      "text/plain": [
       "'Developer'"
      ]
     },
     "execution_count": 112,
     "metadata": {},
     "output_type": "execute_result"
    }
   ],
   "source": [
    "mustafa.job"
   ]
  },
  {
   "cell_type": "code",
   "execution_count": 115,
   "id": "0001f378",
   "metadata": {},
   "outputs": [
    {
     "data": {
      "text/plain": [
       "75"
      ]
     },
     "execution_count": 115,
     "metadata": {},
     "output_type": "execute_result"
    }
   ],
   "source": [
    "mustafa.weight # yukarda hazır yazdıgım değeri okudu\n",
    "# istersem değiştirebilirim"
   ]
  },
  {
   "cell_type": "code",
   "execution_count": 150,
   "id": "ec06d835",
   "metadata": {},
   "outputs": [],
   "source": [
    "class Dog():\n",
    "    year = 7\n",
    "    def __init__(self,age = 5): # buraya yazdıgın self hariç her değeri kullanıcı girmek zorunda\n",
    "        self.age = age\n",
    "        self.humanAge1 = age * self.year # alttaki fonksiyonla aynı mantıktadır\n",
    "    def humanAge(self):\n",
    "        return self.age * self.year # yada sondaki self.year yerine Dog.year olarak da yazılabilir"
   ]
  },
  {
   "cell_type": "code",
   "execution_count": 151,
   "id": "c42e2929",
   "metadata": {},
   "outputs": [],
   "source": [
    "myDog = Dog(3)"
   ]
  },
  {
   "cell_type": "code",
   "execution_count": 152,
   "id": "673949ef",
   "metadata": {},
   "outputs": [
    {
     "data": {
      "text/plain": [
       "3"
      ]
     },
     "execution_count": 152,
     "metadata": {},
     "output_type": "execute_result"
    }
   ],
   "source": [
    "myDog.age"
   ]
  },
  {
   "cell_type": "code",
   "execution_count": 153,
   "id": "b77b123d",
   "metadata": {},
   "outputs": [
    {
     "data": {
      "text/plain": [
       "21"
      ]
     },
     "execution_count": 153,
     "metadata": {},
     "output_type": "execute_result"
    }
   ],
   "source": [
    "myDog.humanAge()"
   ]
  },
  {
   "cell_type": "code",
   "execution_count": 154,
   "id": "17fabc0b",
   "metadata": {},
   "outputs": [
    {
     "data": {
      "text/plain": [
       "21"
      ]
     },
     "execution_count": 154,
     "metadata": {},
     "output_type": "execute_result"
    }
   ],
   "source": [
    "myDog.humanAge1"
   ]
  },
  {
   "cell_type": "code",
   "execution_count": 155,
   "id": "dc868e8f",
   "metadata": {},
   "outputs": [],
   "source": [
    "barley = Dog()"
   ]
  },
  {
   "cell_type": "code",
   "execution_count": 157,
   "id": "f4184735",
   "metadata": {},
   "outputs": [
    {
     "data": {
      "text/plain": [
       "5"
      ]
     },
     "execution_count": 157,
     "metadata": {},
     "output_type": "execute_result"
    }
   ],
   "source": [
    "barley.age # yukarda hazır tanımladıgım değeri yazdırdı"
   ]
  },
  {
   "cell_type": "code",
   "execution_count": 158,
   "id": "2a769abc",
   "metadata": {},
   "outputs": [
    {
     "data": {
      "text/plain": [
       "35"
      ]
     },
     "execution_count": 158,
     "metadata": {},
     "output_type": "execute_result"
    }
   ],
   "source": [
    "barley.humanAge1"
   ]
  },
  {
   "cell_type": "code",
   "execution_count": null,
   "id": "faa3d3a3",
   "metadata": {},
   "outputs": [],
   "source": []
  }
 ],
 "metadata": {
  "kernelspec": {
   "display_name": "Python 3 (ipykernel)",
   "language": "python",
   "name": "python3"
  },
  "language_info": {
   "codemirror_mode": {
    "name": "ipython",
    "version": 3
   },
   "file_extension": ".py",
   "mimetype": "text/x-python",
   "name": "python",
   "nbconvert_exporter": "python",
   "pygments_lexer": "ipython3",
   "version": "3.11.5"
  }
 },
 "nbformat": 4,
 "nbformat_minor": 5
}
