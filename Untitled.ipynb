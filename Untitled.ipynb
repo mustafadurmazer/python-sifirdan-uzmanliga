{
 "cells": [
  {
   "cell_type": "code",
   "execution_count": 1,
   "id": "9dedf36f",
   "metadata": {},
   "outputs": [
    {
     "ename": "NameError",
     "evalue": "name 'bardodDizisi' is not defined",
     "output_type": "error",
     "traceback": [
      "\u001b[1;31m---------------------------------------------------------------------------\u001b[0m",
      "\u001b[1;31mNameError\u001b[0m                                 Traceback (most recent call last)",
      "Cell \u001b[1;32mIn[1], line 9\u001b[0m\n\u001b[0;32m      7\u001b[0m         \u001b[38;5;28;01melse\u001b[39;00m:\n\u001b[0;32m      8\u001b[0m             \u001b[38;5;28;01mcontinue\u001b[39;00m\n\u001b[1;32m----> 9\u001b[0m xyzfunc(bardodDizisi)\n\u001b[0;32m     10\u001b[0m newList1\n",
      "\u001b[1;31mNameError\u001b[0m: name 'bardodDizisi' is not defined"
     ]
    }
   ],
   "source": [
    "barkodDizisi = [\"ABC231\",\"SA3123XYZ\",\"XYZA123Q\",\"QRE1231KJ\",\"X112QGL\"]\n",
    "newList1 = []\n",
    "def xyzfunc(*args):\n",
    "    for i in args:\n",
    "        if \"XYZ\" in i:\n",
    "            newList1.append(i)\n",
    "        else:\n",
    "            continue\n",
    "xyzfunc(bardodDizisi)\n",
    "newList1 "
   ]
  },
  {
   "cell_type": "code",
   "execution_count": null,
   "id": "fc61557d",
   "metadata": {},
   "outputs": [],
   "source": []
  }
 ],
 "metadata": {
  "kernelspec": {
   "display_name": "Python 3 (ipykernel)",
   "language": "python",
   "name": "python3"
  },
  "language_info": {
   "codemirror_mode": {
    "name": "ipython",
    "version": 3
   },
   "file_extension": ".py",
   "mimetype": "text/x-python",
   "name": "python",
   "nbconvert_exporter": "python",
   "pygments_lexer": "ipython3",
   "version": "3.11.5"
  }
 },
 "nbformat": 4,
 "nbformat_minor": 5
}
