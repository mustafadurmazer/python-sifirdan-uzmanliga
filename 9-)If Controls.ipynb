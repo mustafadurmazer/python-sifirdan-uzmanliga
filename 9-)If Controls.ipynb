{
 "cells": [
  {
   "cell_type": "code",
   "execution_count": 1,
   "id": "2e161b29",
   "metadata": {},
   "outputs": [],
   "source": [
    "x = 5\n",
    "y = 2"
   ]
  },
  {
   "cell_type": "code",
   "execution_count": 2,
   "id": "6c1f0775",
   "metadata": {},
   "outputs": [
    {
     "data": {
      "text/plain": [
       "True"
      ]
     },
     "execution_count": 2,
     "metadata": {},
     "output_type": "execute_result"
    }
   ],
   "source": [
    "x > 2"
   ]
  },
  {
   "cell_type": "code",
   "execution_count": 3,
   "id": "54920242",
   "metadata": {},
   "outputs": [
    {
     "data": {
      "text/plain": [
       "False"
      ]
     },
     "execution_count": 3,
     "metadata": {},
     "output_type": "execute_result"
    }
   ],
   "source": [
    "y > x"
   ]
  },
  {
   "cell_type": "code",
   "execution_count": 4,
   "id": "13ada357",
   "metadata": {},
   "outputs": [],
   "source": [
    "y = 5"
   ]
  },
  {
   "cell_type": "code",
   "execution_count": 7,
   "id": "ec7d4585",
   "metadata": {},
   "outputs": [
    {
     "data": {
      "text/plain": [
       "True"
      ]
     },
     "execution_count": 7,
     "metadata": {},
     "output_type": "execute_result"
    }
   ],
   "source": [
    "x >= y #önce küçüktür büyüktür sonra eşittir"
   ]
  },
  {
   "cell_type": "code",
   "execution_count": 8,
   "id": "7d50b9ff",
   "metadata": {},
   "outputs": [
    {
     "data": {
      "text/plain": [
       "True"
      ]
     },
     "execution_count": 8,
     "metadata": {},
     "output_type": "execute_result"
    }
   ],
   "source": [
    "x >= 5.0"
   ]
  },
  {
   "cell_type": "code",
   "execution_count": 9,
   "id": "0432f2d6",
   "metadata": {},
   "outputs": [
    {
     "data": {
      "text/plain": [
       "False"
      ]
     },
     "execution_count": 9,
     "metadata": {},
     "output_type": "execute_result"
    }
   ],
   "source": [
    "x >= 5.000000000001"
   ]
  },
  {
   "cell_type": "code",
   "execution_count": 10,
   "id": "5474f999",
   "metadata": {},
   "outputs": [],
   "source": [
    "x = 10"
   ]
  },
  {
   "cell_type": "code",
   "execution_count": 11,
   "id": "357885cc",
   "metadata": {},
   "outputs": [],
   "source": [
    "y = 8"
   ]
  },
  {
   "cell_type": "code",
   "execution_count": 14,
   "id": "43b08ad8",
   "metadata": {},
   "outputs": [],
   "source": [
    "x = y # y nin değerini x e koy"
   ]
  },
  {
   "cell_type": "code",
   "execution_count": 13,
   "id": "4e3b86ab",
   "metadata": {},
   "outputs": [
    {
     "data": {
      "text/plain": [
       "8"
      ]
     },
     "execution_count": 13,
     "metadata": {},
     "output_type": "execute_result"
    }
   ],
   "source": [
    "x "
   ]
  },
  {
   "cell_type": "code",
   "execution_count": 15,
   "id": "0d7313b9",
   "metadata": {},
   "outputs": [
    {
     "data": {
      "text/plain": [
       "True"
      ]
     },
     "execution_count": 15,
     "metadata": {},
     "output_type": "execute_result"
    }
   ],
   "source": [
    "x == y # eşit mi diye kontrol ederken"
   ]
  },
  {
   "cell_type": "code",
   "execution_count": 16,
   "id": "8a5c27ae",
   "metadata": {},
   "outputs": [
    {
     "data": {
      "text/plain": [
       "False"
      ]
     },
     "execution_count": 16,
     "metadata": {},
     "output_type": "execute_result"
    }
   ],
   "source": [
    "x != y # eşit değil mi diye sorarken"
   ]
  },
  {
   "cell_type": "code",
   "execution_count": 17,
   "id": "3daa2949",
   "metadata": {},
   "outputs": [
    {
     "data": {
      "text/plain": [
       "True"
      ]
     },
     "execution_count": 17,
     "metadata": {},
     "output_type": "execute_result"
    }
   ],
   "source": [
    " 2 < 4 and 4 > 1 # and de iki tarafta doğru olmak zorunda"
   ]
  },
  {
   "cell_type": "code",
   "execution_count": 18,
   "id": "ebc7762b",
   "metadata": {},
   "outputs": [
    {
     "data": {
      "text/plain": [
       "False"
      ]
     },
     "execution_count": 18,
     "metadata": {},
     "output_type": "execute_result"
    }
   ],
   "source": [
    "2 < 4 and 1 > 5 # bir taraf yanlış oldugu için yanlış döndürdü"
   ]
  },
  {
   "cell_type": "code",
   "execution_count": 20,
   "id": "11e555ca",
   "metadata": {},
   "outputs": [
    {
     "data": {
      "text/plain": [
       "True"
      ]
     },
     "execution_count": 20,
     "metadata": {},
     "output_type": "execute_result"
    }
   ],
   "source": [
    "2 < 5 or 5 > 12 # veya dediğimiz için bir tarafın doğru olması yeterli"
   ]
  },
  {
   "cell_type": "code",
   "execution_count": 21,
   "id": "42595283",
   "metadata": {},
   "outputs": [],
   "source": [
    "# ve için and veya için or kullanılır"
   ]
  },
  {
   "cell_type": "code",
   "execution_count": 23,
   "id": "04c6b79e",
   "metadata": {},
   "outputs": [
    {
     "data": {
      "text/plain": [
       "False"
      ]
     },
     "execution_count": 23,
     "metadata": {},
     "output_type": "execute_result"
    }
   ],
   "source": [
    "not 1 == 1 # sonuc neyse tersine cevirir"
   ]
  },
  {
   "cell_type": "code",
   "execution_count": 24,
   "id": "b26b39e7",
   "metadata": {},
   "outputs": [
    {
     "data": {
      "text/plain": [
       "False"
      ]
     },
     "execution_count": 24,
     "metadata": {},
     "output_type": "execute_result"
    }
   ],
   "source": [
    "not 1 == 1 # 1 == 1 true olmalıyken not oldugu için false oldu"
   ]
  },
  {
   "cell_type": "code",
   "execution_count": 25,
   "id": "725f2f88",
   "metadata": {},
   "outputs": [
    {
     "data": {
      "text/plain": [
       "True"
      ]
     },
     "execution_count": 25,
     "metadata": {},
     "output_type": "execute_result"
    }
   ],
   "source": [
    "10 in [10,20,30,40] # in içinde varmı yok mu diye sorgularken işe yarar"
   ]
  },
  {
   "cell_type": "code",
   "execution_count": 27,
   "id": "231f222d",
   "metadata": {},
   "outputs": [
    {
     "data": {
      "text/plain": [
       "True"
      ]
     },
     "execution_count": 27,
     "metadata": {},
     "output_type": "execute_result"
    }
   ],
   "source": [
    "5 not in [6,7,8,9,0] # not in yok değil mi anlamına geliyor yok evet yok dedi"
   ]
  },
  {
   "cell_type": "code",
   "execution_count": 28,
   "id": "9e524c70",
   "metadata": {},
   "outputs": [],
   "source": [
    "# in listeler ve set için rahatca kullanılabılır"
   ]
  },
  {
   "cell_type": "code",
   "execution_count": 29,
   "id": "8e0d8359",
   "metadata": {},
   "outputs": [],
   "source": [
    "my_dict = {\"a\":10,\"b\":20,\"c\":30}"
   ]
  },
  {
   "cell_type": "code",
   "execution_count": 30,
   "id": "ac71f62d",
   "metadata": {},
   "outputs": [
    {
     "data": {
      "text/plain": [
       "False"
      ]
     },
     "execution_count": 30,
     "metadata": {},
     "output_type": "execute_result"
    }
   ],
   "source": [
    "10 in my_dict # değere bakmaz anahatara bakar o yüzden false döndü"
   ]
  },
  {
   "cell_type": "code",
   "execution_count": 32,
   "id": "f2123769",
   "metadata": {},
   "outputs": [
    {
     "data": {
      "text/plain": [
       "True"
      ]
     },
     "execution_count": 32,
     "metadata": {},
     "output_type": "execute_result"
    }
   ],
   "source": [
    "10 in my_dict.values() # değişkenlere baktığı için bu doğru"
   ]
  },
  {
   "cell_type": "code",
   "execution_count": 35,
   "id": "0cbba68d",
   "metadata": {},
   "outputs": [
    {
     "data": {
      "text/plain": [
       "True"
      ]
     },
     "execution_count": 35,
     "metadata": {},
     "output_type": "execute_result"
    }
   ],
   "source": [
    " \"b\" in my_dict.keys() # anahtarlar içinde b varmı diyo var"
   ]
  },
  {
   "cell_type": "code",
   "execution_count": 36,
   "id": "61b55584",
   "metadata": {},
   "outputs": [],
   "source": [
    "my_superhero = \"batman\""
   ]
  },
  {
   "cell_type": "code",
   "execution_count": 41,
   "id": "1f40f6ca",
   "metadata": {},
   "outputs": [
    {
     "name": "stdout",
     "output_type": "stream",
     "text": [
      "mustafa\n"
     ]
    }
   ],
   "source": [
    "if my_superhero == \"batman\":\n",
    "    print(\"mustafa\")\n",
    "# python da parantez olmadığı için tab kadar  boşluk bırakmak gerekiyor    "
   ]
  },
  {
   "cell_type": "code",
   "execution_count": 11,
   "id": "4b1dd88c",
   "metadata": {},
   "outputs": [],
   "source": [
    "my_name = \"mustafa\""
   ]
  },
  {
   "cell_type": "code",
   "execution_count": 12,
   "id": "590d4663",
   "metadata": {},
   "outputs": [
    {
     "name": "stdout",
     "output_type": "stream",
     "text": [
      "if e dahil değil bu kısım\n"
     ]
    }
   ],
   "source": [
    "if my_name != \"mustafa\": # if e dahil olan kısım tab kadar boşlukla işaretli\n",
    "    print(\"hellooo\")\n",
    "print(\"if e dahil değil bu kısım\")\n",
    "# önemli c deki parantezin görevini tab kadar boşluk yapıyor"
   ]
  },
  {
   "cell_type": "code",
   "execution_count": 50,
   "id": "fdc6f3a8",
   "metadata": {},
   "outputs": [
    {
     "name": "stdout",
     "output_type": "stream",
     "text": [
      "musdi\n"
     ]
    }
   ],
   "source": [
    "if 3 > 2:\n",
    "    print(\"musdi\")"
   ]
  },
  {
   "cell_type": "code",
   "execution_count": 51,
   "id": "fc8cc71e",
   "metadata": {},
   "outputs": [
    {
     "name": "stdout",
     "output_type": "stream",
     "text": [
      "afatsum\n"
     ]
    }
   ],
   "source": [
    "if 4 > 2:\n",
    "    print(\"afatsum\")"
   ]
  },
  {
   "cell_type": "code",
   "execution_count": 8,
   "id": "0d91d626",
   "metadata": {},
   "outputs": [
    {
     "name": "stdout",
     "output_type": "stream",
     "text": [
      "enter your superhero :aquaman\n"
     ]
    }
   ],
   "source": [
    "my_superhero = input(\"enter your superhero :\")"
   ]
  },
  {
   "cell_type": "code",
   "execution_count": 9,
   "id": "99716c89",
   "metadata": {},
   "outputs": [
    {
     "name": "stdout",
     "output_type": "stream",
     "text": [
      "su\n"
     ]
    }
   ],
   "source": [
    "if my_superhero == \"batman\":\n",
    "    print(\"siyah\")\n",
    "elif my_superhero == \"aquaman\":\n",
    "    print(\"su\")\n",
    "elif my_superhero == \"spiderman\":\n",
    "    print(\"örümcek\")\n"
   ]
  },
  {
   "cell_type": "code",
   "execution_count": 13,
   "id": "fffb6164",
   "metadata": {},
   "outputs": [],
   "source": [
    "if 0:\n",
    "    printf(\"1\")"
   ]
  },
  {
   "cell_type": "code",
   "execution_count": 14,
   "id": "832ff800",
   "metadata": {},
   "outputs": [
    {
     "name": "stdout",
     "output_type": "stream",
     "text": [
      "0\n"
     ]
    }
   ],
   "source": [
    "if 1:\n",
    "    print(\"0\")"
   ]
  },
  {
   "cell_type": "code",
   "execution_count": 16,
   "id": "70133afb",
   "metadata": {},
   "outputs": [
    {
     "name": "stdout",
     "output_type": "stream",
     "text": [
      "nabermusdi\n"
     ]
    }
   ],
   "source": [
    "if True:\n",
    "    print(\"nabermusdi\")"
   ]
  },
  {
   "cell_type": "code",
   "execution_count": 17,
   "id": "11b06e91",
   "metadata": {},
   "outputs": [],
   "source": [
    "# not: c deki else if python da elif tir"
   ]
  },
  {
   "cell_type": "code",
   "execution_count": 18,
   "id": "5d89917f",
   "metadata": {},
   "outputs": [
    {
     "name": "stdout",
     "output_type": "stream",
     "text": [
      "enter name: mustafa\n"
     ]
    }
   ],
   "source": [
    "name = input(\"enter name: \")"
   ]
  },
  {
   "cell_type": "code",
   "execution_count": 24,
   "id": "d7a4e46b",
   "metadata": {},
   "outputs": [
    {
     "name": "stdout",
     "output_type": "stream",
     "text": [
      "adını bilmiyorum\n"
     ]
    }
   ],
   "source": [
    "if name == \"ahmet\":\n",
    "    print(\"adın ahmet\")\n",
    "elif name == \"mehmet\":\n",
    "    print(\"adın mehmet\")\n",
    "elif name == \"cagla\":\n",
    "    print(\"adın cagla\")\n",
    "else :\n",
    "    print(\"adını bilmiyorum\") #son sart else"
   ]
  },
  {
   "cell_type": "code",
   "execution_count": 22,
   "id": "3760eac2",
   "metadata": {},
   "outputs": [],
   "source": [
    "# bütün elif ler bittiyse ve hiçbiri olmadıysa en son else kullanılır bu da en sonra şarta tekabul eder"
   ]
  },
  {
   "cell_type": "code",
   "execution_count": 25,
   "id": "58a2acf7",
   "metadata": {},
   "outputs": [],
   "source": [
    "age = 18"
   ]
  },
  {
   "cell_type": "code",
   "execution_count": 30,
   "id": "8bbf8884",
   "metadata": {},
   "outputs": [
    {
     "name": "stdout",
     "output_type": "stream",
     "text": [
      "gencsın\n"
     ]
    }
   ],
   "source": [
    "if age < 18:\n",
    "    print(\"cocuksun\")\n",
    "elif age > 18:\n",
    "    print(\"buyuksun\")\n",
    "else:\n",
    "    print(\"gencsın\") #son kısma elıf yazınca da doğru olur ama sen yınede else kullan"
   ]
  },
  {
   "cell_type": "code",
   "execution_count": 31,
   "id": "a9d58571",
   "metadata": {},
   "outputs": [],
   "source": [
    "# else ye sart eklenmez.tek sart o oldugu ıcın sadece else yazılır"
   ]
  },
  {
   "cell_type": "code",
   "execution_count": 32,
   "id": "75b21e15",
   "metadata": {},
   "outputs": [
    {
     "name": "stdout",
     "output_type": "stream",
     "text": [
      "enter name: mustafa\n"
     ]
    }
   ],
   "source": [
    "name = input(\"enter name: \")"
   ]
  },
  {
   "cell_type": "code",
   "execution_count": 33,
   "id": "3daf1f4f",
   "metadata": {},
   "outputs": [],
   "source": [
    "name_list = [\"mustafa\",\"cagla\",\"osman\",\"muhammet\",\"hacer\"]"
   ]
  },
  {
   "cell_type": "code",
   "execution_count": 35,
   "id": "982710a5",
   "metadata": {},
   "outputs": [
    {
     "name": "stdout",
     "output_type": "stream",
     "text": [
      "ismin sistemde kayıtlı\n"
     ]
    }
   ],
   "source": [
    "if name in name_list: # girdiyi listede arattım\n",
    "    print(\"ismin sistemde kayıtlı\"),\n",
    "else:\n",
    "    print(\"ismin kayıtlı değil\")"
   ]
  },
  {
   "cell_type": "code",
   "execution_count": 37,
   "id": "5f82ee32",
   "metadata": {},
   "outputs": [
    {
     "name": "stdout",
     "output_type": "stream",
     "text": [
      "ismin kayıtlı değil\n"
     ]
    }
   ],
   "source": [
    "if name == name_list[1]: #1.indisteki elemanla karşılaştırdı\n",
    "    print(\"ismin sistemde kayıtlı\"),\n",
    "else:\n",
    "    print(\"ismin kayıtlı değil\")"
   ]
  },
  {
   "cell_type": "code",
   "execution_count": null,
   "id": "2761475c",
   "metadata": {},
   "outputs": [],
   "source": []
  }
 ],
 "metadata": {
  "kernelspec": {
   "display_name": "Python 3 (ipykernel)",
   "language": "python",
   "name": "python3"
  },
  "language_info": {
   "codemirror_mode": {
    "name": "ipython",
    "version": 3
   },
   "file_extension": ".py",
   "mimetype": "text/x-python",
   "name": "python",
   "nbconvert_exporter": "python",
   "pygments_lexer": "ipython3",
   "version": "3.11.5"
  }
 },
 "nbformat": 4,
 "nbformat_minor": 5
}
