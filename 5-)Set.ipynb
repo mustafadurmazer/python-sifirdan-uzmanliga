{
 "cells": [
  {
   "cell_type": "code",
   "execution_count": 1,
   "id": "b81bbda3",
   "metadata": {},
   "outputs": [],
   "source": [
    "# unique (tekil) elemanlar ve sırasız"
   ]
  },
  {
   "cell_type": "code",
   "execution_count": 2,
   "id": "fb9e199a",
   "metadata": {},
   "outputs": [],
   "source": [
    "myList = [10,20,30,10,20,40,10,20,40]"
   ]
  },
  {
   "cell_type": "code",
   "execution_count": 3,
   "id": "c549e96b",
   "metadata": {},
   "outputs": [
    {
     "data": {
      "text/plain": [
       "9"
      ]
     },
     "execution_count": 3,
     "metadata": {},
     "output_type": "execute_result"
    }
   ],
   "source": [
    "len(myList)"
   ]
  },
  {
   "cell_type": "code",
   "execution_count": 4,
   "id": "ff97ff97",
   "metadata": {},
   "outputs": [
    {
     "data": {
      "text/plain": [
       "[10, 20, 30, 10, 20, 40, 10, 20, 40]"
      ]
     },
     "execution_count": 4,
     "metadata": {},
     "output_type": "execute_result"
    }
   ],
   "source": [
    "myList"
   ]
  },
  {
   "cell_type": "code",
   "execution_count": 5,
   "id": "4243c9fc",
   "metadata": {},
   "outputs": [],
   "source": [
    "mySet = set(myList)"
   ]
  },
  {
   "cell_type": "code",
   "execution_count": 7,
   "id": "976c5b21",
   "metadata": {},
   "outputs": [
    {
     "data": {
      "text/plain": [
       "{10, 20, 30, 40}"
      ]
     },
     "execution_count": 7,
     "metadata": {},
     "output_type": "execute_result"
    }
   ],
   "source": [
    "mySet # set dizide tekrarlanan elemanlar sadece 1 kez yazdırır"
   ]
  },
  {
   "cell_type": "code",
   "execution_count": 8,
   "id": "961b16fa",
   "metadata": {},
   "outputs": [],
   "source": [
    "mySet = {10,20,30,10,20,30,50,50}"
   ]
  },
  {
   "cell_type": "code",
   "execution_count": 9,
   "id": "5dc883ef",
   "metadata": {},
   "outputs": [
    {
     "data": {
      "text/plain": [
       "{10, 20, 30, 50}"
      ]
     },
     "execution_count": 9,
     "metadata": {},
     "output_type": "execute_result"
    }
   ],
   "source": [
    "mySet # tekrarlananları yazdırmadı setin kullanım amacı"
   ]
  },
  {
   "cell_type": "code",
   "execution_count": 10,
   "id": "4bad43d5",
   "metadata": {},
   "outputs": [],
   "source": [
    "mySet.add(10)"
   ]
  },
  {
   "cell_type": "code",
   "execution_count": 11,
   "id": "64a4ebfa",
   "metadata": {},
   "outputs": [
    {
     "data": {
      "text/plain": [
       "{10, 20, 30, 50}"
      ]
     },
     "execution_count": 11,
     "metadata": {},
     "output_type": "execute_result"
    }
   ],
   "source": [
    "mySet #10 olduğu için bidaha eklemedi"
   ]
  },
  {
   "cell_type": "code",
   "execution_count": 13,
   "id": "a4906b83",
   "metadata": {},
   "outputs": [],
   "source": [
    "mySet.add(40)"
   ]
  },
  {
   "cell_type": "code",
   "execution_count": 14,
   "id": "abab514d",
   "metadata": {},
   "outputs": [
    {
     "data": {
      "text/plain": [
       "{10, 20, 30, 40, 50}"
      ]
     },
     "execution_count": 14,
     "metadata": {},
     "output_type": "execute_result"
    }
   ],
   "source": [
    "mySet # 40 önceden olmadığı için ekledi"
   ]
  },
  {
   "cell_type": "code",
   "execution_count": 16,
   "id": "a8a02960",
   "metadata": {},
   "outputs": [],
   "source": [
    "# mySet[0] denilemez index mantığı sözlükteki gibi yokkk"
   ]
  },
  {
   "cell_type": "code",
   "execution_count": 17,
   "id": "8f71ab7c",
   "metadata": {},
   "outputs": [],
   "source": [
    "mySet2 = {30,40,50,60,70}"
   ]
  },
  {
   "cell_type": "code",
   "execution_count": 19,
   "id": "113c54a2",
   "metadata": {},
   "outputs": [
    {
     "data": {
      "text/plain": [
       "{10, 20, 30, 40, 50, 60, 70}"
      ]
     },
     "execution_count": 19,
     "metadata": {},
     "output_type": "execute_result"
    }
   ],
   "source": [
    "mySet.union(mySet2) # union birleştirmek demek 2 set i birleştirdi ortak olanları 1 kez yazdı"
   ]
  },
  {
   "cell_type": "code",
   "execution_count": 21,
   "id": "2ce27308",
   "metadata": {},
   "outputs": [
    {
     "data": {
      "text/plain": [
       "{30, 40, 50}"
      ]
     },
     "execution_count": 21,
     "metadata": {},
     "output_type": "execute_result"
    }
   ],
   "source": [
    "mySet.intersection(mySet2) # 2 kümenin ortak elemanlarını yazdırdı"
   ]
  },
  {
   "cell_type": "code",
   "execution_count": 22,
   "id": "cb02fd22",
   "metadata": {},
   "outputs": [],
   "source": [
    "countryList = [\"de\",\"fr\",\"tr\",\"fr\",\"tr\",\"tr\",\"de\",\"nl\",\"de\",\"tr\"]"
   ]
  },
  {
   "cell_type": "code",
   "execution_count": 24,
   "id": "73ccdc25",
   "metadata": {},
   "outputs": [
    {
     "data": {
      "text/plain": [
       "10"
      ]
     },
     "execution_count": 24,
     "metadata": {},
     "output_type": "execute_result"
    }
   ],
   "source": [
    "len(countryList)"
   ]
  },
  {
   "cell_type": "code",
   "execution_count": 25,
   "id": "599ce9e6",
   "metadata": {},
   "outputs": [
    {
     "data": {
      "text/plain": [
       "{'de', 'fr', 'nl', 'tr'}"
      ]
     },
     "execution_count": 25,
     "metadata": {},
     "output_type": "execute_result"
    }
   ],
   "source": [
    "set(countryList) #çok olanları 1 kez yazdırdı"
   ]
  },
  {
   "cell_type": "code",
   "execution_count": 27,
   "id": "5df2da17",
   "metadata": {},
   "outputs": [],
   "source": [
    "listem = [10,20,30,40,50,10,70,20,30]"
   ]
  },
  {
   "cell_type": "code",
   "execution_count": 29,
   "id": "da01e9df",
   "metadata": {},
   "outputs": [
    {
     "data": {
      "text/plain": [
       "{10, 20, 30, 40, 50, 70}"
      ]
     },
     "execution_count": 29,
     "metadata": {},
     "output_type": "execute_result"
    }
   ],
   "source": [
    "set(listem) # listedeki elemanları 1 tane olacak şekilde yazdırır"
   ]
  },
  {
   "cell_type": "code",
   "execution_count": 31,
   "id": "0f87ab40",
   "metadata": {},
   "outputs": [
    {
     "data": {
      "text/plain": [
       "6"
      ]
     },
     "execution_count": 31,
     "metadata": {},
     "output_type": "execute_result"
    }
   ],
   "source": [
    "len(set(listem)) # 6 tane farklı tekrar eden veya etmeyen sayı var demektir"
   ]
  },
  {
   "cell_type": "code",
   "execution_count": 41,
   "id": "a46f2e31",
   "metadata": {},
   "outputs": [],
   "source": [
    "emptyList = []"
   ]
  },
  {
   "cell_type": "code",
   "execution_count": 43,
   "id": "36f1fe2f",
   "metadata": {},
   "outputs": [],
   "source": [
    "emptyList.append(10)\n",
    "emptyList.append(20)\n",
    "emptyList.append(30)"
   ]
  },
  {
   "cell_type": "code",
   "execution_count": 44,
   "id": "fbf3130a",
   "metadata": {},
   "outputs": [
    {
     "data": {
      "text/plain": [
       "[10, 20, 30]"
      ]
     },
     "execution_count": 44,
     "metadata": {},
     "output_type": "execute_result"
    }
   ],
   "source": [
    "emptyList"
   ]
  },
  {
   "cell_type": "code",
   "execution_count": 47,
   "id": "3c513c0e",
   "metadata": {},
   "outputs": [],
   "source": [
    "emptySet = {} # boş set tanımladıgımda python bunu dict gibi algılar"
   ]
  },
  {
   "cell_type": "code",
   "execution_count": 46,
   "id": "94fe94c7",
   "metadata": {},
   "outputs": [
    {
     "data": {
      "text/plain": [
       "dict"
      ]
     },
     "execution_count": 46,
     "metadata": {},
     "output_type": "execute_result"
    }
   ],
   "source": [
    "type(emptySet)"
   ]
  },
  {
   "cell_type": "code",
   "execution_count": 48,
   "id": "dcaae89c",
   "metadata": {},
   "outputs": [],
   "source": [
    "emptySet = set() # boş set oluşturmak için bunu kullan"
   ]
  },
  {
   "cell_type": "code",
   "execution_count": 51,
   "id": "e401f52f",
   "metadata": {},
   "outputs": [
    {
     "data": {
      "text/plain": [
       "set"
      ]
     },
     "execution_count": 51,
     "metadata": {},
     "output_type": "execute_result"
    }
   ],
   "source": [
    "type(emptySet) #yukardakını yaptıgımda python bunu artık dict olarak değilde set olarak anlayacak"
   ]
  },
  {
   "cell_type": "code",
   "execution_count": 50,
   "id": "8bc932ff",
   "metadata": {},
   "outputs": [
    {
     "data": {
      "text/plain": [
       "0"
      ]
     },
     "execution_count": 50,
     "metadata": {},
     "output_type": "execute_result"
    }
   ],
   "source": [
    "len(emptySet)"
   ]
  },
  {
   "cell_type": "code",
   "execution_count": 52,
   "id": "fe312a90",
   "metadata": {},
   "outputs": [],
   "source": [
    "emptySet.add(10) # eğer set ise çagırdıgımda sadece 10 ve 20 vermeli\n",
    "emptySet.add(10)\n",
    "emptySet.add(20)\n",
    "emptySet.add(20)"
   ]
  },
  {
   "cell_type": "code",
   "execution_count": 54,
   "id": "37552f12",
   "metadata": {},
   "outputs": [
    {
     "data": {
      "text/plain": [
       "{10, 20}"
      ]
     },
     "execution_count": 54,
     "metadata": {},
     "output_type": "execute_result"
    }
   ],
   "source": [
    "emptySet #10 ve 20 verdiği için tekrar yapmadıgı için settir"
   ]
  },
  {
   "cell_type": "code",
   "execution_count": 55,
   "id": "6a51dff8",
   "metadata": {},
   "outputs": [],
   "source": [
    "#emptySet = set() sadece set e özgü değildir\n",
    "emptyList = list()\n",
    "emptyDictionary = dict()"
   ]
  },
  {
   "cell_type": "code",
   "execution_count": 56,
   "id": "8f345d4a",
   "metadata": {},
   "outputs": [
    {
     "data": {
      "text/plain": [
       "0"
      ]
     },
     "execution_count": 56,
     "metadata": {},
     "output_type": "execute_result"
    }
   ],
   "source": [
    "len(emptyList)"
   ]
  },
  {
   "cell_type": "code",
   "execution_count": 57,
   "id": "9e2b1554",
   "metadata": {},
   "outputs": [
    {
     "data": {
      "text/plain": [
       "0"
      ]
     },
     "execution_count": 57,
     "metadata": {},
     "output_type": "execute_result"
    }
   ],
   "source": [
    "len(emptyDictionary)"
   ]
  },
  {
   "cell_type": "code",
   "execution_count": 58,
   "id": "5cfe81f6",
   "metadata": {},
   "outputs": [],
   "source": [
    "#lıst ve dıck ı ekleyerek de oluşturabilirim ama gerek yok"
   ]
  },
  {
   "cell_type": "code",
   "execution_count": 59,
   "id": "70420161",
   "metadata": {},
   "outputs": [],
   "source": [
    "emptyDictionary[\"a\"] = 10"
   ]
  },
  {
   "cell_type": "code",
   "execution_count": 60,
   "id": "b65b6d91",
   "metadata": {},
   "outputs": [
    {
     "data": {
      "text/plain": [
       "{'a': 10}"
      ]
     },
     "execution_count": 60,
     "metadata": {},
     "output_type": "execute_result"
    }
   ],
   "source": [
    "emptyDictionary"
   ]
  },
  {
   "cell_type": "code",
   "execution_count": 62,
   "id": "a3abc703",
   "metadata": {},
   "outputs": [],
   "source": [
    "emptyList.append(10)"
   ]
  },
  {
   "cell_type": "code",
   "execution_count": 63,
   "id": "4ab625f7",
   "metadata": {},
   "outputs": [
    {
     "data": {
      "text/plain": [
       "[10]"
      ]
     },
     "execution_count": 63,
     "metadata": {},
     "output_type": "execute_result"
    }
   ],
   "source": [
    "emptyList"
   ]
  },
  {
   "cell_type": "code",
   "execution_count": 64,
   "id": "31fbcbfe",
   "metadata": {},
   "outputs": [],
   "source": [
    "# böyle de eklenebilir normal liste ve dict tanımını yaptık yani"
   ]
  },
  {
   "cell_type": "code",
   "execution_count": null,
   "id": "0c9b5808",
   "metadata": {},
   "outputs": [],
   "source": []
  }
 ],
 "metadata": {
  "kernelspec": {
   "display_name": "Python 3 (ipykernel)",
   "language": "python",
   "name": "python3"
  },
  "language_info": {
   "codemirror_mode": {
    "name": "ipython",
    "version": 3
   },
   "file_extension": ".py",
   "mimetype": "text/x-python",
   "name": "python",
   "nbconvert_exporter": "python",
   "pygments_lexer": "ipython3",
   "version": "3.11.5"
  }
 },
 "nbformat": 4,
 "nbformat_minor": 5
}
