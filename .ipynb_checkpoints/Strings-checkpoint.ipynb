{
 "cells": [
  {
   "cell_type": "code",
   "execution_count": 1,
   "id": "27e0e267",
   "metadata": {},
   "outputs": [
    {
     "data": {
      "text/plain": [
       "'hello world'"
      ]
     },
     "execution_count": 1,
     "metadata": {},
     "output_type": "execute_result"
    }
   ],
   "source": [
    "\"hello world\""
   ]
  },
  {
   "cell_type": "code",
   "execution_count": 2,
   "id": "c10704f9",
   "metadata": {},
   "outputs": [
    {
     "name": "stdout",
     "output_type": "stream",
     "text": [
      "hello world\n"
     ]
    }
   ],
   "source": [
    "print(\"hello world\")"
   ]
  },
  {
   "cell_type": "code",
   "execution_count": 3,
   "id": "a405d42e",
   "metadata": {},
   "outputs": [],
   "source": [
    "# print komutu jupıter notebookta kullanılmıcak ama visual studıo gıbı ıdelerde kullanılacak "
   ]
  },
  {
   "cell_type": "code",
   "execution_count": 4,
   "id": "5bba0b9f",
   "metadata": {},
   "outputs": [],
   "source": [
    "name = \"mustafa\""
   ]
  },
  {
   "cell_type": "code",
   "execution_count": 5,
   "id": "5cb49916",
   "metadata": {},
   "outputs": [
    {
     "data": {
      "text/plain": [
       "str"
      ]
     },
     "execution_count": 5,
     "metadata": {},
     "output_type": "execute_result"
    }
   ],
   "source": [
    "type(name)"
   ]
  },
  {
   "cell_type": "code",
   "execution_count": 6,
   "id": "65897109",
   "metadata": {},
   "outputs": [],
   "source": [
    "# çift tırnakla tek tırnak arasında pek fark yok ama çift tırnak kullan"
   ]
  },
  {
   "cell_type": "code",
   "execution_count": 7,
   "id": "e7eba260",
   "metadata": {},
   "outputs": [
    {
     "name": "stdout",
     "output_type": "stream",
     "text": [
      "mustafa\n"
     ]
    }
   ],
   "source": [
    "print(name)"
   ]
  },
  {
   "cell_type": "code",
   "execution_count": 8,
   "id": "fbcfd7d1",
   "metadata": {},
   "outputs": [],
   "source": [
    "name = \"mustafa durmazer\""
   ]
  },
  {
   "cell_type": "code",
   "execution_count": 11,
   "id": "5411a032",
   "metadata": {},
   "outputs": [
    {
     "data": {
      "text/plain": [
       "'Mustafa durmazer'"
      ]
     },
     "execution_count": 11,
     "metadata": {},
     "output_type": "execute_result"
    }
   ],
   "source": [
    "name.capitalize() # capitalize baş harfi büyük yazdırıyor sondaki parantez çalıştır anlamına gelir."
   ]
  },
  {
   "cell_type": "code",
   "execution_count": 14,
   "id": "be1daade",
   "metadata": {},
   "outputs": [
    {
     "data": {
      "text/plain": [
       "'mustafa durmazer'"
      ]
     },
     "execution_count": 14,
     "metadata": {},
     "output_type": "execute_result"
    }
   ],
   "source": [
    "name"
   ]
  },
  {
   "cell_type": "code",
   "execution_count": 17,
   "id": "f2652128",
   "metadata": {},
   "outputs": [
    {
     "name": "stdout",
     "output_type": "stream",
     "text": [
      "Help on built-in function count:\n",
      "\n",
      "count(...) method of builtins.str instance\n",
      "    S.count(sub[, start[, end]]) -> int\n",
      "    \n",
      "    Return the number of non-overlapping occurrences of substring sub in\n",
      "    string S[start:end].  Optional arguments start and end are\n",
      "    interpreted as in slice notation.\n",
      "\n"
     ]
    }
   ],
   "source": [
    "help(name.count)"
   ]
  },
  {
   "cell_type": "code",
   "execution_count": 20,
   "id": "4c63201f",
   "metadata": {},
   "outputs": [],
   "source": [
    "# help eklentisi değişkenin yanına ekleyecegin komutların ne oldugunu anlatır"
   ]
  },
  {
   "cell_type": "code",
   "execution_count": 22,
   "id": "cdb6cbdf",
   "metadata": {},
   "outputs": [
    {
     "name": "stdout",
     "output_type": "stream",
     "text": [
      "Help on built-in function index:\n",
      "\n",
      "index(...) method of builtins.str instance\n",
      "    S.index(sub[, start[, end]]) -> int\n",
      "    \n",
      "    Return the lowest index in S where substring sub is found,\n",
      "    such that sub is contained within S[start:end].  Optional\n",
      "    arguments start and end are interpreted as in slice notation.\n",
      "    \n",
      "    Raises ValueError when the substring is not found.\n",
      "\n"
     ]
    }
   ],
   "source": [
    "help(name.index) # örnek bu şekilde her komutun ne oldugunu anlatır"
   ]
  },
  {
   "cell_type": "code",
   "execution_count": 24,
   "id": "bcc89007",
   "metadata": {},
   "outputs": [
    {
     "data": {
      "text/plain": [
       "1"
      ]
     },
     "execution_count": 24,
     "metadata": {},
     "output_type": "execute_result"
    }
   ],
   "source": [
    "name.count(\"e\") # stringin içinde istedigimiz harfi aratır"
   ]
  },
  {
   "cell_type": "code",
   "execution_count": 26,
   "id": "0373dca8",
   "metadata": {},
   "outputs": [
    {
     "data": {
      "text/plain": [
       "'MUSTAFA DURMAZER'"
      ]
     },
     "execution_count": 26,
     "metadata": {},
     "output_type": "execute_result"
    }
   ],
   "source": [
    "name.upper() # stringi tamamen büyük harf yapar"
   ]
  },
  {
   "cell_type": "code",
   "execution_count": 27,
   "id": "64086f82",
   "metadata": {},
   "outputs": [],
   "source": [
    "name = name.upper()"
   ]
  },
  {
   "cell_type": "code",
   "execution_count": 28,
   "id": "c16d5cf0",
   "metadata": {},
   "outputs": [
    {
     "data": {
      "text/plain": [
       "'MUSTAFA DURMAZER'"
      ]
     },
     "execution_count": 28,
     "metadata": {},
     "output_type": "execute_result"
    }
   ],
   "source": [
    "name"
   ]
  },
  {
   "cell_type": "code",
   "execution_count": 31,
   "id": "7f62276f",
   "metadata": {},
   "outputs": [],
   "source": [
    "a = 10\n",
    "b = 25\n",
    "c = a + b # değişkenlerden değişken oluşturma"
   ]
  },
  {
   "cell_type": "code",
   "execution_count": 30,
   "id": "67e2bb2c",
   "metadata": {},
   "outputs": [
    {
     "data": {
      "text/plain": [
       "35"
      ]
     },
     "execution_count": 30,
     "metadata": {},
     "output_type": "execute_result"
    }
   ],
   "source": [
    "c"
   ]
  },
  {
   "cell_type": "code",
   "execution_count": 32,
   "id": "92e43244",
   "metadata": {},
   "outputs": [
    {
     "name": "stdout",
     "output_type": "stream",
     "text": [
      "MUSTAFA DURMAZER\n"
     ]
    }
   ],
   "source": [
    "print(name.upper())"
   ]
  },
  {
   "cell_type": "code",
   "execution_count": 33,
   "id": "789c89ce",
   "metadata": {},
   "outputs": [
    {
     "name": "stdout",
     "output_type": "stream",
     "text": [
      "MUSTAFA DURMAZER\n"
     ]
    }
   ],
   "source": [
    "print(name)"
   ]
  },
  {
   "cell_type": "code",
   "execution_count": 34,
   "id": "efc868f8",
   "metadata": {},
   "outputs": [],
   "source": [
    "name = name.capitalize()"
   ]
  },
  {
   "cell_type": "code",
   "execution_count": 35,
   "id": "76961dac",
   "metadata": {},
   "outputs": [
    {
     "name": "stdout",
     "output_type": "stream",
     "text": [
      "Mustafa durmazer\n"
     ]
    }
   ],
   "source": [
    "print(name)"
   ]
  },
  {
   "cell_type": "code",
   "execution_count": 36,
   "id": "4644b942",
   "metadata": {},
   "outputs": [
    {
     "data": {
      "text/plain": [
       "16"
      ]
     },
     "execution_count": 36,
     "metadata": {},
     "output_type": "execute_result"
    }
   ],
   "source": [
    "len (name)"
   ]
  },
  {
   "cell_type": "code",
   "execution_count": 37,
   "id": "15772154",
   "metadata": {},
   "outputs": [],
   "source": [
    "# len fonksiyonu (lenght) stringimizin uzunlugunu gösterir.Boşlukta bir birimdir."
   ]
  },
  {
   "cell_type": "code",
   "execution_count": 38,
   "id": "35bee9b4",
   "metadata": {},
   "outputs": [],
   "source": [
    "surname = \"durmazer\""
   ]
  },
  {
   "cell_type": "code",
   "execution_count": 39,
   "id": "87374e29",
   "metadata": {},
   "outputs": [
    {
     "data": {
      "text/plain": [
       "8"
      ]
     },
     "execution_count": 39,
     "metadata": {},
     "output_type": "execute_result"
    }
   ],
   "source": [
    "len(surname)"
   ]
  },
  {
   "cell_type": "code",
   "execution_count": 40,
   "id": "eb5b9f27",
   "metadata": {},
   "outputs": [],
   "source": [
    "surname = \"d u r m a z e r\""
   ]
  },
  {
   "cell_type": "code",
   "execution_count": 41,
   "id": "cf931b10",
   "metadata": {},
   "outputs": [
    {
     "data": {
      "text/plain": [
       "15"
      ]
     },
     "execution_count": 41,
     "metadata": {},
     "output_type": "execute_result"
    }
   ],
   "source": [
    "len(surname)"
   ]
  },
  {
   "cell_type": "code",
   "execution_count": 42,
   "id": "56d29d17",
   "metadata": {},
   "outputs": [
    {
     "name": "stdout",
     "output_type": "stream",
     "text": [
      "mustafa\n",
      "durmazer\n"
     ]
    }
   ],
   "source": [
    "print(\"mustafa\\ndurmazer\")"
   ]
  },
  {
   "cell_type": "code",
   "execution_count": 43,
   "id": "aeb37736",
   "metadata": {},
   "outputs": [],
   "source": [
    "# \\n yeni satıra geçmek için kullanılır"
   ]
  },
  {
   "cell_type": "code",
   "execution_count": 44,
   "id": "97804726",
   "metadata": {},
   "outputs": [],
   "source": [
    "# \\t tab kadar boşluk için kullanılır"
   ]
  },
  {
   "cell_type": "code",
   "execution_count": 47,
   "id": "5cc5f4ea",
   "metadata": {},
   "outputs": [],
   "source": [
    "name = \"mustafa\""
   ]
  },
  {
   "cell_type": "code",
   "execution_count": 108,
   "id": "4c806d68",
   "metadata": {},
   "outputs": [],
   "source": [
    "surname = \"durmazer\""
   ]
  },
  {
   "cell_type": "code",
   "execution_count": 105,
   "id": "e2c0378c",
   "metadata": {},
   "outputs": [
    {
     "data": {
      "text/plain": [
       "str"
      ]
     },
     "execution_count": 105,
     "metadata": {},
     "output_type": "execute_result"
    }
   ],
   "source": [
    "type(name_surname)"
   ]
  },
  {
   "cell_type": "code",
   "execution_count": 109,
   "id": "37df3503",
   "metadata": {},
   "outputs": [
    {
     "data": {
      "text/plain": [
       "7"
      ]
     },
     "execution_count": 109,
     "metadata": {},
     "output_type": "execute_result"
    }
   ],
   "source": [
    "len(name)"
   ]
  },
  {
   "cell_type": "code",
   "execution_count": 110,
   "id": "12c10c3e",
   "metadata": {},
   "outputs": [
    {
     "data": {
      "text/plain": [
       "8"
      ]
     },
     "execution_count": 110,
     "metadata": {},
     "output_type": "execute_result"
    }
   ],
   "source": [
    "len(surname)"
   ]
  },
  {
   "cell_type": "code",
   "execution_count": 113,
   "id": "e3dd36a2",
   "metadata": {},
   "outputs": [],
   "source": [
    "adsoyad= name+surname"
   ]
  },
  {
   "cell_type": "code",
   "execution_count": 115,
   "id": "882bec0e",
   "metadata": {},
   "outputs": [
    {
     "name": "stdout",
     "output_type": "stream",
     "text": [
      "mustafadurmazer\n"
     ]
    }
   ],
   "source": [
    "print(adsoyad)"
   ]
  },
  {
   "cell_type": "code",
   "execution_count": 116,
   "id": "ef1dcab3",
   "metadata": {
    "scrolled": true
   },
   "outputs": [
    {
     "name": "stdout",
     "output_type": "stream",
     "text": [
      "mustafadurmazer\n"
     ]
    }
   ],
   "source": [
    "print(name+surname)"
   ]
  },
  {
   "cell_type": "markdown",
   "id": "142fe971",
   "metadata": {},
   "source": [
    "# index \n"
   ]
  },
  {
   "cell_type": "code",
   "execution_count": 71,
   "id": "0870b0d9",
   "metadata": {},
   "outputs": [],
   "source": [
    "ad = \"mustafa durmazer\""
   ]
  },
  {
   "cell_type": "code",
   "execution_count": 76,
   "id": "1199edfb",
   "metadata": {},
   "outputs": [
    {
     "data": {
      "text/plain": [
       "'f'"
      ]
     },
     "execution_count": 76,
     "metadata": {},
     "output_type": "execute_result"
    }
   ],
   "source": [
    "ad [5] # dizi mantıgı 0 dan başlayarak git"
   ]
  },
  {
   "cell_type": "code",
   "execution_count": 73,
   "id": "bfa42b34",
   "metadata": {},
   "outputs": [
    {
     "data": {
      "text/plain": [
       "' '"
      ]
     },
     "execution_count": 73,
     "metadata": {},
     "output_type": "execute_result"
    }
   ],
   "source": [
    "ad [7]"
   ]
  },
  {
   "cell_type": "code",
   "execution_count": 78,
   "id": "3cbb2451",
   "metadata": {},
   "outputs": [
    {
     "data": {
      "text/plain": [
       "'r'"
      ]
     },
     "execution_count": 78,
     "metadata": {},
     "output_type": "execute_result"
    }
   ],
   "source": [
    "ad [len(ad)-1] # Ne girdi alınırsa alınsın son harfi yazdırmaya yarar"
   ]
  },
  {
   "cell_type": "code",
   "execution_count": 80,
   "id": "109d227b",
   "metadata": {},
   "outputs": [
    {
     "data": {
      "text/plain": [
       "'r'"
      ]
     },
     "execution_count": 80,
     "metadata": {},
     "output_type": "execute_result"
    }
   ],
   "source": [
    "ad [-1] # indexlerde sondaki harfi ögrenmek istiyorsak -1 diyebiliriz"
   ]
  },
  {
   "cell_type": "code",
   "execution_count": 82,
   "id": "890d5c94",
   "metadata": {},
   "outputs": [
    {
     "data": {
      "text/plain": [
       "'z'"
      ]
     },
     "execution_count": 82,
     "metadata": {},
     "output_type": "execute_result"
    }
   ],
   "source": [
    "ad[-3] # eksiden geriye gittikçe sondan başa doğru ilerlenir\n",
    "# bu sadece pythona özeldir"
   ]
  },
  {
   "cell_type": "code",
   "execution_count": 83,
   "id": "a4235fc3",
   "metadata": {},
   "outputs": [
    {
     "data": {
      "text/plain": [
       "'m'"
      ]
     },
     "execution_count": 83,
     "metadata": {},
     "output_type": "execute_result"
    }
   ],
   "source": [
    "ad[-5]"
   ]
  },
  {
   "cell_type": "code",
   "execution_count": 1,
   "id": "8fd824e0",
   "metadata": {},
   "outputs": [],
   "source": [
    "barcode = \"ABCDE123123\""
   ]
  },
  {
   "cell_type": "code",
   "execution_count": 2,
   "id": "7ebd856a",
   "metadata": {},
   "outputs": [
    {
     "data": {
      "text/plain": [
       "'A'"
      ]
     },
     "execution_count": 2,
     "metadata": {},
     "output_type": "execute_result"
    }
   ],
   "source": [
    "barcode[0]"
   ]
  },
  {
   "cell_type": "code",
   "execution_count": 3,
   "id": "19370fc8",
   "metadata": {},
   "outputs": [
    {
     "data": {
      "text/plain": [
       "'B'"
      ]
     },
     "execution_count": 3,
     "metadata": {},
     "output_type": "execute_result"
    }
   ],
   "source": [
    "barcode[1]"
   ]
  },
  {
   "cell_type": "code",
   "execution_count": 5,
   "id": "7bb2c2a2",
   "metadata": {},
   "outputs": [],
   "source": [
    "name = \"cagla\""
   ]
  },
  {
   "cell_type": "code",
   "execution_count": 6,
   "id": "bbd3c767",
   "metadata": {},
   "outputs": [],
   "source": [
    "surname = \"durmazer\""
   ]
  },
  {
   "cell_type": "code",
   "execution_count": 9,
   "id": "55462936",
   "metadata": {},
   "outputs": [],
   "source": [
    "fullname = name + \" \" + surname"
   ]
  },
  {
   "cell_type": "code",
   "execution_count": 10,
   "id": "bcabf784",
   "metadata": {},
   "outputs": [
    {
     "data": {
      "text/plain": [
       "'cagla durmazer'"
      ]
     },
     "execution_count": 10,
     "metadata": {},
     "output_type": "execute_result"
    }
   ],
   "source": [
    "fullname"
   ]
  },
  {
   "cell_type": "code",
   "execution_count": 12,
   "id": "935faaa7",
   "metadata": {},
   "outputs": [
    {
     "data": {
      "text/plain": [
       "'cagla durmazercagla durmazercagla durmazercagla durmazercagla durmazer'"
      ]
     },
     "execution_count": 12,
     "metadata": {},
     "output_type": "execute_result"
    }
   ],
   "source": [
    "fullname * 5 # stringlerde toplama ve carpma işlemi yapılabilir"
   ]
  },
  {
   "cell_type": "code",
   "execution_count": 15,
   "id": "25777d89",
   "metadata": {},
   "outputs": [
    {
     "data": {
      "text/plain": [
       "'cagla durmazermustafa'"
      ]
     },
     "execution_count": 15,
     "metadata": {},
     "output_type": "execute_result"
    }
   ],
   "source": [
    "fullname + \"mustafa\" # toplama yapmak için + operatoru kullanılır"
   ]
  },
  {
   "cell_type": "code",
   "execution_count": 16,
   "id": "53f10493",
   "metadata": {},
   "outputs": [
    {
     "data": {
      "text/plain": [
       "'abcabcabcabcabcabcabcabcabcabc'"
      ]
     },
     "execution_count": 16,
     "metadata": {},
     "output_type": "execute_result"
    }
   ],
   "source": [
    "10 * \"abc\"  # carpma yapmak için * operatoru kullanılır"
   ]
  },
  {
   "cell_type": "code",
   "execution_count": 18,
   "id": "e35012b2",
   "metadata": {},
   "outputs": [],
   "source": [
    "# carpma ve toplama sadece python diline özel\n",
    "# cıkartma ve bolme işlemi yapılamaz"
   ]
  },
  {
   "cell_type": "code",
   "execution_count": 19,
   "id": "44715bde",
   "metadata": {},
   "outputs": [
    {
     "data": {
      "text/plain": [
       "'ABCDE123123'"
      ]
     },
     "execution_count": 19,
     "metadata": {},
     "output_type": "execute_result"
    }
   ],
   "source": [
    "barcode"
   ]
  },
  {
   "cell_type": "code",
   "execution_count": 22,
   "id": "346285f9",
   "metadata": {},
   "outputs": [
    {
     "data": {
      "text/plain": [
       "'ABC'"
      ]
     },
     "execution_count": 22,
     "metadata": {},
     "output_type": "execute_result"
    }
   ],
   "source": [
    "barcode[0] + barcode[1] + barcode[2] # bunu yapmanın kolay yolu var\n",
    "# bu kolay yola slicing (dilimleme) denir"
   ]
  },
  {
   "cell_type": "code",
   "execution_count": 23,
   "id": "bf51322b",
   "metadata": {},
   "outputs": [
    {
     "data": {
      "text/plain": [
       "'ABCDE123123'"
      ]
     },
     "execution_count": 23,
     "metadata": {},
     "output_type": "execute_result"
    }
   ],
   "source": [
    "barcode[::]"
   ]
  },
  {
   "cell_type": "code",
   "execution_count": 24,
   "id": "676e675a",
   "metadata": {},
   "outputs": [],
   "source": [
    "# barcode[starting  index : stopping index : stepping size]\n",
    "# barcode[başlama indexi : durma indexi : adım indexi(kaçar kaçar)]"
   ]
  },
  {
   "cell_type": "code",
   "execution_count": 31,
   "id": "2403ae96",
   "metadata": {},
   "outputs": [
    {
     "data": {
      "text/plain": [
       "'E1'"
      ]
     },
     "execution_count": 31,
     "metadata": {},
     "output_type": "execute_result"
    }
   ],
   "source": [
    "barcode[4:6:1] # 4.ındexten başladı 6.ya kadar birer birer arttı."
   ]
  },
  {
   "cell_type": "code",
   "execution_count": 32,
   "id": "9720e18d",
   "metadata": {},
   "outputs": [
    {
     "data": {
      "text/plain": [
       "'CDE1231'"
      ]
     },
     "execution_count": 32,
     "metadata": {},
     "output_type": "execute_result"
    }
   ],
   "source": [
    "barcode[2:9:1]"
   ]
  },
  {
   "cell_type": "code",
   "execution_count": 33,
   "id": "896846f7",
   "metadata": {},
   "outputs": [
    {
     "data": {
      "text/plain": [
       "'CDE123123'"
      ]
     },
     "execution_count": 33,
     "metadata": {},
     "output_type": "execute_result"
    }
   ],
   "source": [
    "barcode[2::] #diğer boşlukları doldurmasan da olur "
   ]
  },
  {
   "cell_type": "code",
   "execution_count": 35,
   "id": "744cf750",
   "metadata": {},
   "outputs": [
    {
     "data": {
      "text/plain": [
       "'ABCDE'"
      ]
     },
     "execution_count": 35,
     "metadata": {},
     "output_type": "execute_result"
    }
   ],
   "source": [
    "barcode[:5:] #5 adıma geldiginde duruyor 5.adımı yazdırmıyor"
   ]
  },
  {
   "cell_type": "code",
   "execution_count": 37,
   "id": "cc81ceb6",
   "metadata": {},
   "outputs": [
    {
     "data": {
      "text/plain": [
       "'ACE213'"
      ]
     },
     "execution_count": 37,
     "metadata": {},
     "output_type": "execute_result"
    }
   ],
   "source": [
    "barcode[::2] #ikişer ikişer yazdırdı"
   ]
  },
  {
   "cell_type": "code",
   "execution_count": 38,
   "id": "2b807e3f",
   "metadata": {},
   "outputs": [
    {
     "data": {
      "text/plain": [
       "'ABCDE123123'"
      ]
     },
     "execution_count": 38,
     "metadata": {},
     "output_type": "execute_result"
    }
   ],
   "source": [
    "barcode"
   ]
  },
  {
   "cell_type": "code",
   "execution_count": 41,
   "id": "31c91d18",
   "metadata": {},
   "outputs": [
    {
     "data": {
      "text/plain": [
       "'DE'"
      ]
     },
     "execution_count": 41,
     "metadata": {},
     "output_type": "execute_result"
    }
   ],
   "source": [
    "barcode[3:5:1] # 35.satırda 5.adımda duruyor orayı yazdırmıyordu ama burada istedigim yerden başlıyor"
   ]
  },
  {
   "cell_type": "code",
   "execution_count": 43,
   "id": "e686de13",
   "metadata": {},
   "outputs": [
    {
     "data": {
      "text/plain": [
       "'DE'"
      ]
     },
     "execution_count": 43,
     "metadata": {},
     "output_type": "execute_result"
    }
   ],
   "source": [
    "barcode[3:5] #stepping size i kullanmasan da olur"
   ]
  },
  {
   "cell_type": "code",
   "execution_count": 44,
   "id": "514266eb",
   "metadata": {},
   "outputs": [
    {
     "data": {
      "text/plain": [
       "'ABCDE123123'"
      ]
     },
     "execution_count": 44,
     "metadata": {},
     "output_type": "execute_result"
    }
   ],
   "source": [
    "barcode"
   ]
  },
  {
   "cell_type": "code",
   "execution_count": 46,
   "id": "b32ec03d",
   "metadata": {},
   "outputs": [
    {
     "data": {
      "text/plain": [
       "'321321EDCBA'"
      ]
     },
     "execution_count": 46,
     "metadata": {},
     "output_type": "execute_result"
    }
   ],
   "source": [
    "barcode[::-1] #stepping size a -1 yazarsan stringini ters cevirir"
   ]
  },
  {
   "cell_type": "code",
   "execution_count": 47,
   "id": "628309b3",
   "metadata": {},
   "outputs": [],
   "source": [
    "name = \"mustafadurmazer\""
   ]
  },
  {
   "cell_type": "code",
   "execution_count": 50,
   "id": "4391e083",
   "metadata": {},
   "outputs": [
    {
     "data": {
      "text/plain": [
       "3"
      ]
     },
     "execution_count": 50,
     "metadata": {},
     "output_type": "execute_result"
    }
   ],
   "source": [
    "name.index(\"t\") #istedigin harfi ilk buldugu yerin indexini verir"
   ]
  },
  {
   "cell_type": "code",
   "execution_count": 52,
   "id": "d964fae9",
   "metadata": {},
   "outputs": [],
   "source": [
    "name = \"mustafa durmazer\""
   ]
  },
  {
   "cell_type": "code",
   "execution_count": 54,
   "id": "c37e3485",
   "metadata": {},
   "outputs": [
    {
     "data": {
      "text/plain": [
       "['mustafa', 'durmazer']"
      ]
     },
     "execution_count": 54,
     "metadata": {},
     "output_type": "execute_result"
    }
   ],
   "source": [
    "name.split() #boşluğa göre ikiye bölüp listeledi veri tipi list oldu"
   ]
  },
  {
   "cell_type": "code",
   "execution_count": 55,
   "id": "908abb8c",
   "metadata": {},
   "outputs": [
    {
     "data": {
      "text/plain": [
       "list"
      ]
     },
     "execution_count": 55,
     "metadata": {},
     "output_type": "execute_result"
    }
   ],
   "source": [
    "type(name.split())"
   ]
  },
  {
   "cell_type": "code",
   "execution_count": null,
   "id": "7d8904e5",
   "metadata": {},
   "outputs": [],
   "source": []
  }
 ],
 "metadata": {
  "kernelspec": {
   "display_name": "Python 3 (ipykernel)",
   "language": "python",
   "name": "python3"
  },
  "language_info": {
   "codemirror_mode": {
    "name": "ipython",
    "version": 3
   },
   "file_extension": ".py",
   "mimetype": "text/x-python",
   "name": "python",
   "nbconvert_exporter": "python",
   "pygments_lexer": "ipython3",
   "version": "3.11.5"
  }
 },
 "nbformat": 4,
 "nbformat_minor": 5
}
