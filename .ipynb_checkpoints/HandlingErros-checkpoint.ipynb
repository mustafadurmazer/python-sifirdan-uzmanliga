{
 "cells": [
  {
   "cell_type": "code",
   "execution_count": null,
   "id": "09714f99",
   "metadata": {},
   "outputs": [],
   "source": [
    "age = input(\"enter age :\")"
   ]
  },
  {
   "cell_type": "code",
   "execution_count": null,
   "id": "fdc534ad",
   "metadata": {},
   "outputs": [],
   "source": [
    "age"
   ]
  },
  {
   "cell_type": "code",
   "execution_count": null,
   "id": "bb6715ad",
   "metadata": {},
   "outputs": [],
   "source": [
    "int(age) * 2"
   ]
  },
  {
   "cell_type": "code",
   "execution_count": null,
   "id": "6f44fccd",
   "metadata": {},
   "outputs": [],
   "source": [
    "# try except"
   ]
  },
  {
   "cell_type": "code",
   "execution_count": null,
   "id": "6ab602d7",
   "metadata": {},
   "outputs": [],
   "source": [
    "while 0:\n",
    "    try: \n",
    "        myAge = int(input(\"enter age :\"))\n",
    "        print(myAge * 2)\n",
    "        break\n",
    "    except: # hata aldıgında aşagıdaki satırı yazdırır\n",
    "        print(\"enter your age!!!!\")"
   ]
  },
  {
   "cell_type": "code",
   "execution_count": null,
   "id": "8ee4e170",
   "metadata": {},
   "outputs": [],
   "source": [
    "# try ve except try kısmına olmasını istediğim şeyi yazıyorum except kısmına da istediğim olmazsa ne olacagını yazıyorum"
   ]
  },
  {
   "cell_type": "code",
   "execution_count": null,
   "id": "59b2fd26",
   "metadata": {},
   "outputs": [],
   "source": [
    "#except yazıp hata kodunu yazabilirdim ve o hata oldugunda çalışırdı ama\n",
    "#her hataya karşı çalışsın diye bişey yaazmadım"
   ]
  },
  {
   "cell_type": "code",
   "execution_count": null,
   "id": "58ebb517",
   "metadata": {},
   "outputs": [],
   "source": [
    "# while döngüsüyle istediğim sonucu alana kadar kullanıcıya soru sordum"
   ]
  },
  {
   "cell_type": "code",
   "execution_count": null,
   "id": "878ccd92",
   "metadata": {},
   "outputs": [],
   "source": []
  }
 ],
 "metadata": {
  "kernelspec": {
   "display_name": "Python 3 (ipykernel)",
   "language": "python",
   "name": "python3"
  },
  "language_info": {
   "codemirror_mode": {
    "name": "ipython",
    "version": 3
   },
   "file_extension": ".py",
   "mimetype": "text/x-python",
   "name": "python",
   "nbconvert_exporter": "python",
   "pygments_lexer": "ipython3",
   "version": "3.11.5"
  }
 },
 "nbformat": 4,
 "nbformat_minor": 5
}
