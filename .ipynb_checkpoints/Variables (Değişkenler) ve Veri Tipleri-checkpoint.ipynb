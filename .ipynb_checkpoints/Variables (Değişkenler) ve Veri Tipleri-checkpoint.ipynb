{
 "cells": [
  {
   "cell_type": "code",
   "execution_count": 1,
   "id": "c5168033",
   "metadata": {},
   "outputs": [
    {
     "data": {
      "text/plain": [
       "8"
      ]
     },
     "execution_count": 1,
     "metadata": {},
     "output_type": "execute_result"
    }
   ],
   "source": [
    "3+5"
   ]
  },
  {
   "cell_type": "markdown",
   "id": "102d7a4f",
   "metadata": {},
   "source": [
    "4 *4"
   ]
  },
  {
   "cell_type": "markdown",
   "id": "ff866acb",
   "metadata": {},
   "source": [
    "Not:Başlık yapmak için markdown bölümünü kullan\n"
   ]
  },
  {
   "cell_type": "markdown",
   "id": "5bbe9111",
   "metadata": {},
   "source": [
    "Not:Sayıları kullanırken aralarına boşluk atmana gerek yok.Ama kodun temiz olmasını istiyosan boşluk bırakarak yap"
   ]
  },
  {
   "cell_type": "code",
   "execution_count": 2,
   "id": "7d26cf94",
   "metadata": {},
   "outputs": [],
   "source": [
    "age = 50"
   ]
  },
  {
   "cell_type": "code",
   "execution_count": 3,
   "id": "88e117e6",
   "metadata": {},
   "outputs": [
    {
     "data": {
      "text/plain": [
       "10.0"
      ]
     },
     "execution_count": 3,
     "metadata": {},
     "output_type": "execute_result"
    }
   ],
   "source": [
    "age / 5"
   ]
  },
  {
   "cell_type": "code",
   "execution_count": 32,
   "id": "3d2e9bfd",
   "metadata": {},
   "outputs": [
    {
     "data": {
      "text/plain": [
       "27"
      ]
     },
     "execution_count": 32,
     "metadata": {},
     "output_type": "execute_result"
    }
   ],
   "source": [
    "age ** age"
   ]
  },
  {
   "cell_type": "code",
   "execution_count": 5,
   "id": "c94ddf61",
   "metadata": {},
   "outputs": [
    {
     "data": {
      "text/plain": [
       "0"
      ]
     },
     "execution_count": 5,
     "metadata": {},
     "output_type": "execute_result"
    }
   ],
   "source": [
    "age^50"
   ]
  },
  {
   "cell_type": "code",
   "execution_count": 6,
   "id": "72ee355b",
   "metadata": {},
   "outputs": [],
   "source": [
    "age = 3"
   ]
  },
  {
   "cell_type": "code",
   "execution_count": 7,
   "id": "46501d1e",
   "metadata": {},
   "outputs": [
    {
     "data": {
      "text/plain": [
       "1"
      ]
     },
     "execution_count": 7,
     "metadata": {},
     "output_type": "execute_result"
    }
   ],
   "source": [
    "age ^ 2"
   ]
  },
  {
   "cell_type": "code",
   "execution_count": 8,
   "id": "2b2f9eff",
   "metadata": {},
   "outputs": [
    {
     "data": {
      "text/plain": [
       "int"
      ]
     },
     "execution_count": 8,
     "metadata": {},
     "output_type": "execute_result"
    }
   ],
   "source": [
    "type(age) "
   ]
  },
  {
   "cell_type": "code",
   "execution_count": 9,
   "id": "d11aad66",
   "metadata": {},
   "outputs": [],
   "source": [
    "#type() fonksiyonu parantezin içine yazdıgın şeyin veri tipini gösterir. "
   ]
  },
  {
   "cell_type": "code",
   "execution_count": 10,
   "id": "b4e38971",
   "metadata": {},
   "outputs": [
    {
     "data": {
      "text/plain": [
       "int"
      ]
     },
     "execution_count": 10,
     "metadata": {},
     "output_type": "execute_result"
    }
   ],
   "source": [
    "type(10 * 50)"
   ]
  },
  {
   "cell_type": "code",
   "execution_count": 11,
   "id": "6f55549a",
   "metadata": {},
   "outputs": [
    {
     "data": {
      "text/plain": [
       "int"
      ]
     },
     "execution_count": 11,
     "metadata": {},
     "output_type": "execute_result"
    }
   ],
   "source": [
    "type(-1500)"
   ]
  },
  {
   "cell_type": "code",
   "execution_count": 12,
   "id": "6986f511",
   "metadata": {},
   "outputs": [
    {
     "data": {
      "text/plain": [
       "float"
      ]
     },
     "execution_count": 12,
     "metadata": {},
     "output_type": "execute_result"
    }
   ],
   "source": [
    "type(50 / 2)"
   ]
  },
  {
   "cell_type": "code",
   "execution_count": 13,
   "id": "985e4021",
   "metadata": {},
   "outputs": [],
   "source": [
    "# float veri tipi kesirli sayılar içindir"
   ]
  },
  {
   "cell_type": "code",
   "execution_count": 14,
   "id": "7b3ab78c",
   "metadata": {},
   "outputs": [],
   "source": [
    "# camel case = myFloat gibi gösterime denir"
   ]
  },
  {
   "cell_type": "code",
   "execution_count": 15,
   "id": "b5549243",
   "metadata": {},
   "outputs": [],
   "source": [
    "# float kesirli sayıların depolanması daha fazla oldugu ıcın integerdan farklı olarak kullanılmıştır\n"
   ]
  },
  {
   "cell_type": "code",
   "execution_count": 16,
   "id": "32099e55",
   "metadata": {},
   "outputs": [],
   "source": [
    "# pythonda intlerin bölme sonucu her zaman float tipindedir"
   ]
  },
  {
   "cell_type": "code",
   "execution_count": 17,
   "id": "6dc576f9",
   "metadata": {},
   "outputs": [
    {
     "data": {
      "text/plain": [
       "float"
      ]
     },
     "execution_count": 17,
     "metadata": {},
     "output_type": "execute_result"
    }
   ],
   "source": [
    "type(4.5-2.2)"
   ]
  },
  {
   "cell_type": "code",
   "execution_count": 18,
   "id": "aeafe454",
   "metadata": {},
   "outputs": [
    {
     "data": {
      "text/plain": [
       "float"
      ]
     },
     "execution_count": 18,
     "metadata": {},
     "output_type": "execute_result"
    }
   ],
   "source": [
    "type(4.2-4)"
   ]
  },
  {
   "cell_type": "code",
   "execution_count": 19,
   "id": "f5b97d4a",
   "metadata": {},
   "outputs": [],
   "source": [
    "# pythondaki işlem sırasıyla matematikteki işlem sırası aynıdır"
   ]
  },
  {
   "cell_type": "code",
   "execution_count": 20,
   "id": "2fd272ca",
   "metadata": {},
   "outputs": [
    {
     "data": {
      "text/plain": [
       "int"
      ]
     },
     "execution_count": 20,
     "metadata": {},
     "output_type": "execute_result"
    }
   ],
   "source": [
    "type(500000*96666)"
   ]
  },
  {
   "cell_type": "code",
   "execution_count": 21,
   "id": "2b953947",
   "metadata": {},
   "outputs": [
    {
     "data": {
      "text/plain": [
       "int"
      ]
     },
     "execution_count": 21,
     "metadata": {},
     "output_type": "execute_result"
    }
   ],
   "source": [
    "type(5000000000000000000*11111111111111)"
   ]
  },
  {
   "cell_type": "code",
   "execution_count": 22,
   "id": "208b7689",
   "metadata": {},
   "outputs": [],
   "source": [
    "# c deki integer limiti pythonda yoktur"
   ]
  },
  {
   "cell_type": "code",
   "execution_count": 23,
   "id": "e361665c",
   "metadata": {},
   "outputs": [
    {
     "data": {
      "text/plain": [
       "32"
      ]
     },
     "execution_count": 23,
     "metadata": {},
     "output_type": "execute_result"
    }
   ],
   "source": [
    "2 ** 5"
   ]
  },
  {
   "cell_type": "code",
   "execution_count": 24,
   "id": "9fedb84d",
   "metadata": {},
   "outputs": [],
   "source": [
    "# pytonda üst almak için ** kullanılır ^ işareti kullanılmaz."
   ]
  },
  {
   "cell_type": "code",
   "execution_count": 25,
   "id": "3c897e66",
   "metadata": {},
   "outputs": [
    {
     "data": {
      "text/plain": [
       "3125"
      ]
     },
     "execution_count": 25,
     "metadata": {},
     "output_type": "execute_result"
    }
   ],
   "source": [
    "5 ** 5"
   ]
  },
  {
   "cell_type": "code",
   "execution_count": 26,
   "id": "c46f203f",
   "metadata": {},
   "outputs": [
    {
     "data": {
      "text/plain": [
       "25"
      ]
     },
     "execution_count": 26,
     "metadata": {},
     "output_type": "execute_result"
    }
   ],
   "source": [
    "5 ** 2"
   ]
  },
  {
   "cell_type": "code",
   "execution_count": 27,
   "id": "f3f02a4d",
   "metadata": {},
   "outputs": [],
   "source": [
    "# bölümden kalanı bulmak (remainder) için % işareti kullanılır"
   ]
  },
  {
   "cell_type": "code",
   "execution_count": 28,
   "id": "2f1dc39e",
   "metadata": {},
   "outputs": [
    {
     "data": {
      "text/plain": [
       "2"
      ]
     },
     "execution_count": 28,
     "metadata": {},
     "output_type": "execute_result"
    }
   ],
   "source": [
    "10 % 4"
   ]
  },
  {
   "cell_type": "code",
   "execution_count": 29,
   "id": "6f49aea2",
   "metadata": {},
   "outputs": [
    {
     "data": {
      "text/plain": [
       "0"
      ]
     },
     "execution_count": 29,
     "metadata": {},
     "output_type": "execute_result"
    }
   ],
   "source": [
    "50 % 10"
   ]
  },
  {
   "cell_type": "code",
   "execution_count": 30,
   "id": "93aa7f7c",
   "metadata": {},
   "outputs": [
    {
     "data": {
      "text/plain": [
       "2"
      ]
     },
     "execution_count": 30,
     "metadata": {},
     "output_type": "execute_result"
    }
   ],
   "source": [
    "50 % 6"
   ]
  },
  {
   "cell_type": "code",
   "execution_count": 31,
   "id": "e28c968b",
   "metadata": {},
   "outputs": [],
   "source": [
    " # insert kısmında cell above yada cell below seçenegiyle satır arasına başka bir satır ekleyebilirsin."
   ]
  },
  {
   "cell_type": "code",
   "execution_count": null,
   "id": "caddb11a",
   "metadata": {},
   "outputs": [],
   "source": []
  }
 ],
 "metadata": {
  "kernelspec": {
   "display_name": "Python 3 (ipykernel)",
   "language": "python",
   "name": "python3"
  },
  "language_info": {
   "codemirror_mode": {
    "name": "ipython",
    "version": 3
   },
   "file_extension": ".py",
   "mimetype": "text/x-python",
   "name": "python",
   "nbconvert_exporter": "python",
   "pygments_lexer": "ipython3",
   "version": "3.11.5"
  }
 },
 "nbformat": 4,
 "nbformat_minor": 5
}
