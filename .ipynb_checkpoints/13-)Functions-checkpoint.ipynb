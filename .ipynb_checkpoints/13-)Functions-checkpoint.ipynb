{
 "cells": [
  {
   "cell_type": "code",
   "execution_count": 2,
   "id": "3476179d",
   "metadata": {},
   "outputs": [],
   "source": [
    "# method vs functions"
   ]
  },
  {
   "cell_type": "code",
   "execution_count": 3,
   "id": "26bffbf8",
   "metadata": {},
   "outputs": [],
   "source": [
    "my_name = \"mustafa\""
   ]
  },
  {
   "cell_type": "code",
   "execution_count": 4,
   "id": "6b395454",
   "metadata": {},
   "outputs": [
    {
     "data": {
      "text/plain": [
       "'Mustafa'"
      ]
     },
     "execution_count": 4,
     "metadata": {},
     "output_type": "execute_result"
    }
   ],
   "source": [
    "my_name.capitalize()"
   ]
  },
  {
   "cell_type": "code",
   "execution_count": 5,
   "id": "926e1f3a",
   "metadata": {},
   "outputs": [],
   "source": [
    " my_name_upper = my_name.upper()"
   ]
  },
  {
   "cell_type": "code",
   "execution_count": 6,
   "id": "c820367f",
   "metadata": {},
   "outputs": [
    {
     "data": {
      "text/plain": [
       "'MUSTAFA'"
      ]
     },
     "execution_count": 6,
     "metadata": {},
     "output_type": "execute_result"
    }
   ],
   "source": [
    "my_name_upper"
   ]
  },
  {
   "cell_type": "code",
   "execution_count": 7,
   "id": "7863a891",
   "metadata": {},
   "outputs": [
    {
     "data": {
      "text/plain": [
       "'mustafa'"
      ]
     },
     "execution_count": 7,
     "metadata": {},
     "output_type": "execute_result"
    }
   ],
   "source": [
    "my_name"
   ]
  },
  {
   "cell_type": "code",
   "execution_count": 8,
   "id": "d2de4979",
   "metadata": {},
   "outputs": [],
   "source": [
    "# functions kod bloklarıdır biçok kez kullanılır girdi alır çıktı verir"
   ]
  },
  {
   "cell_type": "code",
   "execution_count": 9,
   "id": "dce3092a",
   "metadata": {},
   "outputs": [],
   "source": [
    "def hello_python():\n",
    "    print(\"hello\")\n",
    "    print(\"python\")"
   ]
  },
  {
   "cell_type": "code",
   "execution_count": 10,
   "id": "46b01be2",
   "metadata": {},
   "outputs": [
    {
     "data": {
      "text/plain": [
       "<function __main__.hello_python()>"
      ]
     },
     "execution_count": 10,
     "metadata": {},
     "output_type": "execute_result"
    }
   ],
   "source": [
    "hello_python"
   ]
  },
  {
   "cell_type": "code",
   "execution_count": 11,
   "id": "2a27d16a",
   "metadata": {},
   "outputs": [
    {
     "name": "stdout",
     "output_type": "stream",
     "text": [
      "hello\n",
      "python\n"
     ]
    }
   ],
   "source": [
    "hello_python()"
   ]
  },
  {
   "cell_type": "code",
   "execution_count": 29,
   "id": "ea89f590",
   "metadata": {},
   "outputs": [],
   "source": [
    "# fonksiyon girdi(input) alabilir "
   ]
  },
  {
   "cell_type": "code",
   "execution_count": 13,
   "id": "41469609",
   "metadata": {},
   "outputs": [],
   "source": [
    "def hello_name(name):\n",
    "    print(\"hello\")\n",
    "    print(name)"
   ]
  },
  {
   "cell_type": "code",
   "execution_count": 15,
   "id": "58f7be0e",
   "metadata": {},
   "outputs": [],
   "source": [
    " # hello_name() bu şekil yazdırınca hata verir name adlı değişkeni ver bana diyor"
   ]
  },
  {
   "cell_type": "code",
   "execution_count": 18,
   "id": "cb03de94",
   "metadata": {},
   "outputs": [
    {
     "name": "stdout",
     "output_type": "stream",
     "text": [
      "adını gir :mustafa\n",
      "hello\n",
      "mustafa\n"
     ]
    }
   ],
   "source": [
    "name = input(\"adını gir :\")\n",
    "hello_name(name)"
   ]
  },
  {
   "cell_type": "code",
   "execution_count": 19,
   "id": "057007ab",
   "metadata": {},
   "outputs": [],
   "source": [
    "def sum_example(num1,num2):\n",
    "    print(num1+num2) "
   ]
  },
  {
   "cell_type": "code",
   "execution_count": 21,
   "id": "5bfba3a3",
   "metadata": {},
   "outputs": [
    {
     "name": "stdout",
     "output_type": "stream",
     "text": [
      "15\n"
     ]
    }
   ],
   "source": [
    "sum_example(5,10) # yukarda fonksiyonu tanımladım burdada fonksiyona girdi vererek çalıştırdım"
   ]
  },
  {
   "cell_type": "code",
   "execution_count": 22,
   "id": "7ca933bc",
   "metadata": {},
   "outputs": [],
   "source": [
    "def hello_surname(surname = \"durmazer\"):\n",
    "    print(\"hello\")\n",
    "    print(surname)"
   ]
  },
  {
   "cell_type": "code",
   "execution_count": 25,
   "id": "b16adaa7",
   "metadata": {},
   "outputs": [
    {
     "name": "stdout",
     "output_type": "stream",
     "text": [
      "hello\n",
      "mustafa\n"
     ]
    }
   ],
   "source": [
    "hello_surname(\"mustafa\") # bu fonksiyonu tanımlarken değişkene bir string tanımladım zaten eğer ben girdi vermezsem ordan okuayacak"
   ]
  },
  {
   "cell_type": "code",
   "execution_count": 26,
   "id": "cdeefa5d",
   "metadata": {},
   "outputs": [
    {
     "name": "stdout",
     "output_type": "stream",
     "text": [
      "hello\n",
      "durmazer\n"
     ]
    }
   ],
   "source": [
    "hello_surname() # yukarda ben bir girdi verdim onu okudu burada vermedim hazır olanı okudu"
   ]
  },
  {
   "cell_type": "code",
   "execution_count": 28,
   "id": "b4d48227",
   "metadata": {},
   "outputs": [],
   "source": [
    "# fonksiyon çıktı (return) verebilir"
   ]
  },
  {
   "cell_type": "code",
   "execution_count": 39,
   "id": "3ac2beb2",
   "metadata": {},
   "outputs": [],
   "source": [
    "def summation(num1,num2,num3):\n",
    "    print(num1+num2+num3)"
   ]
  },
  {
   "cell_type": "code",
   "execution_count": 32,
   "id": "90c5fc76",
   "metadata": {},
   "outputs": [
    {
     "name": "stdout",
     "output_type": "stream",
     "text": [
      "18\n"
     ]
    }
   ],
   "source": [
    "summation(5,6,7)"
   ]
  },
  {
   "cell_type": "code",
   "execution_count": 33,
   "id": "b61cbd13",
   "metadata": {},
   "outputs": [
    {
     "name": "stdout",
     "output_type": "stream",
     "text": [
      "18\n"
     ]
    }
   ],
   "source": [
    "x = summation(5,6,7)"
   ]
  },
  {
   "cell_type": "code",
   "execution_count": 34,
   "id": "7a109c6c",
   "metadata": {},
   "outputs": [
    {
     "name": "stdout",
     "output_type": "stream",
     "text": [
      "None\n"
     ]
    }
   ],
   "source": [
    "print(x)"
   ]
  },
  {
   "cell_type": "code",
   "execution_count": 35,
   "id": "a91495ba",
   "metadata": {},
   "outputs": [
    {
     "data": {
      "text/plain": [
       "NoneType"
      ]
     },
     "execution_count": 35,
     "metadata": {},
     "output_type": "execute_result"
    }
   ],
   "source": [
    "type(x)"
   ]
  },
  {
   "cell_type": "code",
   "execution_count": 36,
   "id": "67115bd9",
   "metadata": {},
   "outputs": [],
   "source": [
    "# yukardaki fonksiyon bişey döndürmüyor sadece yazdırıyor bu yüzden none nonetype olarak gözüküyor"
   ]
  },
  {
   "cell_type": "code",
   "execution_count": 40,
   "id": "a138c2a0",
   "metadata": {},
   "outputs": [],
   "source": [
    "def return_summation(num1,num2,num3):\n",
    "    return(num1+num2+num3) \n",
    "# buradaki return döndürmek demek"
   ]
  },
  {
   "cell_type": "code",
   "execution_count": 42,
   "id": "9e30475c",
   "metadata": {},
   "outputs": [
    {
     "data": {
      "text/plain": [
       "17"
      ]
     },
     "execution_count": 42,
     "metadata": {},
     "output_type": "execute_result"
    }
   ],
   "source": [
    "return_summation(10,2,5)\n",
    "#burada sadece yazdırmadı bunu ben bir değere atarsam none olarak gözükmeyecek sonuç değere atanacak"
   ]
  },
  {
   "cell_type": "code",
   "execution_count": 43,
   "id": "d427306c",
   "metadata": {},
   "outputs": [],
   "source": [
    "x = return_summation(10,2,5)"
   ]
  },
  {
   "cell_type": "code",
   "execution_count": 45,
   "id": "6e917fec",
   "metadata": {},
   "outputs": [
    {
     "name": "stdout",
     "output_type": "stream",
     "text": [
      "17\n"
     ]
    }
   ],
   "source": [
    "print(x)"
   ]
  },
  {
   "cell_type": "code",
   "execution_count": 47,
   "id": "b9da50e1",
   "metadata": {},
   "outputs": [
    {
     "data": {
      "text/plain": [
       "int"
      ]
     },
     "execution_count": 47,
     "metadata": {},
     "output_type": "execute_result"
    }
   ],
   "source": [
    "type(x) # sadece girdi alan fonksiyonla farkı bu"
   ]
  },
  {
   "cell_type": "code",
   "execution_count": 48,
   "id": "6da51bf1",
   "metadata": {},
   "outputs": [],
   "source": [
    "# Not: return kullandıgım fonksiyonda aynı zamanda printte kullanabilirim"
   ]
  },
  {
   "cell_type": "code",
   "execution_count": 49,
   "id": "7e42b8b5",
   "metadata": {},
   "outputs": [],
   "source": [
    "# Not: Fonksiyon return ile biter returndan sonraki komutlar çalışmaz"
   ]
  },
  {
   "cell_type": "code",
   "execution_count": 53,
   "id": "ea3414e5",
   "metadata": {},
   "outputs": [],
   "source": [
    "def control_string(s):\n",
    "    if s[0] == \"a\":\n",
    "        print(\"a\")\n",
    "    else:\n",
    "        print(\"ilk harf a değil\")"
   ]
  },
  {
   "cell_type": "code",
   "execution_count": 54,
   "id": "a293fdad",
   "metadata": {},
   "outputs": [
    {
     "name": "stdout",
     "output_type": "stream",
     "text": [
      "ilk harf a değil\n"
     ]
    }
   ],
   "source": [
    "control_string(\"mustafa\")"
   ]
  },
  {
   "cell_type": "code",
   "execution_count": 55,
   "id": "e864e33e",
   "metadata": {},
   "outputs": [
    {
     "name": "stdout",
     "output_type": "stream",
     "text": [
      "a\n"
     ]
    }
   ],
   "source": [
    "control_string(\"ali\")"
   ]
  },
  {
   "cell_type": "code",
   "execution_count": 56,
   "id": "973a444c",
   "metadata": {},
   "outputs": [
    {
     "name": "stdout",
     "output_type": "stream",
     "text": [
      "isminizi giriniz:hakan\n"
     ]
    }
   ],
   "source": [
    "x = input(\"isminizi giriniz:\")"
   ]
  },
  {
   "cell_type": "code",
   "execution_count": 58,
   "id": "59c99092",
   "metadata": {},
   "outputs": [
    {
     "name": "stdout",
     "output_type": "stream",
     "text": [
      "ilk harf a değil\n"
     ]
    }
   ],
   "source": [
    "control_string(x) # anladımm"
   ]
  },
  {
   "cell_type": "code",
   "execution_count": 59,
   "id": "86a8c5d1",
   "metadata": {},
   "outputs": [],
   "source": [
    "# args , kwargs (arguments , key word arguments)"
   ]
  },
  {
   "cell_type": "code",
   "execution_count": 68,
   "id": "446be111",
   "metadata": {},
   "outputs": [
    {
     "data": {
      "text/plain": [
       "50"
      ]
     },
     "execution_count": 68,
     "metadata": {},
     "output_type": "execute_result"
    }
   ],
   "source": [
    "# NOT SUM FONKSİYONU İÇİNE YAZILAN DEĞERLERİ TOPLAR\n",
    "# KULLANIMI SUM(10,20)\n",
    "a = 20\n",
    "b = 30\n",
    "sum([a,b])  #LİSTELERİ TOPLAR\n",
    "# NORMAL SAYILARDA KÖŞELİ PARANTEZİ UNUTMA"
   ]
  },
  {
   "cell_type": "code",
   "execution_count": 72,
   "id": "9b90db5e",
   "metadata": {},
   "outputs": [],
   "source": [
    "def args_sum(*args): # *args kullanımıyla içine girecegin sayı limitini kaldırıyosun\n",
    "    # içine 10 tane de 20 tane de sayı girebiliyosun \n",
    "    return sum(args)\n",
    "# *args kullanımını unutma"
   ]
  },
  {
   "cell_type": "code",
   "execution_count": 71,
   "id": "8704fb5e",
   "metadata": {},
   "outputs": [
    {
     "data": {
      "text/plain": [
       "977"
      ]
     },
     "execution_count": 71,
     "metadata": {},
     "output_type": "execute_result"
    }
   ],
   "source": [
    "args_sum(10,230,34,546,78,79,0)"
   ]
  },
  {
   "cell_type": "code",
   "execution_count": 73,
   "id": "dfc09394",
   "metadata": {},
   "outputs": [],
   "source": [
    "def args_example(*args):\n",
    "    print(args)"
   ]
  },
  {
   "cell_type": "code",
   "execution_count": 75,
   "id": "5542f3af",
   "metadata": {},
   "outputs": [
    {
     "name": "stdout",
     "output_type": "stream",
     "text": [
      "(123, 34235, 56, 65778, 989, 9, 898)\n"
     ]
    }
   ],
   "source": [
    "args_example(123,34235,56,65778,989,9,898)\n",
    "# args aslında girilen sayıları bir tuplede tutuyor ben toplama istedigim zaman direk kolay yoldan topluyor"
   ]
  },
  {
   "cell_type": "code",
   "execution_count": 78,
   "id": "c5d178cf",
   "metadata": {},
   "outputs": [],
   "source": [
    "def kwargs_example(**kwargs):\n",
    "    print(kwargs)\n",
    "#args dan farkı args listeye verileri doldururken kwargs verileri dicte benzer bi yapıya dolduruyor"
   ]
  },
  {
   "cell_type": "code",
   "execution_count": 79,
   "id": "20c27a5e",
   "metadata": {},
   "outputs": [
    {
     "name": "stdout",
     "output_type": "stream",
     "text": [
      "{'apple': 100, 'banana': 150, 'melon': 200}\n"
     ]
    }
   ],
   "source": [
    "kwargs_example(apple = 100, banana = 150, melon = 200)\n",
    "# dict e benzer yapı"
   ]
  },
  {
   "cell_type": "code",
   "execution_count": 84,
   "id": "32bb920d",
   "metadata": {},
   "outputs": [],
   "source": [
    "def kwargs_example_2(**kwargs):\n",
    "    if \"apple\" in kwargs:\n",
    "        print(\"ELMA VAR\")\n",
    "    else:\n",
    "        print(\"ELMA YOK\")\n",
    "# burada sözlük benzeri yapıda kontrol sağladık"
   ]
  },
  {
   "cell_type": "code",
   "execution_count": 85,
   "id": "bff28b2f",
   "metadata": {},
   "outputs": [
    {
     "name": "stdout",
     "output_type": "stream",
     "text": [
      "ELMA VAR\n"
     ]
    }
   ],
   "source": [
    "kwargs_example_2(apple=120,banana=459)"
   ]
  },
  {
   "cell_type": "code",
   "execution_count": 86,
   "id": "07c1d80a",
   "metadata": {},
   "outputs": [
    {
     "name": "stdout",
     "output_type": "stream",
     "text": [
      "ELMA YOK\n"
     ]
    }
   ],
   "source": [
    "kwargs_example_2(melon=20,watermelon=10)"
   ]
  },
  {
   "cell_type": "code",
   "execution_count": null,
   "id": "42147c39",
   "metadata": {},
   "outputs": [],
   "source": []
  }
 ],
 "metadata": {
  "kernelspec": {
   "display_name": "Python 3 (ipykernel)",
   "language": "python",
   "name": "python3"
  },
  "language_info": {
   "codemirror_mode": {
    "name": "ipython",
    "version": 3
   },
   "file_extension": ".py",
   "mimetype": "text/x-python",
   "name": "python",
   "nbconvert_exporter": "python",
   "pygments_lexer": "ipython3",
   "version": "3.11.5"
  }
 },
 "nbformat": 4,
 "nbformat_minor": 5
}
