{
 "cells": [
  {
   "cell_type": "code",
   "execution_count": null,
   "id": "e7ae0a0a",
   "metadata": {},
   "outputs": [],
   "source": [
    "# myString = \"hello world\""
   ]
  },
  {
   "cell_type": "code",
   "execution_count": 2,
   "id": "7fee5897",
   "metadata": {},
   "outputs": [
    {
     "data": {
      "text/plain": [
       "['hello', 'world']"
      ]
     },
     "execution_count": 2,
     "metadata": {},
     "output_type": "execute_result"
    }
   ],
   "source": [
    "myString.split()"
   ]
  },
  {
   "cell_type": "code",
   "execution_count": 3,
   "id": "0c6aba2c",
   "metadata": {},
   "outputs": [
    {
     "data": {
      "text/plain": [
       "list"
      ]
     },
     "execution_count": 3,
     "metadata": {},
     "output_type": "execute_result"
    }
   ],
   "source": [
    "type(myString.split())"
   ]
  },
  {
   "cell_type": "code",
   "execution_count": 4,
   "id": "cefc2fac",
   "metadata": {},
   "outputs": [
    {
     "data": {
      "text/plain": [
       "'h'"
      ]
     },
     "execution_count": 4,
     "metadata": {},
     "output_type": "execute_result"
    }
   ],
   "source": [
    "myString[0]"
   ]
  },
  {
   "cell_type": "code",
   "execution_count": 5,
   "id": "175eea54",
   "metadata": {},
   "outputs": [],
   "source": [
    "# myString[0] = \"a\" denilemez buna immutable immutability değiştirilemezlik denir"
   ]
  },
  {
   "cell_type": "markdown",
   "id": "969c7c90",
   "metadata": {},
   "source": [
    "# list"
   ]
  },
  {
   "cell_type": "code",
   "execution_count": 8,
   "id": "27eeccc9",
   "metadata": {},
   "outputs": [],
   "source": [
    "myList = [10,30,40] # bu bir listedir"
   ]
  },
  {
   "cell_type": "code",
   "execution_count": 7,
   "id": "62f77709",
   "metadata": {},
   "outputs": [
    {
     "data": {
      "text/plain": [
       "list"
      ]
     },
     "execution_count": 7,
     "metadata": {},
     "output_type": "execute_result"
    }
   ],
   "source": [
    "type(myList)"
   ]
  },
  {
   "cell_type": "code",
   "execution_count": 9,
   "id": "122ab95a",
   "metadata": {},
   "outputs": [],
   "source": [
    "x = 15\n",
    "y = 25\n",
    "z = 45"
   ]
  },
  {
   "cell_type": "code",
   "execution_count": 12,
   "id": "ccec908f",
   "metadata": {},
   "outputs": [],
   "source": [
    "myList = [x,y,z] # bu yapıda kullanılabilir."
   ]
  },
  {
   "cell_type": "code",
   "execution_count": 11,
   "id": "8392afb0",
   "metadata": {},
   "outputs": [
    {
     "data": {
      "text/plain": [
       "[15, 25, 45]"
      ]
     },
     "execution_count": 11,
     "metadata": {},
     "output_type": "execute_result"
    }
   ],
   "source": [
    "myList"
   ]
  },
  {
   "cell_type": "code",
   "execution_count": 17,
   "id": "005848e0",
   "metadata": {},
   "outputs": [],
   "source": [
    "myList = [10,20,30,\"a\"] #list in içine hem integer hem de string girebilir"
   ]
  },
  {
   "cell_type": "code",
   "execution_count": 18,
   "id": "fc9d9ec8",
   "metadata": {},
   "outputs": [
    {
     "data": {
      "text/plain": [
       "10"
      ]
     },
     "execution_count": 18,
     "metadata": {},
     "output_type": "execute_result"
    }
   ],
   "source": [
    "myList[0] # index mantığıyla listin içindeki verilere erşilebilir."
   ]
  },
  {
   "cell_type": "code",
   "execution_count": 15,
   "id": "90b23530",
   "metadata": {},
   "outputs": [
    {
     "data": {
      "text/plain": [
       "'a'"
      ]
     },
     "execution_count": 15,
     "metadata": {},
     "output_type": "execute_result"
    }
   ],
   "source": [
    "myList[3]"
   ]
  },
  {
   "cell_type": "code",
   "execution_count": 16,
   "id": "c3f87f59",
   "metadata": {},
   "outputs": [
    {
     "data": {
      "text/plain": [
       "str"
      ]
     },
     "execution_count": 16,
     "metadata": {},
     "output_type": "execute_result"
    }
   ],
   "source": [
    "type(myList[3])"
   ]
  },
  {
   "cell_type": "code",
   "execution_count": 19,
   "id": "9721af72",
   "metadata": {},
   "outputs": [
    {
     "data": {
      "text/plain": [
       "int"
      ]
     },
     "execution_count": 19,
     "metadata": {},
     "output_type": "execute_result"
    }
   ],
   "source": [
    "type(myList[0])"
   ]
  },
  {
   "cell_type": "code",
   "execution_count": 2,
   "id": "92958851",
   "metadata": {},
   "outputs": [],
   "source": [
    "myList = [10,20,30,40,50,60,70] # listelerde değişiklik yapılabilir.\n",
    "# buna mutable mutability denir\n",
    "myList[4] = \"a\""
   ]
  },
  {
   "cell_type": "code",
   "execution_count": 3,
   "id": "14429152",
   "metadata": {},
   "outputs": [
    {
     "data": {
      "text/plain": [
       "[10, 20, 30, 40, 'a', 60, 70]"
      ]
     },
     "execution_count": 3,
     "metadata": {},
     "output_type": "execute_result"
    }
   ],
   "source": [
    "myList"
   ]
  },
  {
   "cell_type": "code",
   "execution_count": 26,
   "id": "11f7c443",
   "metadata": {},
   "outputs": [],
   "source": [
    "myList[0] = 99 # değişiklik yaptım"
   ]
  },
  {
   "cell_type": "code",
   "execution_count": 25,
   "id": "e307c7b5",
   "metadata": {},
   "outputs": [
    {
     "data": {
      "text/plain": [
       "[99, 20, 30, 40, 50, 60, 70]"
      ]
     },
     "execution_count": 25,
     "metadata": {},
     "output_type": "execute_result"
    }
   ],
   "source": [
    "myList"
   ]
  },
  {
   "cell_type": "code",
   "execution_count": 27,
   "id": "300beadc",
   "metadata": {},
   "outputs": [],
   "source": [
    "myList[0] = \"a\""
   ]
  },
  {
   "cell_type": "code",
   "execution_count": 28,
   "id": "960343c7",
   "metadata": {},
   "outputs": [
    {
     "data": {
      "text/plain": [
       "['a', 20, 30, 40, 50, 60, 70]"
      ]
     },
     "execution_count": 28,
     "metadata": {},
     "output_type": "execute_result"
    }
   ],
   "source": [
    "myList"
   ]
  },
  {
   "cell_type": "code",
   "execution_count": 30,
   "id": "a160fef8",
   "metadata": {},
   "outputs": [
    {
     "data": {
      "text/plain": [
       "7"
      ]
     },
     "execution_count": 30,
     "metadata": {},
     "output_type": "execute_result"
    }
   ],
   "source": [
    "len(myList) #listedeki eleman sayısı"
   ]
  },
  {
   "cell_type": "code",
   "execution_count": 37,
   "id": "f5882bb2",
   "metadata": {},
   "outputs": [
    {
     "data": {
      "text/plain": [
       "70"
      ]
     },
     "execution_count": 37,
     "metadata": {},
     "output_type": "execute_result"
    }
   ],
   "source": [
    "myList[len(myList)-1] # listenin sonundaki elemanı yazdırdım."
   ]
  },
  {
   "cell_type": "code",
   "execution_count": 39,
   "id": "573403a0",
   "metadata": {},
   "outputs": [
    {
     "data": {
      "text/plain": [
       "70"
      ]
     },
     "execution_count": 39,
     "metadata": {},
     "output_type": "execute_result"
    }
   ],
   "source": [
    "myList[-1] # sondaki eleman yazdırmak için farklı bir yol"
   ]
  },
  {
   "cell_type": "code",
   "execution_count": 40,
   "id": "e9a3a76d",
   "metadata": {},
   "outputs": [
    {
     "data": {
      "text/plain": [
       "60"
      ]
     },
     "execution_count": 40,
     "metadata": {},
     "output_type": "execute_result"
    }
   ],
   "source": [
    "myList[-2]"
   ]
  },
  {
   "cell_type": "code",
   "execution_count": 41,
   "id": "48faa0c6",
   "metadata": {},
   "outputs": [],
   "source": [
    "myList.append(90) # append eklentisi listeye ekleme yapmak için kullanılır."
   ]
  },
  {
   "cell_type": "code",
   "execution_count": 42,
   "id": "7f34dc37",
   "metadata": {},
   "outputs": [
    {
     "data": {
      "text/plain": [
       "['a', 20, 30, 40, 50, 60, 70, 90]"
      ]
     },
     "execution_count": 42,
     "metadata": {},
     "output_type": "execute_result"
    }
   ],
   "source": [
    "myList "
   ]
  },
  {
   "cell_type": "code",
   "execution_count": 46,
   "id": "463b1d44",
   "metadata": {},
   "outputs": [],
   "source": [
    "myList.append(1) # her zaman sona eklenir\n",
    "# ben burada 1 ekledim"
   ]
  },
  {
   "cell_type": "code",
   "execution_count": 44,
   "id": "60fba0dc",
   "metadata": {},
   "outputs": [
    {
     "data": {
      "text/plain": [
       "['a', 20, 30, 40, 50, 60, 70, 90, 1]"
      ]
     },
     "execution_count": 44,
     "metadata": {},
     "output_type": "execute_result"
    }
   ],
   "source": [
    "myList"
   ]
  },
  {
   "cell_type": "code",
   "execution_count": 48,
   "id": "b18249f6",
   "metadata": {},
   "outputs": [
    {
     "data": {
      "text/plain": [
       "1"
      ]
     },
     "execution_count": 48,
     "metadata": {},
     "output_type": "execute_result"
    }
   ],
   "source": [
    "myList.count(20) # count listede parantezin içine yazdıgım seyden listede kaç tane oldugunu yazdırır"
   ]
  },
  {
   "cell_type": "code",
   "execution_count": 50,
   "id": "d29064a5",
   "metadata": {},
   "outputs": [
    {
     "data": {
      "text/plain": [
       "1"
      ]
     },
     "execution_count": 50,
     "metadata": {},
     "output_type": "execute_result"
    }
   ],
   "source": [
    "myList.count(\"a\") #a dan listede 1 tane var demek"
   ]
  },
  {
   "cell_type": "code",
   "execution_count": 51,
   "id": "0146d8c7",
   "metadata": {},
   "outputs": [
    {
     "data": {
      "text/plain": [
       "0"
      ]
     },
     "execution_count": 51,
     "metadata": {},
     "output_type": "execute_result"
    }
   ],
   "source": [
    "myList.count(74)"
   ]
  },
  {
   "cell_type": "code",
   "execution_count": 54,
   "id": "1a958cba",
   "metadata": {},
   "outputs": [
    {
     "data": {
      "text/plain": [
       "3"
      ]
     },
     "execution_count": 54,
     "metadata": {},
     "output_type": "execute_result"
    }
   ],
   "source": [
    "myList.index(40) # 40 ı gordugu ındexı gosterıyor"
   ]
  },
  {
   "cell_type": "code",
   "execution_count": 58,
   "id": "15b14408",
   "metadata": {},
   "outputs": [],
   "source": [
    "myList.insert(2,56) # insert komutuyla hangi indexe neyi ekleyecegimi söylerim\n",
    "# 2. indexe 56 yı ekle dedim"
   ]
  },
  {
   "cell_type": "code",
   "execution_count": 59,
   "id": "dc208d0e",
   "metadata": {},
   "outputs": [
    {
     "data": {
      "text/plain": [
       "['a', 20, 56, 56, 56, 30, 40, 50, 60, 70, 90, 1, 1, 1]"
      ]
     },
     "execution_count": 59,
     "metadata": {},
     "output_type": "execute_result"
    }
   ],
   "source": [
    "myList"
   ]
  },
  {
   "cell_type": "code",
   "execution_count": 60,
   "id": "d13d8f97",
   "metadata": {},
   "outputs": [],
   "source": [
    "myList = [5,15,25,35,45,55,65,75]"
   ]
  },
  {
   "cell_type": "code",
   "execution_count": 63,
   "id": "75357f4c",
   "metadata": {},
   "outputs": [],
   "source": [
    "myList.insert(2,999) # 2. indexe 999 ekle demek"
   ]
  },
  {
   "cell_type": "code",
   "execution_count": 62,
   "id": "86942397",
   "metadata": {},
   "outputs": [
    {
     "data": {
      "text/plain": [
       "[5, 15, 999, 25, 35, 45, 55, 65, 75]"
      ]
     },
     "execution_count": 62,
     "metadata": {},
     "output_type": "execute_result"
    }
   ],
   "source": [
    "myList"
   ]
  },
  {
   "cell_type": "code",
   "execution_count": 66,
   "id": "3acd5f6a",
   "metadata": {},
   "outputs": [
    {
     "data": {
      "text/plain": [
       "65"
      ]
     },
     "execution_count": 66,
     "metadata": {},
     "output_type": "execute_result"
    }
   ],
   "source": [
    "myList.pop() # sondaki elemanı listeden atar"
   ]
  },
  {
   "cell_type": "code",
   "execution_count": 65,
   "id": "cef912a6",
   "metadata": {},
   "outputs": [
    {
     "data": {
      "text/plain": [
       "[5, 15, 999, 999, 25, 35, 45, 55, 65]"
      ]
     },
     "execution_count": 65,
     "metadata": {},
     "output_type": "execute_result"
    }
   ],
   "source": [
    "myList"
   ]
  },
  {
   "cell_type": "code",
   "execution_count": 67,
   "id": "58cdc75c",
   "metadata": {},
   "outputs": [],
   "source": [
    "myList.remove(999) #999u kaldır demek oluyor"
   ]
  },
  {
   "cell_type": "code",
   "execution_count": 68,
   "id": "ea7fa9c8",
   "metadata": {},
   "outputs": [
    {
     "data": {
      "text/plain": [
       "[5, 15, 999, 25, 35, 45, 55]"
      ]
     },
     "execution_count": 68,
     "metadata": {},
     "output_type": "execute_result"
    }
   ],
   "source": [
    "myList"
   ]
  },
  {
   "cell_type": "code",
   "execution_count": 69,
   "id": "bca25219",
   "metadata": {},
   "outputs": [],
   "source": [
    "myList.reverse() #listeyi tersine çevirir."
   ]
  },
  {
   "cell_type": "code",
   "execution_count": 71,
   "id": "b93ef4e8",
   "metadata": {},
   "outputs": [
    {
     "data": {
      "text/plain": [
       "[55, 45, 35, 25, 999, 15, 5]"
      ]
     },
     "execution_count": 71,
     "metadata": {},
     "output_type": "execute_result"
    }
   ],
   "source": [
    "myList #sondaki başa baştaki sona geldi"
   ]
  },
  {
   "cell_type": "code",
   "execution_count": 75,
   "id": "84f19fea",
   "metadata": {},
   "outputs": [],
   "source": [
    "myList.sort() #küçükten büyüğe dizmek için kullanılır\n",
    "# stringleri alfabetik dizer"
   ]
  },
  {
   "cell_type": "code",
   "execution_count": 73,
   "id": "9b22294a",
   "metadata": {},
   "outputs": [
    {
     "data": {
      "text/plain": [
       "[5, 15, 25, 35, 45, 55, 999]"
      ]
     },
     "execution_count": 73,
     "metadata": {},
     "output_type": "execute_result"
    }
   ],
   "source": [
    "myList"
   ]
  },
  {
   "cell_type": "code",
   "execution_count": 77,
   "id": "14bab8e6",
   "metadata": {},
   "outputs": [
    {
     "name": "stdout",
     "output_type": "stream",
     "text": [
      "enter x:25\n"
     ]
    }
   ],
   "source": [
    "x = input(\"enter x:\")"
   ]
  },
  {
   "cell_type": "code",
   "execution_count": 79,
   "id": "9b6b53d4",
   "metadata": {},
   "outputs": [
    {
     "data": {
      "text/plain": [
       "str"
      ]
     },
     "execution_count": 79,
     "metadata": {},
     "output_type": "execute_result"
    }
   ],
   "source": [
    "type(x) #python kullanıcıdan aldığı verileri her zaman string olarak kaydeder"
   ]
  },
  {
   "cell_type": "code",
   "execution_count": 80,
   "id": "c0b4d629",
   "metadata": {},
   "outputs": [
    {
     "name": "stdout",
     "output_type": "stream",
     "text": [
      "enter y:45\n"
     ]
    }
   ],
   "source": [
    "y = input(\"enter y:\")"
   ]
  },
  {
   "cell_type": "code",
   "execution_count": 82,
   "id": "f24ffce3",
   "metadata": {},
   "outputs": [
    {
     "data": {
      "text/plain": [
       "'2545'"
      ]
     },
     "execution_count": 82,
     "metadata": {},
     "output_type": "execute_result"
    }
   ],
   "source": [
    "x + y # sayı değil metin olarak"
   ]
  },
  {
   "cell_type": "code",
   "execution_count": 83,
   "id": "7fb1e257",
   "metadata": {},
   "outputs": [
    {
     "name": "stdout",
     "output_type": "stream",
     "text": [
      "enter z:67\n"
     ]
    }
   ],
   "source": [
    "z = input(\"enter z:\")"
   ]
  },
  {
   "cell_type": "code",
   "execution_count": 84,
   "id": "d7ccd160",
   "metadata": {},
   "outputs": [],
   "source": [
    "inputList = []"
   ]
  },
  {
   "cell_type": "code",
   "execution_count": 85,
   "id": "de69f6df",
   "metadata": {},
   "outputs": [
    {
     "data": {
      "text/plain": [
       "list"
      ]
     },
     "execution_count": 85,
     "metadata": {},
     "output_type": "execute_result"
    }
   ],
   "source": [
    "type(inputList)"
   ]
  },
  {
   "cell_type": "code",
   "execution_count": 86,
   "id": "ca1ff770",
   "metadata": {},
   "outputs": [
    {
     "data": {
      "text/plain": [
       "0"
      ]
     },
     "execution_count": 86,
     "metadata": {},
     "output_type": "execute_result"
    }
   ],
   "source": [
    "len(inputList)"
   ]
  },
  {
   "cell_type": "code",
   "execution_count": 87,
   "id": "8280f668",
   "metadata": {},
   "outputs": [],
   "source": [
    "inputList.append(x)\n",
    "inputList.append(y)\n",
    "inputList.append(z)"
   ]
  },
  {
   "cell_type": "code",
   "execution_count": 88,
   "id": "e3d48028",
   "metadata": {},
   "outputs": [
    {
     "data": {
      "text/plain": [
       "['25', '45', '67']"
      ]
     },
     "execution_count": 88,
     "metadata": {},
     "output_type": "execute_result"
    }
   ],
   "source": [
    "inputList"
   ]
  },
  {
   "cell_type": "code",
   "execution_count": 90,
   "id": "c628889f",
   "metadata": {},
   "outputs": [
    {
     "data": {
      "text/plain": [
       "'4545'"
      ]
     },
     "execution_count": 90,
     "metadata": {},
     "output_type": "execute_result"
    }
   ],
   "source": [
    "inputList[1] * 2 # string oldugu için 2yle çarpılmıyor"
   ]
  },
  {
   "cell_type": "code",
   "execution_count": 91,
   "id": "ea12e118",
   "metadata": {},
   "outputs": [
    {
     "data": {
      "text/plain": [
       "str"
      ]
     },
     "execution_count": 91,
     "metadata": {},
     "output_type": "execute_result"
    }
   ],
   "source": [
    "type(inputList[1])"
   ]
  },
  {
   "cell_type": "code",
   "execution_count": 92,
   "id": "3e45e21b",
   "metadata": {},
   "outputs": [],
   "source": [
    "myInteger = 50 # integer olarak tanımladım"
   ]
  },
  {
   "cell_type": "code",
   "execution_count": 93,
   "id": "b62568ef",
   "metadata": {},
   "outputs": [
    {
     "data": {
      "text/plain": [
       "'50'"
      ]
     },
     "execution_count": 93,
     "metadata": {},
     "output_type": "execute_result"
    }
   ],
   "source": [
    "str(myInteger) # stringe cevirdi"
   ]
  },
  {
   "cell_type": "code",
   "execution_count": 95,
   "id": "9303e732",
   "metadata": {},
   "outputs": [],
   "source": [
    "myString = \"100\"  # string olarak tnaımladım"
   ]
  },
  {
   "cell_type": "code",
   "execution_count": 97,
   "id": "e6adc53e",
   "metadata": {},
   "outputs": [
    {
     "data": {
      "text/plain": [
       "100"
      ]
     },
     "execution_count": 97,
     "metadata": {},
     "output_type": "execute_result"
    }
   ],
   "source": [
    "int(myString) # stringimi integera çevirdi"
   ]
  },
  {
   "cell_type": "code",
   "execution_count": 99,
   "id": "c3e95cbd",
   "metadata": {},
   "outputs": [],
   "source": [
    "# HARF İÇEREN STRİNGLER İNTEGERA YADA FLOATA DÖNÜŞTÜRÜLEMEZ"
   ]
  },
  {
   "cell_type": "code",
   "execution_count": 100,
   "id": "245f8995",
   "metadata": {},
   "outputs": [
    {
     "data": {
      "text/plain": [
       "['25', '45', '67']"
      ]
     },
     "execution_count": 100,
     "metadata": {},
     "output_type": "execute_result"
    }
   ],
   "source": [
    "inputList"
   ]
  },
  {
   "cell_type": "code",
   "execution_count": 101,
   "id": "cde75b57",
   "metadata": {},
   "outputs": [
    {
     "data": {
      "text/plain": [
       "90"
      ]
     },
     "execution_count": 101,
     "metadata": {},
     "output_type": "execute_result"
    }
   ],
   "source": [
    "int(inputList[1]) * 2 # 1.indexteki string olan sayıyı int e çevirip çarptı"
   ]
  },
  {
   "cell_type": "code",
   "execution_count": 103,
   "id": "9774e93d",
   "metadata": {},
   "outputs": [
    {
     "data": {
      "text/plain": [
       "\"['25', '45', '67']\""
      ]
     },
     "execution_count": 103,
     "metadata": {},
     "output_type": "execute_result"
    }
   ],
   "source": [
    "str(inputList) # yazıya çevirdi stringe"
   ]
  },
  {
   "cell_type": "code",
   "execution_count": 104,
   "id": "da6619d0",
   "metadata": {},
   "outputs": [
    {
     "data": {
      "text/plain": [
       "67"
      ]
     },
     "execution_count": 104,
     "metadata": {},
     "output_type": "execute_result"
    }
   ],
   "source": [
    "int(inputList[2]) # 2.indexi int e çevirdik"
   ]
  },
  {
   "cell_type": "code",
   "execution_count": 107,
   "id": "65312e3d",
   "metadata": {},
   "outputs": [],
   "source": [
    "nameList = [\"musdi\",\"cagla\",\"atlas\",\"atıl\"] # list in içine string atadım"
   ]
  },
  {
   "cell_type": "code",
   "execution_count": 106,
   "id": "c632499a",
   "metadata": {},
   "outputs": [
    {
     "data": {
      "text/plain": [
       "list"
      ]
     },
     "execution_count": 106,
     "metadata": {},
     "output_type": "execute_result"
    }
   ],
   "source": [
    "type(nameList)"
   ]
  },
  {
   "cell_type": "code",
   "execution_count": 110,
   "id": "a6ac8db7",
   "metadata": {},
   "outputs": [],
   "source": [
    "mixedList = [100,\"musdi\",3.14] #list in içine her veri tipi eklenebilir"
   ]
  },
  {
   "cell_type": "code",
   "execution_count": 109,
   "id": "a9bb158f",
   "metadata": {},
   "outputs": [
    {
     "data": {
      "text/plain": [
       "list"
      ]
     },
     "execution_count": 109,
     "metadata": {},
     "output_type": "execute_result"
    }
   ],
   "source": [
    "type(mixedList)"
   ]
  },
  {
   "cell_type": "code",
   "execution_count": 111,
   "id": "6230fb77",
   "metadata": {},
   "outputs": [],
   "source": [
    "list1 = [10,20,30]\n",
    "list2 = [1,2,3]"
   ]
  },
  {
   "cell_type": "code",
   "execution_count": 113,
   "id": "4bfb69e4",
   "metadata": {},
   "outputs": [
    {
     "data": {
      "text/plain": [
       "[10, 20, 30, 1, 2, 3]"
      ]
     },
     "execution_count": 113,
     "metadata": {},
     "output_type": "execute_result"
    }
   ],
   "source": [
    "list1 + list2 # sonuna diğerini ekler(ilkinin sonuna)"
   ]
  },
  {
   "cell_type": "code",
   "execution_count": 114,
   "id": "2119d21d",
   "metadata": {},
   "outputs": [
    {
     "data": {
      "text/plain": [
       "[10, 20, 30, 10, 20, 30]"
      ]
     },
     "execution_count": 114,
     "metadata": {},
     "output_type": "execute_result"
    }
   ],
   "source": [
    "list1 * 2 # list1 i 2 kere yazdırmak için çarpma kullanılır"
   ]
  },
  {
   "cell_type": "code",
   "execution_count": 115,
   "id": "4acfaa4d",
   "metadata": {},
   "outputs": [],
   "source": [
    "# stringlerdeki çarpma toplama mevzusu list içinde geçerlidir"
   ]
  },
  {
   "cell_type": "code",
   "execution_count": 116,
   "id": "afa30272",
   "metadata": {},
   "outputs": [
    {
     "data": {
      "text/plain": [
       "[100, 'musdi', 3.14]"
      ]
     },
     "execution_count": 116,
     "metadata": {},
     "output_type": "execute_result"
    }
   ],
   "source": [
    "mixedList"
   ]
  },
  {
   "cell_type": "code",
   "execution_count": 118,
   "id": "60166b20",
   "metadata": {},
   "outputs": [
    {
     "data": {
      "text/plain": [
       "int"
      ]
     },
     "execution_count": 118,
     "metadata": {},
     "output_type": "execute_result"
    }
   ],
   "source": [
    "type(mixedList[0]) "
   ]
  },
  {
   "cell_type": "code",
   "execution_count": 119,
   "id": "8dc1ebe3",
   "metadata": {},
   "outputs": [
    {
     "data": {
      "text/plain": [
       "str"
      ]
     },
     "execution_count": 119,
     "metadata": {},
     "output_type": "execute_result"
    }
   ],
   "source": [
    "type(mixedList[1])"
   ]
  },
  {
   "cell_type": "code",
   "execution_count": 121,
   "id": "7879b682",
   "metadata": {},
   "outputs": [],
   "source": [
    "# python listenin içindeki verilerin türlerini kendisi anlayabilir"
   ]
  },
  {
   "cell_type": "code",
   "execution_count": 122,
   "id": "a530a3dd",
   "metadata": {},
   "outputs": [],
   "source": [
    "#nestedList iç içe geçmiş listeler"
   ]
  },
  {
   "cell_type": "code",
   "execution_count": 124,
   "id": "91efeda4",
   "metadata": {},
   "outputs": [],
   "source": [
    "myNestedList = [10,20,30,\"musdi\",[1,2,3]]"
   ]
  },
  {
   "cell_type": "code",
   "execution_count": 125,
   "id": "bbaced23",
   "metadata": {},
   "outputs": [
    {
     "data": {
      "text/plain": [
       "[1, 2, 3]"
      ]
     },
     "execution_count": 125,
     "metadata": {},
     "output_type": "execute_result"
    }
   ],
   "source": [
    "myNestedList[4] # içindeki lşsteyi de bir elemanmış gibi görüp yazdırıyor"
   ]
  },
  {
   "cell_type": "code",
   "execution_count": 126,
   "id": "6d42dc72",
   "metadata": {},
   "outputs": [
    {
     "data": {
      "text/plain": [
       "'musdi'"
      ]
     },
     "execution_count": 126,
     "metadata": {},
     "output_type": "execute_result"
    }
   ],
   "source": [
    "myNestedList[3]"
   ]
  },
  {
   "cell_type": "code",
   "execution_count": 127,
   "id": "4d452332",
   "metadata": {},
   "outputs": [],
   "source": [
    "x = myNestedList[2] # x e 2.indexi atadım"
   ]
  },
  {
   "cell_type": "code",
   "execution_count": 128,
   "id": "f05e5368",
   "metadata": {},
   "outputs": [
    {
     "data": {
      "text/plain": [
       "30"
      ]
     },
     "execution_count": 128,
     "metadata": {},
     "output_type": "execute_result"
    }
   ],
   "source": [
    "x"
   ]
  },
  {
   "cell_type": "code",
   "execution_count": 129,
   "id": "829610f0",
   "metadata": {},
   "outputs": [],
   "source": [
    "smallList = myNestedList[4]"
   ]
  },
  {
   "cell_type": "code",
   "execution_count": 130,
   "id": "6a324a86",
   "metadata": {},
   "outputs": [
    {
     "data": {
      "text/plain": [
       "list"
      ]
     },
     "execution_count": 130,
     "metadata": {},
     "output_type": "execute_result"
    }
   ],
   "source": [
    "type(smallList)"
   ]
  },
  {
   "cell_type": "code",
   "execution_count": 131,
   "id": "67480879",
   "metadata": {},
   "outputs": [
    {
     "data": {
      "text/plain": [
       "[1, 2, 3]"
      ]
     },
     "execution_count": 131,
     "metadata": {},
     "output_type": "execute_result"
    }
   ],
   "source": [
    "smallList"
   ]
  },
  {
   "cell_type": "code",
   "execution_count": 132,
   "id": "982357af",
   "metadata": {},
   "outputs": [
    {
     "data": {
      "text/plain": [
       "[10, 20, 30, 'musdi', [1, 2, 3]]"
      ]
     },
     "execution_count": 132,
     "metadata": {},
     "output_type": "execute_result"
    }
   ],
   "source": [
    "myNestedList"
   ]
  },
  {
   "cell_type": "code",
   "execution_count": 134,
   "id": "4adbedf0",
   "metadata": {},
   "outputs": [
    {
     "data": {
      "text/plain": [
       "2"
      ]
     },
     "execution_count": 134,
     "metadata": {},
     "output_type": "execute_result"
    }
   ],
   "source": [
    "myNestedList[4][1] #4.indexteki listenin 1.indexindeki değeri göster demek"
   ]
  },
  {
   "cell_type": "code",
   "execution_count": 135,
   "id": "43c31c17",
   "metadata": {},
   "outputs": [
    {
     "data": {
      "text/plain": [
       "1"
      ]
     },
     "execution_count": 135,
     "metadata": {},
     "output_type": "execute_result"
    }
   ],
   "source": [
    "myNestedList[4][0] #4.indexteki listenin 0.indexindeki değeri göster demek"
   ]
  },
  {
   "cell_type": "code",
   "execution_count": 136,
   "id": "00bc6ae7",
   "metadata": {},
   "outputs": [],
   "source": [
    "#4.indexteki 2yi bulmanın uzun yolu"
   ]
  },
  {
   "cell_type": "code",
   "execution_count": 137,
   "id": "cc0f2bdb",
   "metadata": {},
   "outputs": [],
   "source": [
    "kucukListe = myNestedList[4]"
   ]
  },
  {
   "cell_type": "code",
   "execution_count": 138,
   "id": "5868159f",
   "metadata": {},
   "outputs": [
    {
     "data": {
      "text/plain": [
       "[1, 2, 3]"
      ]
     },
     "execution_count": 138,
     "metadata": {},
     "output_type": "execute_result"
    }
   ],
   "source": [
    "kucukListe "
   ]
  },
  {
   "cell_type": "code",
   "execution_count": 139,
   "id": "d9a123ee",
   "metadata": {},
   "outputs": [
    {
     "data": {
      "text/plain": [
       "2"
      ]
     },
     "execution_count": 139,
     "metadata": {},
     "output_type": "execute_result"
    }
   ],
   "source": [
    "kucukListe[1] # bu yolla da bulunur ama olmaz"
   ]
  },
  {
   "cell_type": "code",
   "execution_count": 140,
   "id": "bcb6de59",
   "metadata": {},
   "outputs": [],
   "source": [
    "lastList = [\"a\",\"b\",[\"c\",\"d\",\"e\"],\"f\"]"
   ]
  },
  {
   "cell_type": "code",
   "execution_count": 141,
   "id": "a82aacfb",
   "metadata": {},
   "outputs": [
    {
     "data": {
      "text/plain": [
       "4"
      ]
     },
     "execution_count": 141,
     "metadata": {},
     "output_type": "execute_result"
    }
   ],
   "source": [
    "len(lastList) # toplam 4 tane elemanı var"
   ]
  },
  {
   "cell_type": "code",
   "execution_count": 143,
   "id": "1318cd35",
   "metadata": {},
   "outputs": [
    {
     "data": {
      "text/plain": [
       "3"
      ]
     },
     "execution_count": 143,
     "metadata": {},
     "output_type": "execute_result"
    }
   ],
   "source": [
    "len(lastList[2]) # 2.indexin toplam 3 tane elemanı var"
   ]
  },
  {
   "cell_type": "code",
   "execution_count": 144,
   "id": "38a23ce5",
   "metadata": {},
   "outputs": [
    {
     "data": {
      "text/plain": [
       "'d'"
      ]
     },
     "execution_count": 144,
     "metadata": {},
     "output_type": "execute_result"
    }
   ],
   "source": [
    "# d ye ulaşmak için\n",
    "lastList[2][1]"
   ]
  },
  {
   "cell_type": "code",
   "execution_count": 146,
   "id": "a88b4282",
   "metadata": {},
   "outputs": [],
   "source": [
    "firstList = [10,20,30,40,50,60,70,80,90]"
   ]
  },
  {
   "cell_type": "code",
   "execution_count": 147,
   "id": "c2269f9d",
   "metadata": {},
   "outputs": [
    {
     "data": {
      "text/plain": [
       "[30, 40, 50]"
      ]
     },
     "execution_count": 147,
     "metadata": {},
     "output_type": "execute_result"
    }
   ],
   "source": [
    "firstList[2:5:1] #5.indexte durdu 5 i yazdırmadı"
   ]
  },
  {
   "cell_type": "code",
   "execution_count": 148,
   "id": "cd27fad8",
   "metadata": {},
   "outputs": [
    {
     "data": {
      "text/plain": [
       "[20, 30, 40, 50, 60, 70]"
      ]
     },
     "execution_count": 148,
     "metadata": {},
     "output_type": "execute_result"
    }
   ],
   "source": [
    "firstList[1:7] # 1 den başla 7 ye kadar"
   ]
  },
  {
   "cell_type": "code",
   "execution_count": 150,
   "id": "d2254316",
   "metadata": {},
   "outputs": [
    {
     "data": {
      "text/plain": [
       "[30, 50, 70]"
      ]
     },
     "execution_count": 150,
     "metadata": {},
     "output_type": "execute_result"
    }
   ],
   "source": [
    "firstList[2:8:2] # 2 den başla 8 e kadar ikişer atlayarak git"
   ]
  },
  {
   "cell_type": "code",
   "execution_count": null,
   "id": "fea2ad94",
   "metadata": {},
   "outputs": [],
   "source": [
    "# string slicing birebir burda da geçerlidir"
   ]
  }
 ],
 "metadata": {
  "kernelspec": {
   "display_name": "Python 3 (ipykernel)",
   "language": "python",
   "name": "python3"
  },
  "language_info": {
   "codemirror_mode": {
    "name": "ipython",
    "version": 3
   },
   "file_extension": ".py",
   "mimetype": "text/x-python",
   "name": "python",
   "nbconvert_exporter": "python",
   "pygments_lexer": "ipython3",
   "version": "3.11.5"
  }
 },
 "nbformat": 4,
 "nbformat_minor": 5
}
