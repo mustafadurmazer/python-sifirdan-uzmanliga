{
 "cells": [
  {
   "cell_type": "markdown",
   "id": "b5db7b28",
   "metadata": {},
   "source": [
    "# inheritance"
   ]
  },
  {
   "cell_type": "code",
   "execution_count": 1,
   "id": "704d5354",
   "metadata": {},
   "outputs": [],
   "source": [
    "class Musician():\n",
    "    def __init__(self,name):\n",
    "        self.name = name\n",
    "        print(\"musician class\")\n",
    "        \n",
    "    def test1(self):\n",
    "        print(\"test1\")\n",
    "    \n",
    "    def test2(self):\n",
    "        print(\"test2\")"
   ]
  },
  {
   "cell_type": "code",
   "execution_count": 2,
   "id": "5d9dbd42",
   "metadata": {},
   "outputs": [
    {
     "name": "stdout",
     "output_type": "stream",
     "text": [
      "musician class\n"
     ]
    }
   ],
   "source": [
    "mustafa = Musician(\"mustafa\")"
   ]
  },
  {
   "cell_type": "code",
   "execution_count": 3,
   "id": "2a2903d1",
   "metadata": {},
   "outputs": [
    {
     "name": "stdout",
     "output_type": "stream",
     "text": [
      "test1\n"
     ]
    }
   ],
   "source": [
    "mustafa.test1()"
   ]
  },
  {
   "cell_type": "code",
   "execution_count": 4,
   "id": "fa5d97b2",
   "metadata": {},
   "outputs": [
    {
     "name": "stdout",
     "output_type": "stream",
     "text": [
      "test2\n"
     ]
    }
   ],
   "source": [
    "mustafa.test2()"
   ]
  },
  {
   "cell_type": "code",
   "execution_count": 5,
   "id": "5480b6ef",
   "metadata": {},
   "outputs": [],
   "source": [
    "class MusicianPlus(Musician):\n",
    "    \n",
    "    def __init__(self,name):\n",
    "        Musician.__init__(self,name)\n",
    "        print(\"MusicianPlus\")\n",
    "        \n",
    "    def test3(self):\n",
    "        print(\"test3\")\n",
    "        \n",
    "    # kalıtım aldıgım classtaki fonksiyonu ana fonksiyonda değiştirebilirim\n",
    "    # buna override denir.İlk class taki test 1 değişmez\n",
    "    def test1(self):\n",
    "        print(\"test1 test1 test1\")\n",
    "    "
   ]
  },
  {
   "cell_type": "code",
   "execution_count": 6,
   "id": "0814c803",
   "metadata": {},
   "outputs": [
    {
     "name": "stdout",
     "output_type": "stream",
     "text": [
      "musician class\n",
      "MusicianPlus\n"
     ]
    }
   ],
   "source": [
    "cagla = MusicianPlus(\"Cagla\")"
   ]
  },
  {
   "cell_type": "code",
   "execution_count": 7,
   "id": "ccad6b73",
   "metadata": {},
   "outputs": [
    {
     "name": "stdout",
     "output_type": "stream",
     "text": [
      "test1 test1 test1\n",
      "test1\n"
     ]
    }
   ],
   "source": [
    "cagla.test1() #ana classtaki test 1\n",
    "mustafa.test1() # kalıtım alınan class taki test 1"
   ]
  },
  {
   "cell_type": "code",
   "execution_count": 8,
   "id": "d5f1d639",
   "metadata": {},
   "outputs": [
    {
     "name": "stdout",
     "output_type": "stream",
     "text": [
      "test2\n"
     ]
    }
   ],
   "source": [
    "cagla.test2()"
   ]
  },
  {
   "cell_type": "code",
   "execution_count": 9,
   "id": "7fe83372",
   "metadata": {},
   "outputs": [],
   "source": [
    "cagla.name = \"Cagla Durmazer\""
   ]
  },
  {
   "cell_type": "code",
   "execution_count": 10,
   "id": "d2d7e91f",
   "metadata": {},
   "outputs": [
    {
     "data": {
      "text/plain": [
       "'Cagla Durmazer'"
      ]
     },
     "execution_count": 10,
     "metadata": {},
     "output_type": "execute_result"
    }
   ],
   "source": [
    "cagla.name"
   ]
  },
  {
   "cell_type": "code",
   "execution_count": 11,
   "id": "76c7982e",
   "metadata": {},
   "outputs": [
    {
     "data": {
      "text/plain": [
       "__main__.MusicianPlus"
      ]
     },
     "execution_count": 11,
     "metadata": {},
     "output_type": "execute_result"
    }
   ],
   "source": [
    "type(cagla) # iç içe class gibi düşün aslında ana klasım musician plus ama ben name verisini musician dan aldım"
   ]
  },
  {
   "cell_type": "code",
   "execution_count": 12,
   "id": "7051a91a",
   "metadata": {},
   "outputs": [
    {
     "name": "stdout",
     "output_type": "stream",
     "text": [
      "test3\n"
     ]
    }
   ],
   "source": [
    "cagla.test3()"
   ]
  },
  {
   "cell_type": "code",
   "execution_count": 13,
   "id": "0cef18fd",
   "metadata": {},
   "outputs": [],
   "source": [
    "# mustafa . tab diyince test 3 onda çıkmaz çünkü test 3 musician plus classında\n",
    "# musician plus classı musician classından veri alabilir ama tam tersi olmaz"
   ]
  },
  {
   "cell_type": "markdown",
   "id": "46975c74",
   "metadata": {},
   "source": [
    "# polymorphism"
   ]
  },
  {
   "cell_type": "code",
   "execution_count": 14,
   "id": "a8a2bf4a",
   "metadata": {},
   "outputs": [],
   "source": [
    "class Banana():\n",
    "    \n",
    "    def __init__(self,name):\n",
    "        self.name = name\n",
    "    \n",
    "    def info(self):\n",
    "        return f\"100 calorie {self.name}\"\n",
    "\n",
    "class Apple():\n",
    "    \n",
    "    def __init__(self,name):\n",
    "        self.name = name\n",
    "    \n",
    "    def info(self):\n",
    "        return f\"175 calorie {self.name}\""
   ]
  },
  {
   "cell_type": "code",
   "execution_count": 15,
   "id": "6b42367a",
   "metadata": {},
   "outputs": [],
   "source": [
    "banana = Banana(\"banane\")"
   ]
  },
  {
   "cell_type": "code",
   "execution_count": 16,
   "id": "5fa36ded",
   "metadata": {},
   "outputs": [],
   "source": [
    "apple = Apple(\"apple\")"
   ]
  },
  {
   "cell_type": "code",
   "execution_count": 17,
   "id": "74444afe",
   "metadata": {},
   "outputs": [
    {
     "data": {
      "text/plain": [
       "'100 calorie banane'"
      ]
     },
     "execution_count": 17,
     "metadata": {},
     "output_type": "execute_result"
    }
   ],
   "source": [
    "banana.info()"
   ]
  },
  {
   "cell_type": "code",
   "execution_count": 18,
   "id": "d2bda081",
   "metadata": {},
   "outputs": [
    {
     "data": {
      "text/plain": [
       "'175 calorie apple'"
      ]
     },
     "execution_count": 18,
     "metadata": {},
     "output_type": "execute_result"
    }
   ],
   "source": [
    "apple.info()"
   ]
  },
  {
   "cell_type": "code",
   "execution_count": 19,
   "id": "f08c34d3",
   "metadata": {},
   "outputs": [],
   "source": [
    "fruitList = [banana,apple]"
   ]
  },
  {
   "cell_type": "code",
   "execution_count": 20,
   "id": "55d9696b",
   "metadata": {},
   "outputs": [
    {
     "name": "stdout",
     "output_type": "stream",
     "text": [
      "100 calorie banane\n",
      "175 calorie apple\n"
     ]
    }
   ],
   "source": [
    "for fruit in fruitList:\n",
    "    print(fruit.info()) # normalde hata vermesi gerekiyor ama vermedi polymorphismden dolayı"
   ]
  },
  {
   "cell_type": "code",
   "execution_count": 21,
   "id": "54f44719",
   "metadata": {},
   "outputs": [],
   "source": [
    "# farklı classlardaki aynı isimli fonksiyonları döngülerde yada farklı yerlerde aynı anda kullanacagımda işime yarar"
   ]
  },
  {
   "cell_type": "markdown",
   "id": "36f93b26",
   "metadata": {},
   "source": [
    "# encapsulation"
   ]
  },
  {
   "cell_type": "code",
   "execution_count": 54,
   "id": "81d63cc8",
   "metadata": {},
   "outputs": [],
   "source": [
    "# değiştirilmesini istemedigim classın içindeki değişkenin başına __ koyarak değiştirilemez hale getiriyoruz\n",
    "# illaki değişicekse sadece class kısmından yazacagımız yeni bir fonksiyonla değişebilir"
   ]
  },
  {
   "cell_type": "code",
   "execution_count": 55,
   "id": "07eb5b35",
   "metadata": {},
   "outputs": [],
   "source": [
    "class Phone():\n",
    "    \n",
    "    def __init__(self,name,price):\n",
    "        self.name = name\n",
    "        self.__price = price\n",
    "        \n",
    "    def info(self):\n",
    "        print(f\"{self.name} price is: {self.__price}\")\n",
    "    \n",
    "    def changePrice(self,price):\n",
    "        self.__price = price"
   ]
  },
  {
   "cell_type": "code",
   "execution_count": 56,
   "id": "bf6ef6f7",
   "metadata": {},
   "outputs": [],
   "source": [
    "iphone = Phone(\"iPhone 14\",500)"
   ]
  },
  {
   "cell_type": "code",
   "execution_count": 57,
   "id": "7b1a9b92",
   "metadata": {},
   "outputs": [
    {
     "name": "stdout",
     "output_type": "stream",
     "text": [
      "iPhone 14 price is: 500\n"
     ]
    }
   ],
   "source": [
    "iphone.info()"
   ]
  },
  {
   "cell_type": "code",
   "execution_count": 58,
   "id": "fbcb40cb",
   "metadata": {},
   "outputs": [],
   "source": [
    "iphone.price = 400   # normalde bunu kullanarak değiştirebilirdim\n",
    "iphone.__price = 400\n",
    "# ama classın içinde değişmesini istemedigim değişkenin başına \"__\" yaparsam o değişken bir daha değiştirilemez\n",
    "# değiştirilmek istenirse sadece class ın içinden değiştirilebilir"
   ]
  },
  {
   "cell_type": "code",
   "execution_count": 59,
   "id": "c655836a",
   "metadata": {},
   "outputs": [
    {
     "data": {
      "text/plain": [
       "400"
      ]
     },
     "execution_count": 59,
     "metadata": {},
     "output_type": "execute_result"
    }
   ],
   "source": [
    "iphone.price "
   ]
  },
  {
   "cell_type": "code",
   "execution_count": 60,
   "id": "b72a64d9",
   "metadata": {},
   "outputs": [
    {
     "name": "stdout",
     "output_type": "stream",
     "text": [
      "iPhone 14 price is: 500\n"
     ]
    }
   ],
   "source": [
    "iphone.info()"
   ]
  },
  {
   "cell_type": "code",
   "execution_count": 61,
   "id": "359b59ae",
   "metadata": {},
   "outputs": [],
   "source": [
    "iphone.changePrice(760) # yukarda yazdıgım metodu kullanarak değiştirebiliriö"
   ]
  },
  {
   "cell_type": "code",
   "execution_count": 62,
   "id": "f3cdd5bc",
   "metadata": {},
   "outputs": [
    {
     "name": "stdout",
     "output_type": "stream",
     "text": [
      "iPhone 14 price is: 760\n"
     ]
    }
   ],
   "source": [
    "iphone.info() "
   ]
  },
  {
   "cell_type": "markdown",
   "id": "2eb71cdc",
   "metadata": {},
   "source": [
    "# abstraction"
   ]
  },
  {
   "cell_type": "code",
   "execution_count": 73,
   "id": "a3691501",
   "metadata": {},
   "outputs": [],
   "source": [
    "from abc import ABC, abstractmethod\n",
    "# bunu yaparak abstraction metohdunu ekliyoruz"
   ]
  },
  {
   "cell_type": "code",
   "execution_count": 64,
   "id": "f7d81a2e",
   "metadata": {},
   "outputs": [],
   "source": [
    "class Car(ABC):\n",
    "    \n",
    "    @abstractmethod\n",
    "    def maxSpeed(self):\n",
    "        pass\n",
    "    "
   ]
  },
  {
   "cell_type": "code",
   "execution_count": 74,
   "id": "e275467d",
   "metadata": {},
   "outputs": [],
   "source": [
    "class Tesla(Car): # sanki intharience yapıyomuşuz gibi\n",
    "    \n",
    "    def maxSpeed(self):\n",
    "        print(\"200km\")"
   ]
  },
  {
   "cell_type": "code",
   "execution_count": 68,
   "id": "aec9f82b",
   "metadata": {},
   "outputs": [],
   "source": [
    "tesla = Tesla()"
   ]
  },
  {
   "cell_type": "code",
   "execution_count": 69,
   "id": "33410be8",
   "metadata": {},
   "outputs": [
    {
     "name": "stdout",
     "output_type": "stream",
     "text": [
      "200km\n"
     ]
    }
   ],
   "source": [
    "tesla.maxSpeed()"
   ]
  },
  {
   "cell_type": "code",
   "execution_count": 70,
   "id": "a2d5cbfe",
   "metadata": {},
   "outputs": [],
   "source": [
    "class Mercedes(Car):\n",
    "    \n",
    "    def maxSpeed(self):\n",
    "        print(\"250km\")"
   ]
  },
  {
   "cell_type": "code",
   "execution_count": 71,
   "id": "3c545dd2",
   "metadata": {},
   "outputs": [],
   "source": [
    "mercedes = Mercedes()"
   ]
  },
  {
   "cell_type": "code",
   "execution_count": 72,
   "id": "674acf29",
   "metadata": {},
   "outputs": [
    {
     "name": "stdout",
     "output_type": "stream",
     "text": [
      "250km\n"
     ]
    }
   ],
   "source": [
    "mercedes.maxSpeed()"
   ]
  },
  {
   "cell_type": "code",
   "execution_count": 28,
   "id": "16eead10",
   "metadata": {},
   "outputs": [],
   "source": [
    "class Fruit():\n",
    "    def __init__(self,name,calories):\n",
    "        self.name = name\n",
    "        self.calories = calories\n",
    "        \n",
    "    def __str__(self): # bu fonksiyonu kendim yazdım printte kalorisini yazdırsın diye\n",
    "        return f\"{self.name}: {self.calories} calories\"\n",
    "    \n",
    "    def __len__(self): # bu fonksiyonda len() kullanıldıgında kalori yazdırdıım\n",
    "        return self.calories # sadece int değerleri yazdırıyor !!!!\n",
    "    \n",
    "    # bunları bilmem beklenemez ama googleden bakarak yazabilirim"
   ]
  },
  {
   "cell_type": "code",
   "execution_count": 29,
   "id": "ad39cebe",
   "metadata": {},
   "outputs": [],
   "source": [
    "myFruit = Fruit(\"banana\",150)"
   ]
  },
  {
   "cell_type": "code",
   "execution_count": 30,
   "id": "47e7f029",
   "metadata": {},
   "outputs": [
    {
     "data": {
      "text/plain": [
       "150"
      ]
     },
     "execution_count": 30,
     "metadata": {},
     "output_type": "execute_result"
    }
   ],
   "source": [
    "myFruit.calories"
   ]
  },
  {
   "cell_type": "code",
   "execution_count": 31,
   "id": "0e851b85",
   "metadata": {},
   "outputs": [
    {
     "data": {
      "text/plain": [
       "'banana'"
      ]
     },
     "execution_count": 31,
     "metadata": {},
     "output_type": "execute_result"
    }
   ],
   "source": [
    "myFruit.name"
   ]
  },
  {
   "cell_type": "code",
   "execution_count": 32,
   "id": "18341899",
   "metadata": {},
   "outputs": [
    {
     "name": "stdout",
     "output_type": "stream",
     "text": [
      "banana: 150 calories\n"
     ]
    }
   ],
   "source": [
    "print(myFruit)"
   ]
  },
  {
   "cell_type": "code",
   "execution_count": 33,
   "id": "369668ef",
   "metadata": {},
   "outputs": [
    {
     "data": {
      "text/plain": [
       "150"
      ]
     },
     "execution_count": 33,
     "metadata": {},
     "output_type": "execute_result"
    }
   ],
   "source": [
    "len(myFruit)"
   ]
  },
  {
   "cell_type": "code",
   "execution_count": 46,
   "id": "27b2f99c",
   "metadata": {},
   "outputs": [],
   "source": [
    "class Train():\n",
    "    def __init__(self,name):\n",
    "        self.name = name\n",
    "    def __getitem__(self,key):\n",
    "        if key == \"a\":\n",
    "            return self.name\n",
    "        else:\n",
    "            return \"HELLOOOOOOOOOO\"\n",
    "        \n",
    "# bir sürü eklenebilecek fonksiyon var bak araştır"
   ]
  },
  {
   "cell_type": "code",
   "execution_count": 42,
   "id": "c02808b1",
   "metadata": {},
   "outputs": [],
   "source": [
    "myTrain = Train(\"myTrain\")"
   ]
  },
  {
   "cell_type": "code",
   "execution_count": 43,
   "id": "e9687a2f",
   "metadata": {},
   "outputs": [
    {
     "data": {
      "text/plain": [
       "'myTrain'"
      ]
     },
     "execution_count": 43,
     "metadata": {},
     "output_type": "execute_result"
    }
   ],
   "source": [
    "myTrain[\"a\"]"
   ]
  },
  {
   "cell_type": "code",
   "execution_count": 45,
   "id": "95be265b",
   "metadata": {},
   "outputs": [
    {
     "data": {
      "text/plain": [
       "'HELLOOOOOOOOOO'"
      ]
     },
     "execution_count": 45,
     "metadata": {},
     "output_type": "execute_result"
    }
   ],
   "source": [
    "myTrain[\"v\"] # a olmadıgı için else kısmını çalıştırdı"
   ]
  },
  {
   "cell_type": "code",
   "execution_count": null,
   "id": "faa4a4d6",
   "metadata": {},
   "outputs": [],
   "source": []
  }
 ],
 "metadata": {
  "kernelspec": {
   "display_name": "Python 3 (ipykernel)",
   "language": "python",
   "name": "python3"
  },
  "language_info": {
   "codemirror_mode": {
    "name": "ipython",
    "version": 3
   },
   "file_extension": ".py",
   "mimetype": "text/x-python",
   "name": "python",
   "nbconvert_exporter": "python",
   "pygments_lexer": "ipython3",
   "version": "3.11.5"
  }
 },
 "nbformat": 4,
 "nbformat_minor": 5
}
