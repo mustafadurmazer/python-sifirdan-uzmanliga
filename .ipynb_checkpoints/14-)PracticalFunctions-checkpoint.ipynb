{
 "cells": [
  {
   "cell_type": "code",
   "execution_count": 7,
   "id": "629740dc",
   "metadata": {},
   "outputs": [],
   "source": [
    "def divideNumber(number):\n",
    "    return number / 2"
   ]
  },
  {
   "cell_type": "code",
   "execution_count": 8,
   "id": "b3bf69c9",
   "metadata": {},
   "outputs": [
    {
     "data": {
      "text/plain": [
       "10.0"
      ]
     },
     "execution_count": 8,
     "metadata": {},
     "output_type": "execute_result"
    }
   ],
   "source": [
    "divideNumber(20)"
   ]
  },
  {
   "cell_type": "code",
   "execution_count": 9,
   "id": "3f4d7347",
   "metadata": {},
   "outputs": [],
   "source": [
    "myList = [3,5,6,10,20]"
   ]
  },
  {
   "cell_type": "code",
   "execution_count": 10,
   "id": "cf9d430a",
   "metadata": {},
   "outputs": [],
   "source": [
    "myResultList = []"
   ]
  },
  {
   "cell_type": "code",
   "execution_count": 11,
   "id": "c2182512",
   "metadata": {},
   "outputs": [
    {
     "data": {
      "text/plain": [
       "[1.5, 2.5, 3.0, 5.0, 10.0]"
      ]
     },
     "execution_count": 11,
     "metadata": {},
     "output_type": "execute_result"
    }
   ],
   "source": [
    "for i in myList:\n",
    "    myResultList.append(divideNumber(i))\n",
    "myResultList"
   ]
  },
  {
   "cell_type": "markdown",
   "id": "dfb0d6f6",
   "metadata": {},
   "source": [
    "# map"
   ]
  },
  {
   "cell_type": "code",
   "execution_count": 12,
   "id": "4cdac596",
   "metadata": {},
   "outputs": [
    {
     "name": "stdout",
     "output_type": "stream",
     "text": [
      "Help on class map in module builtins:\n",
      "\n",
      "class map(object)\n",
      " |  map(func, *iterables) --> map object\n",
      " |  \n",
      " |  Make an iterator that computes the function using arguments from\n",
      " |  each of the iterables.  Stops when the shortest iterable is exhausted.\n",
      " |  \n",
      " |  Methods defined here:\n",
      " |  \n",
      " |  __getattribute__(self, name, /)\n",
      " |      Return getattr(self, name).\n",
      " |  \n",
      " |  __iter__(self, /)\n",
      " |      Implement iter(self).\n",
      " |  \n",
      " |  __next__(self, /)\n",
      " |      Implement next(self).\n",
      " |  \n",
      " |  __reduce__(...)\n",
      " |      Return state information for pickling.\n",
      " |  \n",
      " |  ----------------------------------------------------------------------\n",
      " |  Static methods defined here:\n",
      " |  \n",
      " |  __new__(*args, **kwargs) from builtins.type\n",
      " |      Create and return a new object.  See help(type) for accurate signature.\n",
      "\n"
     ]
    }
   ],
   "source": [
    "help(map)"
   ]
  },
  {
   "cell_type": "code",
   "execution_count": 14,
   "id": "016cbea2",
   "metadata": {},
   "outputs": [],
   "source": [
    "myNew = list(map(divideNumber,myList))"
   ]
  },
  {
   "cell_type": "code",
   "execution_count": 15,
   "id": "94d82e70",
   "metadata": {},
   "outputs": [
    {
     "data": {
      "text/plain": [
       "[1.5, 2.5, 3.0, 5.0, 10.0]"
      ]
     },
     "execution_count": 15,
     "metadata": {},
     "output_type": "execute_result"
    }
   ],
   "source": [
    "myNew"
   ]
  },
  {
   "cell_type": "code",
   "execution_count": 16,
   "id": "c0a8ec92",
   "metadata": {},
   "outputs": [],
   "source": [
    "# map fonksiyonu isteğimin listedeki elemanların hepsine istediğim fonksiyonu teker teker uygular"
   ]
  },
  {
   "cell_type": "code",
   "execution_count": 17,
   "id": "acd07b7f",
   "metadata": {},
   "outputs": [],
   "source": [
    "# daha sonra ben sonucu bir listeye atayabilirim"
   ]
  },
  {
   "cell_type": "code",
   "execution_count": 18,
   "id": "e0ec1c94",
   "metadata": {},
   "outputs": [],
   "source": [
    "def controlString(string):\n",
    "    return \"Atil\" in string"
   ]
  },
  {
   "cell_type": "code",
   "execution_count": 21,
   "id": "f389e61f",
   "metadata": {},
   "outputs": [
    {
     "data": {
      "text/plain": [
       "True"
      ]
     },
     "execution_count": 21,
     "metadata": {},
     "output_type": "execute_result"
    }
   ],
   "source": [
    "controlString(\"mustafaAtildurmazer\")\n",
    "# string in içinde Atili buldugu için true booleanını döndürdü"
   ]
  },
  {
   "cell_type": "code",
   "execution_count": 22,
   "id": "a2e1e49b",
   "metadata": {},
   "outputs": [],
   "source": [
    "myStringList = [\"mustafa\",\"atil\",\"Atil\",\"cagla\",\"durmazer\"]"
   ]
  },
  {
   "cell_type": "code",
   "execution_count": 23,
   "id": "417ef659",
   "metadata": {},
   "outputs": [
    {
     "data": {
      "text/plain": [
       "<map at 0x22e2828d900>"
      ]
     },
     "execution_count": 23,
     "metadata": {},
     "output_type": "execute_result"
    }
   ],
   "source": [
    "map(controlString,myStringList) # ilk başta fonksiyon daha sonra fonskiyonun çalışacagı liste"
   ]
  },
  {
   "cell_type": "code",
   "execution_count": 26,
   "id": "c7738bd8",
   "metadata": {},
   "outputs": [],
   "source": [
    "Liste = list(map(controlString,myStringList))"
   ]
  },
  {
   "cell_type": "code",
   "execution_count": 27,
   "id": "13e9eb46",
   "metadata": {},
   "outputs": [
    {
     "data": {
      "text/plain": [
       "[False, False, True, False, False]"
      ]
     },
     "execution_count": 27,
     "metadata": {},
     "output_type": "execute_result"
    }
   ],
   "source": [
    "Liste"
   ]
  },
  {
   "cell_type": "markdown",
   "id": "602fa865",
   "metadata": {},
   "source": [
    "# filter"
   ]
  },
  {
   "cell_type": "markdown",
   "id": "1b9189ca",
   "metadata": {},
   "source": [
    "# list(filter(controlString,myStringList)) \n",
    "#bu fonksiyonla sadece istediğim şart sağlanırsa onu yazdırıyor"
   ]
  },
  {
   "cell_type": "code",
   "execution_count": 1,
   "id": "394646ac",
   "metadata": {},
   "outputs": [],
   "source": [
    "def numControl(*args):\n",
    "    return 5 in args"
   ]
  },
  {
   "cell_type": "code",
   "execution_count": 2,
   "id": "fdcbb12f",
   "metadata": {},
   "outputs": [],
   "source": [
    "sayilar = [5,12,32,43,90,90,98,5]"
   ]
  },
  {
   "cell_type": "code",
   "execution_count": 3,
   "id": "e1c7fd73",
   "metadata": {},
   "outputs": [
    {
     "data": {
      "text/plain": [
       "False"
      ]
     },
     "execution_count": 3,
     "metadata": {},
     "output_type": "execute_result"
    }
   ],
   "source": [
    "numControl(sayilar)"
   ]
  },
  {
   "cell_type": "code",
   "execution_count": 53,
   "id": "e4a00a5e",
   "metadata": {},
   "outputs": [
    {
     "data": {
      "text/plain": [
       "[True, False, False, False, False, False, False, True]"
      ]
     },
     "execution_count": 53,
     "metadata": {},
     "output_type": "execute_result"
    }
   ],
   "source": [
    "list((map(numControl,sayilar)))"
   ]
  },
  {
   "cell_type": "code",
   "execution_count": 58,
   "id": "a6557913",
   "metadata": {},
   "outputs": [
    {
     "data": {
      "text/plain": [
       "[5, 5]"
      ]
     },
     "execution_count": 58,
     "metadata": {},
     "output_type": "execute_result"
    }
   ],
   "source": [
    "list(filter(numControl,sayilar))\n",
    "# true olanları yazdırdı"
   ]
  },
  {
   "cell_type": "markdown",
   "id": "02586dbf",
   "metadata": {},
   "source": [
    "# lambda"
   ]
  },
  {
   "cell_type": "code",
   "execution_count": 59,
   "id": "6864e714",
   "metadata": {},
   "outputs": [],
   "source": [
    "multiplyLambda = lambda num : num * 3"
   ]
  },
  {
   "cell_type": "code",
   "execution_count": 65,
   "id": "9497404a",
   "metadata": {},
   "outputs": [
    {
     "data": {
      "text/plain": [
       "function"
      ]
     },
     "execution_count": 65,
     "metadata": {},
     "output_type": "execute_result"
    }
   ],
   "source": [
    "type(multiplyLambda)\n",
    "# normal fonksiyondan tek farkı tek satırda yazılması"
   ]
  },
  {
   "cell_type": "code",
   "execution_count": 66,
   "id": "1843b72a",
   "metadata": {},
   "outputs": [
    {
     "data": {
      "text/plain": [
       "60"
      ]
     },
     "execution_count": 66,
     "metadata": {},
     "output_type": "execute_result"
    }
   ],
   "source": [
    "multiplyLambda(20)"
   ]
  },
  {
   "cell_type": "code",
   "execution_count": 67,
   "id": "ac022660",
   "metadata": {},
   "outputs": [],
   "source": [
    "result = multiplyLambda(10)\n",
    "# değer de döndürüyor"
   ]
  },
  {
   "cell_type": "code",
   "execution_count": 68,
   "id": "608fa4b4",
   "metadata": {},
   "outputs": [
    {
     "data": {
      "text/plain": [
       "30"
      ]
     },
     "execution_count": 68,
     "metadata": {},
     "output_type": "execute_result"
    }
   ],
   "source": [
    "result"
   ]
  },
  {
   "cell_type": "code",
   "execution_count": 69,
   "id": "aefbea2a",
   "metadata": {},
   "outputs": [],
   "source": [
    "numList = [10,20,30,40,50]"
   ]
  },
  {
   "cell_type": "code",
   "execution_count": 72,
   "id": "dfe28b7f",
   "metadata": {},
   "outputs": [
    {
     "data": {
      "text/plain": [
       "[2.5, 5.0, 7.5, 10.0, 12.5]"
      ]
     },
     "execution_count": 72,
     "metadata": {},
     "output_type": "execute_result"
    }
   ],
   "source": [
    "list(map(lambda num : num / 4,numList))\n",
    "# fonksiyon tanımlamakla uğraşmak istemiyosam lambda kullanabilirim daha kolay ve pratik\n",
    "# fonksiyon tanımlamadan yaptım"
   ]
  },
  {
   "cell_type": "markdown",
   "id": "e2657b68",
   "metadata": {},
   "source": [
    "# scope"
   ]
  },
  {
   "cell_type": "code",
   "execution_count": 78,
   "id": "7ce25c88",
   "metadata": {},
   "outputs": [],
   "source": [
    "x = 20\n",
    "\n",
    "def multiply(num):\n",
    "        x = 5\n",
    "        return num * x\n",
    "# 5 olan x sadece fonksiyonun içinde geçerlidir local değişkendir"
   ]
  },
  {
   "cell_type": "code",
   "execution_count": 76,
   "id": "05685b6c",
   "metadata": {},
   "outputs": [
    {
     "data": {
      "text/plain": [
       "50"
      ]
     },
     "execution_count": 76,
     "metadata": {},
     "output_type": "execute_result"
    }
   ],
   "source": [
    "multiply(10)"
   ]
  },
  {
   "cell_type": "code",
   "execution_count": 77,
   "id": "d57d191b",
   "metadata": {},
   "outputs": [
    {
     "name": "stdout",
     "output_type": "stream",
     "text": [
      "20\n"
     ]
    }
   ],
   "source": [
    "print(x)"
   ]
  },
  {
   "cell_type": "code",
   "execution_count": 79,
   "id": "8701b867",
   "metadata": {},
   "outputs": [
    {
     "data": {
      "text/plain": [
       "15"
      ]
     },
     "execution_count": 79,
     "metadata": {},
     "output_type": "execute_result"
    }
   ],
   "source": [
    "multiply(3)"
   ]
  },
  {
   "cell_type": "code",
   "execution_count": 80,
   "id": "8674a8ae",
   "metadata": {},
   "outputs": [],
   "source": [
    "x = 20\n",
    "\n",
    "def multiply(num):\n",
    "        return num * x"
   ]
  },
  {
   "cell_type": "code",
   "execution_count": 82,
   "id": "63831e79",
   "metadata": {},
   "outputs": [
    {
     "data": {
      "text/plain": [
       "200"
      ]
     },
     "execution_count": 82,
     "metadata": {},
     "output_type": "execute_result"
    }
   ],
   "source": [
    "multiply(10)\n",
    "# fonksiyonda x e yeni değer vermedim global değpişken olan x den değer alarak yaptı"
   ]
  },
  {
   "cell_type": "markdown",
   "id": "459ce2a7",
   "metadata": {},
   "source": [
    "# LEGB L=LOCAL E=ENCLOSİNG G=GLOBAL B=BUİLT İN"
   ]
  },
  {
   "cell_type": "code",
   "execution_count": 95,
   "id": "ec28b2dc",
   "metadata": {},
   "outputs": [],
   "source": [
    "myString = \"mustafa\"   # EN KAPSAMLI OLAN BİRİM\n",
    "def myFunction():\n",
    "    #EN KÜÇÜĞÜN BİR BÜYÜĞÜ \n",
    "    myString = \"mustafa2\"\n",
    "    print(myString)\n",
    "    \n",
    "    def myFunction2():\n",
    "        #LOCAL EN KÜÇÜK BİRİM\n",
    "        myString = \"mustafa3\"\n",
    "        print(myString) # bir değişken  yazdırılacagı zaman kendine en yakın olan birimdeki değişkeni baz alır\n",
    "    myFunction2()"
   ]
  },
  {
   "cell_type": "code",
   "execution_count": 91,
   "id": "ebb83265",
   "metadata": {},
   "outputs": [
    {
     "data": {
      "text/plain": [
       "'mustafa'"
      ]
     },
     "execution_count": 91,
     "metadata": {},
     "output_type": "execute_result"
    }
   ],
   "source": [
    "myString"
   ]
  },
  {
   "cell_type": "code",
   "execution_count": 92,
   "id": "d1afa0cb",
   "metadata": {},
   "outputs": [
    {
     "name": "stdout",
     "output_type": "stream",
     "text": [
      "mustafa2\n",
      "mustafa3\n"
     ]
    }
   ],
   "source": [
    "myFunction()"
   ]
  },
  {
   "cell_type": "code",
   "execution_count": 93,
   "id": "679c0f82",
   "metadata": {},
   "outputs": [
    {
     "data": {
      "text/plain": [
       "'mustafa'"
      ]
     },
     "execution_count": 93,
     "metadata": {},
     "output_type": "execute_result"
    }
   ],
   "source": [
    "myString"
   ]
  },
  {
   "cell_type": "code",
   "execution_count": 102,
   "id": "7e4fd954",
   "metadata": {},
   "outputs": [],
   "source": [
    "myString = \"mustafa\"   # global EN KAPSAMLI OLAN BİRİM\n",
    "def myFunction():\n",
    "    # enclosing EN KÜÇÜĞÜN BİR BÜYÜĞÜ \n",
    "    myString = \"mustafa2\"\n",
    "    print(myString)\n",
    "    \n",
    "    def myFunction2():\n",
    "        # local EN KÜÇÜK BİRİM\n",
    "        #myString = \"mustafa3\"\n",
    "        print(myString) # bir değişken  yazdırılacagı zaman kendine en yakın olan birimdeki değişkeni baz alır\n",
    "    myFunction2()"
   ]
  },
  {
   "cell_type": "code",
   "execution_count": 100,
   "id": "9d3d0a57",
   "metadata": {},
   "outputs": [
    {
     "name": "stdout",
     "output_type": "stream",
     "text": [
      "mustafa2\n",
      "mustafa2\n"
     ]
    }
   ],
   "source": [
    "myFunction() # en küçük birimdeki stringi iptal ettiğim için kendine en yakın olan stringi baz aldı"
   ]
  },
  {
   "cell_type": "code",
   "execution_count": 101,
   "id": "8c9ed775",
   "metadata": {},
   "outputs": [],
   "source": [
    "# bütün birimlere teker teker bakar değişkenin karşılığını bulamazsa hata verir"
   ]
  },
  {
   "cell_type": "code",
   "execution_count": 103,
   "id": "2c537558",
   "metadata": {},
   "outputs": [],
   "source": [
    "# hangi kapsamda neyi tanımladıgına dikkat et bir değişkeni bikaç kez tanımlayıp hataya sebep olma"
   ]
  },
  {
   "cell_type": "code",
   "execution_count": 105,
   "id": "12108c06",
   "metadata": {},
   "outputs": [],
   "source": [
    "def test1():\n",
    "    myVariable = 10\n",
    "    print(myVariable * 2)"
   ]
  },
  {
   "cell_type": "code",
   "execution_count": 106,
   "id": "d0fc177e",
   "metadata": {},
   "outputs": [],
   "source": [
    "def test2():\n",
    "    print(myVariable * 3)"
   ]
  },
  {
   "cell_type": "code",
   "execution_count": 108,
   "id": "4ec27fb8",
   "metadata": {},
   "outputs": [],
   "source": [
    "# test2() böyle yaparsam hata verir çünkü test 2 fonksiyonunda kullanacagım değişkeni local değişken olarak test 1 de tanımladığım için test 2 de o değişken gözükmedi"
   ]
  },
  {
   "cell_type": "code",
   "execution_count": 109,
   "id": "8afb98ca",
   "metadata": {},
   "outputs": [],
   "source": [
    "# myVariable yi test 1 in dışında tanımlasaydım sorunsuz çalışırdı"
   ]
  },
  {
   "cell_type": "code",
   "execution_count": 110,
   "id": "8f81666b",
   "metadata": {},
   "outputs": [],
   "source": [
    "y = 10\n",
    "def newFunction(y):\n",
    "    print(y)\n",
    "    y = 5\n",
    "    print(y)\n",
    "    return y\n"
   ]
  },
  {
   "cell_type": "code",
   "execution_count": 111,
   "id": "639cbd58",
   "metadata": {},
   "outputs": [
    {
     "name": "stdout",
     "output_type": "stream",
     "text": [
      "20\n",
      "5\n"
     ]
    },
    {
     "data": {
      "text/plain": [
       "5"
      ]
     },
     "execution_count": 111,
     "metadata": {},
     "output_type": "execute_result"
    }
   ],
   "source": [
    "newFunction(20) # buradaki 20 sadece local fonksiyonun içinde geçerli"
   ]
  },
  {
   "cell_type": "code",
   "execution_count": 113,
   "id": "fe59468a",
   "metadata": {},
   "outputs": [
    {
     "data": {
      "text/plain": [
       "10"
      ]
     },
     "execution_count": 113,
     "metadata": {},
     "output_type": "execute_result"
    }
   ],
   "source": [
    "y # y nin değeri hala 10"
   ]
  },
  {
   "cell_type": "code",
   "execution_count": 121,
   "id": "e0d3cb68",
   "metadata": {},
   "outputs": [],
   "source": [
    "y = 10\n",
    "def changeY():\n",
    "    global y\n",
    "    y = 5\n",
    "    print(y)\n",
    "# NOTTTT: başa getirecegim global eklentisiyle local bir yerden global değişkeni değiştirebilirim"
   ]
  },
  {
   "cell_type": "code",
   "execution_count": 122,
   "id": "f35a6e00",
   "metadata": {},
   "outputs": [
    {
     "name": "stdout",
     "output_type": "stream",
     "text": [
      "5\n"
     ]
    }
   ],
   "source": [
    "changeY()"
   ]
  },
  {
   "cell_type": "code",
   "execution_count": 123,
   "id": "c8f19357",
   "metadata": {},
   "outputs": [
    {
     "data": {
      "text/plain": [
       "5"
      ]
     },
     "execution_count": 123,
     "metadata": {},
     "output_type": "execute_result"
    }
   ],
   "source": [
    "y "
   ]
  },
  {
   "cell_type": "code",
   "execution_count": 124,
   "id": "c8fd57b7",
   "metadata": {},
   "outputs": [],
   "source": [
    "musdi = 125"
   ]
  },
  {
   "cell_type": "code",
   "execution_count": 126,
   "id": "df33656c",
   "metadata": {},
   "outputs": [],
   "source": [
    "def musdideğiştir():\n",
    "    global musdi\n",
    "    musdi = 150"
   ]
  },
  {
   "cell_type": "code",
   "execution_count": 128,
   "id": "0e63129b",
   "metadata": {},
   "outputs": [
    {
     "name": "stdout",
     "output_type": "stream",
     "text": [
      "150\n",
      "150\n"
     ]
    }
   ],
   "source": [
    "print(musdi)\n",
    "musdideğiştir()\n",
    "print(musdi)\n",
    "# aradaki fonksiyonla fonksiyonun içinden global değişkeni değiştirdim"
   ]
  },
  {
   "cell_type": "code",
   "execution_count": null,
   "id": "af72738c",
   "metadata": {},
   "outputs": [],
   "source": []
  }
 ],
 "metadata": {
  "kernelspec": {
   "display_name": "Python 3 (ipykernel)",
   "language": "python",
   "name": "python3"
  },
  "language_info": {
   "codemirror_mode": {
    "name": "ipython",
    "version": 3
   },
   "file_extension": ".py",
   "mimetype": "text/x-python",
   "name": "python",
   "nbconvert_exporter": "python",
   "pygments_lexer": "ipython3",
   "version": "3.11.5"
  }
 },
 "nbformat": 4,
 "nbformat_minor": 5
}
