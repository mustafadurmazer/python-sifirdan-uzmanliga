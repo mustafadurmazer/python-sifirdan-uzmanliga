{
 "cells": [
  {
   "cell_type": "code",
   "execution_count": 1,
   "id": "67a2794b",
   "metadata": {},
   "outputs": [
    {
     "name": "stdout",
     "output_type": "stream",
     "text": [
      "enter age :12\n"
     ]
    }
   ],
   "source": [
    "age = input(\"enter age :\")\n"
   ]
  },
  {
   "cell_type": "code",
   "execution_count": 2,
   "id": "c442c43a",
   "metadata": {},
   "outputs": [
    {
     "data": {
      "text/plain": [
       "'12'"
      ]
     },
     "execution_count": 2,
     "metadata": {},
     "output_type": "execute_result"
    }
   ],
   "source": [
    "age"
   ]
  },
  {
   "cell_type": "code",
   "execution_count": 3,
   "id": "8cd4ce8a",
   "metadata": {},
   "outputs": [
    {
     "data": {
      "text/plain": [
       "24"
      ]
     },
     "execution_count": 3,
     "metadata": {},
     "output_type": "execute_result"
    }
   ],
   "source": [
    "int(age) * 2"
   ]
  },
  {
   "cell_type": "code",
   "execution_count": 4,
   "id": "31f0e8bd",
   "metadata": {},
   "outputs": [],
   "source": [
    "# try except"
   ]
  },
  {
   "cell_type": "code",
   "execution_count": 5,
   "id": "32e063e8",
   "metadata": {},
   "outputs": [
    {
     "name": "stdout",
     "output_type": "stream",
     "text": [
      "enter age :\n",
      "enter your age!!!!\n",
      "finally\n",
      "enter age :mustafa\n",
      "enter your age!!!!\n",
      "finally\n",
      "enter age :12\n",
      "24\n",
      "finally\n"
     ]
    }
   ],
   "source": [
    "while 1:\n",
    "    try: \n",
    "        myAge = int(input(\"enter age :\"))\n",
    "        print(myAge * 2)\n",
    "        break \n",
    "        # break kısmını else nin altına ekleseydim çalşacaktı ama gerek yok olmasada olur\n",
    "        # genelde kullanılmaz\n",
    "    except: # hata aldıgında aşagıdaki satırı yazdırır\n",
    "        print(\"enter your age!!!!\")\n",
    "# kullanıcı yaşını girene kadar soracak \n",
    "    else:\n",
    "            print(\"else executed\")\n",
    "    finally:\n",
    "            print(\"finally\") # finally her zaman çalışır\n",
    "#GENELDE HATTA YUZDE 90 TRY VE EXCEPT KULLANILIR"
   ]
  },
  {
   "cell_type": "code",
   "execution_count": 6,
   "id": "b98a9638",
   "metadata": {},
   "outputs": [],
   "source": [
    "# try ve except try kısmına olmasını istediğim şeyi yazıyorum except kısmına da istediğim olmazsa ne olacagını yazıyorum"
   ]
  },
  {
   "cell_type": "code",
   "execution_count": 7,
   "id": "abf63c13",
   "metadata": {},
   "outputs": [],
   "source": [
    "#except yazıp hata kodunu yazabilirdim ve o hata oldugunda çalışırdı ama\n",
    "#her hataya karşı çalışsın diye bişey yaazmadım"
   ]
  },
  {
   "cell_type": "code",
   "execution_count": 8,
   "id": "4a351d26",
   "metadata": {},
   "outputs": [],
   "source": [
    "# while döngüsüyle istediğim sonucu alana kadar çalışacak\n"
   ]
  },
  {
   "cell_type": "code",
   "execution_count": null,
   "id": "f45f357a",
   "metadata": {},
   "outputs": [],
   "source": []
  }
 ],
 "metadata": {
  "kernelspec": {
   "display_name": "Python 3 (ipykernel)",
   "language": "python",
   "name": "python3"
  },
  "language_info": {
   "codemirror_mode": {
    "name": "ipython",
    "version": 3
   },
   "file_extension": ".py",
   "mimetype": "text/x-python",
   "name": "python",
   "nbconvert_exporter": "python",
   "pygments_lexer": "ipython3",
   "version": "3.11.5"
  }
 },
 "nbformat": 4,
 "nbformat_minor": 5
}
