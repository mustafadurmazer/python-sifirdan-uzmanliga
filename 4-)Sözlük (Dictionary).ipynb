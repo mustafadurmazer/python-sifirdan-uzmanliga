{
 "cells": [
  {
   "cell_type": "code",
   "execution_count": 7,
   "id": "e215ace0",
   "metadata": {},
   "outputs": [],
   "source": [
    "fruit_list = [\"banana\",\"apple\"]"
   ]
  },
  {
   "cell_type": "code",
   "execution_count": 2,
   "id": "edc8b48b",
   "metadata": {},
   "outputs": [],
   "source": [
    "calorie_list= [100,150]"
   ]
  },
  {
   "cell_type": "code",
   "execution_count": 8,
   "id": "a192a90c",
   "metadata": {},
   "outputs": [
    {
     "data": {
      "text/plain": [
       "'banane'"
      ]
     },
     "execution_count": 8,
     "metadata": {},
     "output_type": "execute_result"
    }
   ],
   "source": [
    "fruit_list[0]"
   ]
  },
  {
   "cell_type": "code",
   "execution_count": 9,
   "id": "f00175b5",
   "metadata": {},
   "outputs": [
    {
     "data": {
      "text/plain": [
       "100"
      ]
     },
     "execution_count": 9,
     "metadata": {},
     "output_type": "execute_result"
    }
   ],
   "source": [
    "calorie_list[0]"
   ]
  },
  {
   "cell_type": "code",
   "execution_count": 10,
   "id": "ae0adee0",
   "metadata": {},
   "outputs": [],
   "source": [
    "fitness_dictionary = {\"banana\":100,\"apple\":150} #bunu yaparak 2 indexteki verileri birleştiriyoruz."
   ]
  },
  {
   "cell_type": "code",
   "execution_count": 12,
   "id": "150505eb",
   "metadata": {},
   "outputs": [
    {
     "data": {
      "text/plain": [
       "dict"
      ]
     },
     "execution_count": 12,
     "metadata": {},
     "output_type": "execute_result"
    }
   ],
   "source": [
    "type(fitness_dictionary) #2 indexteki verileri birleştiriyosak tipi dict olur"
   ]
  },
  {
   "cell_type": "code",
   "execution_count": null,
   "id": "d1d1e761",
   "metadata": {},
   "outputs": [],
   "source": [
    "fitness_dictionary[0] #denilemez.bu bir index değildir"
   ]
  },
  {
   "cell_type": "code",
   "execution_count": 14,
   "id": "24b390e2",
   "metadata": {},
   "outputs": [
    {
     "data": {
      "text/plain": [
       "100"
      ]
     },
     "execution_count": 14,
     "metadata": {},
     "output_type": "execute_result"
    }
   ],
   "source": [
    "fitness_dictionary[\"banana\"] #banana yı 100 ile eşleştirdiğim için 100 yazdırdı"
   ]
  },
  {
   "cell_type": "code",
   "execution_count": 15,
   "id": "1a0ee9fb",
   "metadata": {},
   "outputs": [
    {
     "data": {
      "text/plain": [
       "150"
      ]
     },
     "execution_count": 15,
     "metadata": {},
     "output_type": "execute_result"
    }
   ],
   "source": [
    "fitness_dictionary[\"apple\"]"
   ]
  },
  {
   "cell_type": "code",
   "execution_count": 17,
   "id": "9d941a94",
   "metadata": {},
   "outputs": [
    {
     "data": {
      "text/plain": [
       "dict_keys(['banana', 'apple'])"
      ]
     },
     "execution_count": 17,
     "metadata": {},
     "output_type": "execute_result"
    }
   ],
   "source": [
    " fitness_dictionary.keys() #dict imdeki anahtarları vermek için kullanılır"
   ]
  },
  {
   "cell_type": "code",
   "execution_count": 18,
   "id": "49e1eacc",
   "metadata": {},
   "outputs": [
    {
     "data": {
      "text/plain": [
       "dict_values([100, 150])"
      ]
     },
     "execution_count": 18,
     "metadata": {},
     "output_type": "execute_result"
    }
   ],
   "source": [
    "fitness_dictionary.values() #anahtarlara atadıgımız değerleri gösterir"
   ]
  },
  {
   "cell_type": "code",
   "execution_count": 19,
   "id": "a248b6e0",
   "metadata": {},
   "outputs": [
    {
     "data": {
      "text/plain": [
       "dict_values"
      ]
     },
     "execution_count": 19,
     "metadata": {},
     "output_type": "execute_result"
    }
   ],
   "source": [
    "type(fitness_dictionary.values())"
   ]
  },
  {
   "cell_type": "code",
   "execution_count": 20,
   "id": "0fbba22f",
   "metadata": {},
   "outputs": [
    {
     "data": {
      "text/plain": [
       "[100, 150]"
      ]
     },
     "execution_count": 20,
     "metadata": {},
     "output_type": "execute_result"
    }
   ],
   "source": [
    "list(fitness_dictionary.values()) #anahtarlara atadıgımız değerleri listeye aktardık"
   ]
  },
  {
   "cell_type": "code",
   "execution_count": 23,
   "id": "c6fd2ce4",
   "metadata": {},
   "outputs": [
    {
     "data": {
      "text/plain": [
       "['banana', 'apple']"
      ]
     },
     "execution_count": 23,
     "metadata": {},
     "output_type": "execute_result"
    }
   ],
   "source": [
    "list(fitness_dictionary.keys()) #anahtarları stringe çevirdim"
   ]
  },
  {
   "cell_type": "code",
   "execution_count": 24,
   "id": "42619e18",
   "metadata": {},
   "outputs": [
    {
     "data": {
      "text/plain": [
       "{'banana': 100, 'apple': 150}"
      ]
     },
     "execution_count": 24,
     "metadata": {},
     "output_type": "execute_result"
    }
   ],
   "source": [
    "fitness_dictionary"
   ]
  },
  {
   "cell_type": "code",
   "execution_count": 25,
   "id": "10eb2723",
   "metadata": {},
   "outputs": [],
   "source": [
    "fitness_dictionary[\"banana\"] = 250 #anahtara atadıgım değeri bu şekilde değiştirebiliyorum."
   ]
  },
  {
   "cell_type": "code",
   "execution_count": 26,
   "id": "effd6eec",
   "metadata": {},
   "outputs": [
    {
     "data": {
      "text/plain": [
       "{'banana': 250, 'apple': 150}"
      ]
     },
     "execution_count": 26,
     "metadata": {},
     "output_type": "execute_result"
    }
   ],
   "source": [
    "fitness_dictionary #burada değişti"
   ]
  },
  {
   "cell_type": "code",
   "execution_count": 27,
   "id": "dda2a5e5",
   "metadata": {},
   "outputs": [],
   "source": [
    "fitness_dictionary[\"melon\"] = 400 #yeni bir anahtarı bu şekilde ekleyebiliriz"
   ]
  },
  {
   "cell_type": "code",
   "execution_count": 28,
   "id": "30339e1a",
   "metadata": {},
   "outputs": [
    {
     "data": {
      "text/plain": [
       "{'banana': 250, 'apple': 150, 'melon': 400}"
      ]
     },
     "execution_count": 28,
     "metadata": {},
     "output_type": "execute_result"
    }
   ],
   "source": [
    "fitness_dictionary"
   ]
  },
  {
   "cell_type": "code",
   "execution_count": 29,
   "id": "bb3853fc",
   "metadata": {},
   "outputs": [
    {
     "name": "stdout",
     "output_type": "stream",
     "text": [
      "Help on built-in function get:\n",
      "\n",
      "get(key, default=None, /) method of builtins.dict instance\n",
      "    Return the value for key if key is in the dictionary, else default.\n",
      "\n"
     ]
    }
   ],
   "source": [
    "help(fitness_dictionary.get)"
   ]
  },
  {
   "cell_type": "code",
   "execution_count": 32,
   "id": "3d11ccd4",
   "metadata": {},
   "outputs": [
    {
     "data": {
      "text/plain": [
       "150"
      ]
     },
     "execution_count": 32,
     "metadata": {},
     "output_type": "execute_result"
    }
   ],
   "source": [
    "fitness_dictionary.get(\"apple\",0) #uygulama çökmesin diye anahtar değer eşleştirmesi yapıyor"
   ]
  },
  {
   "cell_type": "code",
   "execution_count": 36,
   "id": "e857e444",
   "metadata": {},
   "outputs": [],
   "source": [
    "my_dictionary = {100:\"a\",200:\"b\",300:\"c\"}"
   ]
  },
  {
   "cell_type": "code",
   "execution_count": 37,
   "id": "83d07384",
   "metadata": {},
   "outputs": [
    {
     "data": {
      "text/plain": [
       "'a'"
      ]
     },
     "execution_count": 37,
     "metadata": {},
     "output_type": "execute_result"
    }
   ],
   "source": [
    "my_dictionary[100]"
   ]
  },
  {
   "cell_type": "code",
   "execution_count": 39,
   "id": "7f8a3a66",
   "metadata": {},
   "outputs": [
    {
     "data": {
      "text/plain": [
       "[100, 200, 300]"
      ]
     },
     "execution_count": 39,
     "metadata": {},
     "output_type": "execute_result"
    }
   ],
   "source": [
    "list(my_dictionary.keys()) #buradaki anahtarları listeye atadım"
   ]
  },
  {
   "cell_type": "code",
   "execution_count": 40,
   "id": "6664140d",
   "metadata": {},
   "outputs": [],
   "source": [
    "# anahtarlar her zaman string olmak zorunda değil int de olabilir."
   ]
  },
  {
   "cell_type": "code",
   "execution_count": 45,
   "id": "368a1886",
   "metadata": {},
   "outputs": [],
   "source": [
    " # my_dictionary[\"b\"] yazamam anahtar değeri verir değer anahtarı vemez"
   ]
  },
  {
   "cell_type": "code",
   "execution_count": 51,
   "id": "ce7ec013",
   "metadata": {},
   "outputs": [],
   "source": [
    "my_dictionary = {\"key1\":\"value1\",\"key2\":\"value2\",\"key3\":\"value3\"}"
   ]
  },
  {
   "cell_type": "code",
   "execution_count": 53,
   "id": "6cb48a23",
   "metadata": {},
   "outputs": [
    {
     "data": {
      "text/plain": [
       "dict_keys(['key1', 'key2', 'key3'])"
      ]
     },
     "execution_count": 53,
     "metadata": {},
     "output_type": "execute_result"
    }
   ],
   "source": [
    "my_dictionary.keys() # anahtarda değerde string ve int olabilir."
   ]
  },
  {
   "cell_type": "code",
   "execution_count": 55,
   "id": "9685e28a",
   "metadata": {},
   "outputs": [],
   "source": [
    "my_mixed_dictionary = {\"key1\":100,\"key2\":3.14,\"key3\":[10,20,30]}"
   ]
  },
  {
   "cell_type": "code",
   "execution_count": 56,
   "id": "81de9181",
   "metadata": {},
   "outputs": [
    {
     "data": {
      "text/plain": [
       "dict_keys(['key1', 'key2', 'key3'])"
      ]
     },
     "execution_count": 56,
     "metadata": {},
     "output_type": "execute_result"
    }
   ],
   "source": [
    "my_mixed_dictionary.keys() # anahtarın karşılığı değer listede olur fark etmez"
   ]
  },
  {
   "cell_type": "code",
   "execution_count": 57,
   "id": "af49fab0",
   "metadata": {},
   "outputs": [
    {
     "data": {
      "text/plain": [
       "[10, 20, 30]"
      ]
     },
     "execution_count": 57,
     "metadata": {},
     "output_type": "execute_result"
    }
   ],
   "source": [
    "my_mixed_dictionary[\"key3\"] #listeyi de verebilir fark etmez"
   ]
  },
  {
   "cell_type": "code",
   "execution_count": 58,
   "id": "0bc25218",
   "metadata": {},
   "outputs": [
    {
     "data": {
      "text/plain": [
       "3.14"
      ]
     },
     "execution_count": 58,
     "metadata": {},
     "output_type": "execute_result"
    }
   ],
   "source": [
    "my_mixed_dictionary[\"key2\"]"
   ]
  },
  {
   "cell_type": "code",
   "execution_count": 60,
   "id": "985bc765",
   "metadata": {},
   "outputs": [
    {
     "data": {
      "text/plain": [
       "20"
      ]
     },
     "execution_count": 60,
     "metadata": {},
     "output_type": "execute_result"
    }
   ],
   "source": [
    "my_mixed_dictionary[\"key3\"][1] #listedeki 1.indisli elemanı yazdırdı"
   ]
  },
  {
   "cell_type": "code",
   "execution_count": 61,
   "id": "4b7a1805",
   "metadata": {},
   "outputs": [],
   "source": [
    "last_dictionary = {\"k1\":10,\"k2\":[10,20,30,40,50],\"k3\":\"string\",\"k4\":{\"a\":100,\"b\":200}}"
   ]
  },
  {
   "cell_type": "code",
   "execution_count": 65,
   "id": "f71eae96",
   "metadata": {
    "scrolled": true
   },
   "outputs": [
    {
     "data": {
      "text/plain": [
       "200"
      ]
     },
     "execution_count": 65,
     "metadata": {},
     "output_type": "execute_result"
    }
   ],
   "source": [
    "last_dictionary[\"k4\"][\"b\"] #dict in içindeki dict teki anahtara erişip değerini aldım"
   ]
  },
  {
   "cell_type": "code",
   "execution_count": 66,
   "id": "21764b9e",
   "metadata": {},
   "outputs": [
    {
     "data": {
      "text/plain": [
       "40"
      ]
     },
     "execution_count": 66,
     "metadata": {},
     "output_type": "execute_result"
    }
   ],
   "source": [
    "last_dictionary[\"k2\"][3] #dict in içindeki list deki 3.indexli elemanı aldım"
   ]
  },
  {
   "cell_type": "code",
   "execution_count": null,
   "id": "0c273e1b",
   "metadata": {},
   "outputs": [],
   "source": []
  }
 ],
 "metadata": {
  "kernelspec": {
   "display_name": "Python 3 (ipykernel)",
   "language": "python",
   "name": "python3"
  },
  "language_info": {
   "codemirror_mode": {
    "name": "ipython",
    "version": 3
   },
   "file_extension": ".py",
   "mimetype": "text/x-python",
   "name": "python",
   "nbconvert_exporter": "python",
   "pygments_lexer": "ipython3",
   "version": "3.11.5"
  }
 },
 "nbformat": 4,
 "nbformat_minor": 5
}
